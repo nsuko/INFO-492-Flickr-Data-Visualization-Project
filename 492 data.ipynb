{
 "cells": [
  {
   "cell_type": "code",
   "execution_count": 33,
   "id": "99fc22f4-8ec0-4c30-ba3e-e3811fc2e8c5",
   "metadata": {},
   "outputs": [],
   "source": [
    "import flickrapi\n",
    "import pandas as pd\n",
    "import seaborn as sns"
   ]
  },
  {
   "cell_type": "code",
   "execution_count": 11,
   "id": "0bcf2c47-6424-4063-8380-917aab636645",
   "metadata": {},
   "outputs": [],
   "source": [
    "api_key = '73d221be5e1cc2745319e4a7e39255bd'\n",
    "api_secret = '541f10a0ea821424'"
   ]
  },
  {
   "cell_type": "code",
   "execution_count": 20,
   "id": "2323afeb-a603-457a-9dc7-0d2c39cf1f31",
   "metadata": {},
   "outputs": [],
   "source": [
    "flickr = flickrapi.FlickrAPI(api_key, api_secret, format='parsed-json')\n",
    "flickr.authenticate_via_browser(perms='read')\n"
   ]
  },
  {
   "cell_type": "code",
   "execution_count": 51,
   "id": "0ef28b09-d3cf-49a0-bc23-4837f624420f",
   "metadata": {},
   "outputs": [],
   "source": [
    "photos = flickr.photos.search(min_upload_date='2020-01-01', max_upload_date='2020-12-31', hasgeo=1, extras='geo, tags')"
   ]
  },
  {
   "cell_type": "code",
   "execution_count": 52,
   "id": "e1abbe86-e325-469c-a5b2-243741efad43",
   "metadata": {},
   "outputs": [],
   "source": [
    "data = pd.DataFrame(photos['photos']['photo']).drop(columns=['owner','secret','server','farm', 'woeid', 'geo_is_public','geo_is_friend','geo_is_contact','geo_is_family'])"
   ]
  },
  {
   "cell_type": "code",
   "execution_count": 53,
   "id": "9f434c9f-f106-4ee1-a784-05cf6bb899e2",
   "metadata": {},
   "outputs": [
    {
     "data": {
      "text/html": [
       "<div>\n",
       "<style scoped>\n",
       "    .dataframe tbody tr th:only-of-type {\n",
       "        vertical-align: middle;\n",
       "    }\n",
       "\n",
       "    .dataframe tbody tr th {\n",
       "        vertical-align: top;\n",
       "    }\n",
       "\n",
       "    .dataframe thead th {\n",
       "        text-align: right;\n",
       "    }\n",
       "</style>\n",
       "<table border=\"1\" class=\"dataframe\">\n",
       "  <thead>\n",
       "    <tr style=\"text-align: right;\">\n",
       "      <th></th>\n",
       "      <th>id</th>\n",
       "      <th>title</th>\n",
       "      <th>ispublic</th>\n",
       "      <th>isfriend</th>\n",
       "      <th>isfamily</th>\n",
       "      <th>tags</th>\n",
       "      <th>latitude</th>\n",
       "      <th>longitude</th>\n",
       "      <th>accuracy</th>\n",
       "      <th>context</th>\n",
       "      <th>place_id</th>\n",
       "    </tr>\n",
       "  </thead>\n",
       "  <tbody>\n",
       "    <tr>\n",
       "      <th>0</th>\n",
       "      <td>50781327637</td>\n",
       "      <td>TMYN8465</td>\n",
       "      <td>1</td>\n",
       "      <td>0</td>\n",
       "      <td>0</td>\n",
       "      <td></td>\n",
       "      <td>45.482702</td>\n",
       "      <td>-122.572264</td>\n",
       "      <td>16</td>\n",
       "      <td>0</td>\n",
       "      <td></td>\n",
       "    </tr>\n",
       "    <tr>\n",
       "      <th>1</th>\n",
       "      <td>50780699401</td>\n",
       "      <td>Kearny Station</td>\n",
       "      <td>1</td>\n",
       "      <td>0</td>\n",
       "      <td>0</td>\n",
       "      <td>new jersey kearny nj power plant station pseg ...</td>\n",
       "      <td>40.736998</td>\n",
       "      <td>-74.096410</td>\n",
       "      <td>15</td>\n",
       "      <td>0</td>\n",
       "      <td></td>\n",
       "    </tr>\n",
       "    <tr>\n",
       "      <th>2</th>\n",
       "      <td>50777491641</td>\n",
       "      <td>moon over the bay</td>\n",
       "      <td>1</td>\n",
       "      <td>0</td>\n",
       "      <td>0</td>\n",
       "      <td></td>\n",
       "      <td>37.764694</td>\n",
       "      <td>-122.437495</td>\n",
       "      <td>16</td>\n",
       "      <td>0</td>\n",
       "      <td></td>\n",
       "    </tr>\n",
       "    <tr>\n",
       "      <th>3</th>\n",
       "      <td>50776802446</td>\n",
       "      <td>Dec 2020 107</td>\n",
       "      <td>1</td>\n",
       "      <td>0</td>\n",
       "      <td>0</td>\n",
       "      <td>dec2020</td>\n",
       "      <td>44.467422</td>\n",
       "      <td>-72.055175</td>\n",
       "      <td>16</td>\n",
       "      <td>0</td>\n",
       "      <td></td>\n",
       "    </tr>\n",
       "    <tr>\n",
       "      <th>4</th>\n",
       "      <td>50774546088</td>\n",
       "      <td>Expanse of New Carpet</td>\n",
       "      <td>1</td>\n",
       "      <td>0</td>\n",
       "      <td>0</td>\n",
       "      <td>365libs lesterpubliclibrary librariesandlibrar...</td>\n",
       "      <td>44.143552</td>\n",
       "      <td>-87.569341</td>\n",
       "      <td>15</td>\n",
       "      <td>0</td>\n",
       "      <td></td>\n",
       "    </tr>\n",
       "  </tbody>\n",
       "</table>\n",
       "</div>"
      ],
      "text/plain": [
       "            id                  title  ispublic  isfriend  isfamily  \\\n",
       "0  50781327637               TMYN8465         1         0         0   \n",
       "1  50780699401         Kearny Station         1         0         0   \n",
       "2  50777491641      moon over the bay         1         0         0   \n",
       "3  50776802446           Dec 2020 107         1         0         0   \n",
       "4  50774546088  Expanse of New Carpet         1         0         0   \n",
       "\n",
       "                                                tags   latitude    longitude  \\\n",
       "0                                                     45.482702  -122.572264   \n",
       "1  new jersey kearny nj power plant station pseg ...  40.736998   -74.096410   \n",
       "2                                                     37.764694  -122.437495   \n",
       "3                                            dec2020  44.467422   -72.055175   \n",
       "4  365libs lesterpubliclibrary librariesandlibrar...  44.143552   -87.569341   \n",
       "\n",
       "  accuracy  context place_id  \n",
       "0       16        0           \n",
       "1       15        0           \n",
       "2       16        0           \n",
       "3       16        0           \n",
       "4       15        0           "
      ]
     },
     "execution_count": 53,
     "metadata": {},
     "output_type": "execute_result"
    }
   ],
   "source": [
    "data.head()"
   ]
  },
  {
   "cell_type": "code",
   "execution_count": null,
   "id": "35877ed5-e751-486b-ae04-dfd3c5fe5ce3",
   "metadata": {},
   "outputs": [],
   "source": []
  },
  {
   "cell_type": "code",
   "execution_count": null,
   "id": "cefabed0-b4bd-4400-954d-96c9234f8e98",
   "metadata": {},
   "outputs": [],
   "source": []
  }
 ],
 "metadata": {
  "kernelspec": {
   "display_name": "Python 3 (ipykernel)",
   "language": "python",
   "name": "python3"
  },
  "language_info": {
   "codemirror_mode": {
    "name": "ipython",
    "version": 3
   },
   "file_extension": ".py",
   "mimetype": "text/x-python",
   "name": "python",
   "nbconvert_exporter": "python",
   "pygments_lexer": "ipython3",
   "version": "3.12.7"
  }
 },
 "nbformat": 4,
 "nbformat_minor": 5
}
