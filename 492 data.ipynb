{
 "cells": [
  {
   "cell_type": "code",
   "execution_count": 52,
   "id": "99fc22f4-8ec0-4c30-ba3e-e3811fc2e8c5",
   "metadata": {},
   "outputs": [],
   "source": [
    "import flickrapi\n",
    "import pandas as pd\n",
    "import seaborn as sns\n",
    "import numpy as np"
   ]
  },
  {
   "cell_type": "code",
   "execution_count": 5,
   "id": "0bcf2c47-6424-4063-8380-917aab636645",
   "metadata": {},
   "outputs": [],
   "source": [
    "api_key = '73d221be5e1cc2745319e4a7e39255bd'\n",
    "api_secret = '541f10a0ea821424'"
   ]
  },
  {
   "cell_type": "code",
   "execution_count": 6,
   "id": "2323afeb-a603-457a-9dc7-0d2c39cf1f31",
   "metadata": {},
   "outputs": [],
   "source": [
    "## Authenticates flickr API token\n",
    "flickr = flickrapi.FlickrAPI(api_key, api_secret, format='parsed-json')\n",
    "flickr.authenticate_via_browser(perms='read')\n"
   ]
  },
  {
   "cell_type": "code",
   "execution_count": 8,
   "id": "0ef28b09-d3cf-49a0-bc23-4837f624420f",
   "metadata": {},
   "outputs": [],
   "source": [
    "## Pulls data from API\n",
    "photos = flickr.photos.search(min_upload_date='2020-01-01', max_upload_date='2020-12-31', hasgeo=1, extras='geo, tags, url_s')"
   ]
  },
  {
   "cell_type": "code",
   "execution_count": 9,
   "id": "e1abbe86-e325-469c-a5b2-243741efad43",
   "metadata": {},
   "outputs": [],
   "source": [
    "## Converts data into pandas dataframe for easier analysis\n",
    "data = pd.DataFrame(photos['photos']['photo']).drop(columns=['owner','secret','server','farm', 'woeid', 'geo_is_public','geo_is_friend','geo_is_contact','geo_is_family'])"
   ]
  },
  {
   "cell_type": "code",
   "execution_count": 10,
   "id": "9f434c9f-f106-4ee1-a784-05cf6bb899e2",
   "metadata": {},
   "outputs": [
    {
     "data": {
      "text/html": [
       "<div>\n",
       "<style scoped>\n",
       "    .dataframe tbody tr th:only-of-type {\n",
       "        vertical-align: middle;\n",
       "    }\n",
       "\n",
       "    .dataframe tbody tr th {\n",
       "        vertical-align: top;\n",
       "    }\n",
       "\n",
       "    .dataframe thead th {\n",
       "        text-align: right;\n",
       "    }\n",
       "</style>\n",
       "<table border=\"1\" class=\"dataframe\">\n",
       "  <thead>\n",
       "    <tr style=\"text-align: right;\">\n",
       "      <th></th>\n",
       "      <th>id</th>\n",
       "      <th>title</th>\n",
       "      <th>ispublic</th>\n",
       "      <th>isfriend</th>\n",
       "      <th>isfamily</th>\n",
       "      <th>tags</th>\n",
       "      <th>latitude</th>\n",
       "      <th>longitude</th>\n",
       "      <th>accuracy</th>\n",
       "      <th>context</th>\n",
       "      <th>place_id</th>\n",
       "      <th>url_s</th>\n",
       "      <th>height_s</th>\n",
       "      <th>width_s</th>\n",
       "    </tr>\n",
       "  </thead>\n",
       "  <tbody>\n",
       "    <tr>\n",
       "      <th>0</th>\n",
       "      <td>50780604273</td>\n",
       "      <td>Althea the Therapist is In</td>\n",
       "      <td>1</td>\n",
       "      <td>0</td>\n",
       "      <td>0</td>\n",
       "      <td>dog dogs rescuedogs lovestoplayball</td>\n",
       "      <td>42.838806</td>\n",
       "      <td>-106.321907</td>\n",
       "      <td>16</td>\n",
       "      <td>0</td>\n",
       "      <td></td>\n",
       "      <td>https://live.staticflickr.com/65535/5078060427...</td>\n",
       "      <td>240</td>\n",
       "      <td>240</td>\n",
       "    </tr>\n",
       "    <tr>\n",
       "      <th>1</th>\n",
       "      <td>50781276946</td>\n",
       "      <td>800_8511</td>\n",
       "      <td>1</td>\n",
       "      <td>0</td>\n",
       "      <td>0</td>\n",
       "      <td>australianwarmuseum loxpixaustralianwarmuseum ...</td>\n",
       "      <td>-35.280828</td>\n",
       "      <td>149.142986</td>\n",
       "      <td>16</td>\n",
       "      <td>0</td>\n",
       "      <td></td>\n",
       "      <td>https://live.staticflickr.com/65535/5078127694...</td>\n",
       "      <td>160</td>\n",
       "      <td>240</td>\n",
       "    </tr>\n",
       "    <tr>\n",
       "      <th>2</th>\n",
       "      <td>50781327637</td>\n",
       "      <td>TMYN8465</td>\n",
       "      <td>1</td>\n",
       "      <td>0</td>\n",
       "      <td>0</td>\n",
       "      <td></td>\n",
       "      <td>45.482702</td>\n",
       "      <td>-122.572264</td>\n",
       "      <td>16</td>\n",
       "      <td>0</td>\n",
       "      <td></td>\n",
       "      <td>https://live.staticflickr.com/65535/5078132763...</td>\n",
       "      <td>180</td>\n",
       "      <td>240</td>\n",
       "    </tr>\n",
       "    <tr>\n",
       "      <th>3</th>\n",
       "      <td>50779182753</td>\n",
       "      <td>PXL_20201230_173500074</td>\n",
       "      <td>1</td>\n",
       "      <td>0</td>\n",
       "      <td>0</td>\n",
       "      <td></td>\n",
       "      <td>37.319455</td>\n",
       "      <td>-121.855853</td>\n",
       "      <td>16</td>\n",
       "      <td>0</td>\n",
       "      <td></td>\n",
       "      <td>https://live.staticflickr.com/65535/5077918275...</td>\n",
       "      <td>240</td>\n",
       "      <td>180</td>\n",
       "    </tr>\n",
       "    <tr>\n",
       "      <th>4</th>\n",
       "      <td>50778907401</td>\n",
       "      <td>Blue Tit_Gard_29-12-20743-Edit</td>\n",
       "      <td>1</td>\n",
       "      <td>0</td>\n",
       "      <td>0</td>\n",
       "      <td>garden wildlife animlas nikon d780 sigma 150 6...</td>\n",
       "      <td>53.551323</td>\n",
       "      <td>-2.138793</td>\n",
       "      <td>15</td>\n",
       "      <td>0</td>\n",
       "      <td></td>\n",
       "      <td>https://live.staticflickr.com/65535/5077890740...</td>\n",
       "      <td>160</td>\n",
       "      <td>240</td>\n",
       "    </tr>\n",
       "  </tbody>\n",
       "</table>\n",
       "</div>"
      ],
      "text/plain": [
       "            id                           title  ispublic  isfriend  isfamily  \\\n",
       "0  50780604273      Althea the Therapist is In         1         0         0   \n",
       "1  50781276946                        800_8511         1         0         0   \n",
       "2  50781327637                        TMYN8465         1         0         0   \n",
       "3  50779182753          PXL_20201230_173500074         1         0         0   \n",
       "4  50778907401  Blue Tit_Gard_29-12-20743-Edit         1         0         0   \n",
       "\n",
       "                                                tags    latitude    longitude  \\\n",
       "0                dog dogs rescuedogs lovestoplayball   42.838806  -106.321907   \n",
       "1  australianwarmuseum loxpixaustralianwarmuseum ...  -35.280828   149.142986   \n",
       "2                                                      45.482702  -122.572264   \n",
       "3                                                      37.319455  -121.855853   \n",
       "4  garden wildlife animlas nikon d780 sigma 150 6...   53.551323    -2.138793   \n",
       "\n",
       "  accuracy  context place_id  \\\n",
       "0       16        0            \n",
       "1       16        0            \n",
       "2       16        0            \n",
       "3       16        0            \n",
       "4       15        0            \n",
       "\n",
       "                                               url_s  height_s  width_s  \n",
       "0  https://live.staticflickr.com/65535/5078060427...       240      240  \n",
       "1  https://live.staticflickr.com/65535/5078127694...       160      240  \n",
       "2  https://live.staticflickr.com/65535/5078132763...       180      240  \n",
       "3  https://live.staticflickr.com/65535/5077918275...       240      180  \n",
       "4  https://live.staticflickr.com/65535/5077890740...       160      240  "
      ]
     },
     "execution_count": 10,
     "metadata": {},
     "output_type": "execute_result"
    }
   ],
   "source": [
    "## Preview data\n",
    "data.head()"
   ]
  },
  {
   "cell_type": "code",
   "execution_count": 79,
   "id": "88bde19f-6177-4560-acda-fcf67fcbaa93",
   "metadata": {},
   "outputs": [],
   "source": [
    "## converts latitude and longitudes to numbers instead of strings\n",
    "data['longitude'] = data['longitude'].astype(float)\n",
    "data['latitude'] = data['latitude'].astype(float)"
   ]
  },
  {
   "cell_type": "code",
   "execution_count": 48,
   "id": "35877ed5-e751-486b-ae04-dfd3c5fe5ce3",
   "metadata": {},
   "outputs": [
    {
     "data": {
      "text/plain": [
       "250"
      ]
     },
     "execution_count": 48,
     "metadata": {},
     "output_type": "execute_result"
    }
   ],
   "source": [
    "## How many images were pulled\n",
    "len(data)"
   ]
  },
  {
   "cell_type": "code",
   "execution_count": 13,
   "id": "e5b74229-ea79-43e2-8c04-fc3d6dd8be0e",
   "metadata": {},
   "outputs": [],
   "source": [
    "import plotly.graph_objects as go"
   ]
  },
  {
   "cell_type": "code",
   "execution_count": 88,
   "id": "d3a1287e-b7b0-458a-a0f0-f8b1aff95cc9",
   "metadata": {},
   "outputs": [],
   "source": [
    "## Automatically creates coordinates for each image corner based on geo data given\n",
    "def coords(longitude, latitude):\n",
    "    return [\n",
    "        [float(longitude - 3.0), float(latitude + 2.0)], ## Top left\n",
    "        [float(longitude + 3.0), float(latitude + 2.0)], ## Top right\n",
    "        [float(longitude + 3.0), float(latitude - 2.0)], ## Bottom right\n",
    "        [float(longitude - 3.0), float(latitude - 2.0)], ## Bottom right\n",
    "    ]"
   ]
  },
  {
   "cell_type": "code",
   "execution_count": 99,
   "id": "0b1e9288-1343-424d-96d2-5aa2c9377061",
   "metadata": {},
   "outputs": [
    {
     "data": {
      "application/vnd.plotly.v1+json": {
       "config": {
        "plotlyServerURL": "https://plot.ly"
       },
       "data": [
        {
         "type": "scattermapbox"
        }
       ],
       "layout": {
        "autosize": true,
        "mapbox": {
         "accesstoken": "pk.eyJ1IjoicnlhbnZhY2hlIiwiYSI6ImNtMzlicGE5bTEwY3gyanB0NnRpMjlxYncifQ.l9JCx0KgfP0bFE9ND4NwDw",
         "bearing": 0,
         "center": {
          "lat": 37.543198413374654,
          "lon": -84.60876891828423
         },
         "layers": [
          {
           "coordinates": [
            [
             -109.322,
             44.839
            ],
            [
             -103.322,
             44.839
            ],
            [
             -103.322,
             40.839
            ],
            [
             -109.322,
             40.839
            ]
           ],
           "source": "https://live.staticflickr.com/65535/50780604273_4eec127bbe_m.jpg",
           "sourcetype": "image"
          },
          {
           "coordinates": [
            [
             146.143,
             -33.281
            ],
            [
             152.143,
             -33.281
            ],
            [
             152.143,
             -37.281
            ],
            [
             146.143,
             -37.281
            ]
           ],
           "source": "https://live.staticflickr.com/65535/50781276946_a1775dc145_m.jpg",
           "sourcetype": "image"
          },
          {
           "coordinates": [
            [
             -125.572,
             47.483
            ],
            [
             -119.572,
             47.483
            ],
            [
             -119.572,
             43.483
            ],
            [
             -125.572,
             43.483
            ]
           ],
           "source": "https://live.staticflickr.com/65535/50781327637_855eb8c093_m.jpg",
           "sourcetype": "image"
          },
          {
           "coordinates": [
            [
             -124.856,
             39.319
            ],
            [
             -118.856,
             39.319
            ],
            [
             -118.856,
             35.319
            ],
            [
             -124.856,
             35.319
            ]
           ],
           "source": "https://live.staticflickr.com/65535/50779182753_52c5dd3fd7_m.jpg",
           "sourcetype": "image"
          },
          {
           "coordinates": [
            [
             -5.138999999999999,
             55.551
            ],
            [
             0.8610000000000002,
             55.551
            ],
            [
             0.8610000000000002,
             51.551
            ],
            [
             -5.138999999999999,
             51.551
            ]
           ],
           "source": "https://live.staticflickr.com/65535/50778907401_b3a539106d_m.jpg",
           "sourcetype": "image"
          },
          {
           "coordinates": [
            [
             -125.437,
             39.765
            ],
            [
             -119.437,
             39.765
            ],
            [
             -119.437,
             35.765
            ],
            [
             -125.437,
             35.765
            ]
           ],
           "source": "https://live.staticflickr.com/65535/50777491641_f0079f41b8_m.jpg",
           "sourcetype": "image"
          },
          {
           "coordinates": [
            [
             136.397,
             37.717
            ],
            [
             142.397,
             37.717
            ],
            [
             142.397,
             33.717
            ],
            [
             136.397,
             33.717
            ]
           ],
           "source": "https://live.staticflickr.com/65535/50776733761_79e6761168_m.jpg",
           "sourcetype": "image"
          },
          {
           "coordinates": [
            [
             -3.128,
             53.508
            ],
            [
             2.872,
             53.508
            ],
            [
             2.872,
             49.508
            ],
            [
             -3.128,
             49.508
            ]
           ],
           "source": "https://live.staticflickr.com/5784/29761066554_c5ebe4ff78_m.jpg",
           "sourcetype": "image"
          },
          {
           "coordinates": [
            [
             -75.055,
             46.467
            ],
            [
             -69.055,
             46.467
            ],
            [
             -69.055,
             42.467
            ],
            [
             -75.055,
             42.467
            ]
           ],
           "source": "https://live.staticflickr.com/65535/50776802446_62c6718243_m.jpg",
           "sourcetype": "image"
          },
          {
           "coordinates": [
            [
             107.355,
             -5.825
            ],
            [
             113.355,
             -5.825
            ],
            [
             113.355,
             -9.825
            ],
            [
             107.355,
             -9.825
            ]
           ],
           "source": "https://live.staticflickr.com/65535/50775109978_27dbf7c825_m.jpg",
           "sourcetype": "image"
          },
          {
           "coordinates": [
            [
             -90.569,
             46.144
            ],
            [
             -84.569,
             46.144
            ],
            [
             -84.569,
             42.144
            ],
            [
             -90.569,
             42.144
            ]
           ],
           "source": "https://live.staticflickr.com/65535/50774546088_273746c5b2_m.jpg",
           "sourcetype": "image"
          },
          {
           "coordinates": [
            [
             79.096,
             57.025
            ],
            [
             85.096,
             57.025
            ],
            [
             85.096,
             53.025
            ],
            [
             79.096,
             53.025
            ]
           ],
           "source": "https://live.staticflickr.com/65535/50774518133_df679cf59a_m.jpg",
           "sourcetype": "image"
          },
          {
           "coordinates": [
            [
             -91.559,
             45.98
            ],
            [
             -85.559,
             45.98
            ],
            [
             -85.559,
             41.98
            ],
            [
             -91.559,
             41.98
            ]
           ],
           "source": "https://live.staticflickr.com/65535/50774965817_d10b0f2dc0_m.jpg",
           "sourcetype": "image"
          },
          {
           "coordinates": [
            [
             -4.941,
             55.604
            ],
            [
             1.059,
             55.604
            ],
            [
             1.059,
             51.604
            ],
            [
             -4.941,
             51.604
            ]
           ],
           "source": "https://live.staticflickr.com/65535/50774754416_89350ca8a0_m.jpg",
           "sourcetype": "image"
          },
          {
           "coordinates": [
            [
             118.473,
             27.063
            ],
            [
             124.473,
             27.063
            ],
            [
             124.473,
             23.063
            ],
            [
             118.473,
             23.063
            ]
           ],
           "source": "https://live.staticflickr.com/65535/50774612907_dbe633d901_m.jpg",
           "sourcetype": "image"
          },
          {
           "coordinates": [
            [
             13.408999999999999,
             50.232
            ],
            [
             19.409,
             50.232
            ],
            [
             19.409,
             46.232
            ],
            [
             13.408999999999999,
             46.232
            ]
           ],
           "source": "https://live.staticflickr.com/65535/50774343147_22d7d840a0_m.jpg",
           "sourcetype": "image"
          },
          {
           "coordinates": [
            [
             106.613,
             20.217
            ],
            [
             112.613,
             20.217
            ],
            [
             112.613,
             16.217
            ],
            [
             106.613,
             16.217
            ]
           ],
           "source": "https://live.staticflickr.com/65535/50774282232_67aa912720_m.jpg",
           "sourcetype": "image"
          },
          {
           "coordinates": [
            [
             142.269,
             -36.13
            ],
            [
             148.269,
             -36.13
            ],
            [
             148.269,
             -40.13
            ],
            [
             142.269,
             -40.13
            ]
           ],
           "source": "https://live.staticflickr.com/65535/50772424558_d612416131_m.jpg",
           "sourcetype": "image"
          },
          {
           "coordinates": [
            [
             132.781,
             37.001
            ],
            [
             138.781,
             37.001
            ],
            [
             138.781,
             33.001
            ],
            [
             132.781,
             33.001
            ]
           ],
           "source": "https://live.staticflickr.com/65535/50772386118_9dc0dcdb26_m.jpg",
           "sourcetype": "image"
          },
          {
           "coordinates": [
            [
             10.879,
             53.013
            ],
            [
             16.878999999999998,
             53.013
            ],
            [
             16.878999999999998,
             49.013
            ],
            [
             10.879,
             49.013
            ]
           ],
           "source": "https://live.staticflickr.com/65535/50772072352_17a4b14bc6_m.jpg",
           "sourcetype": "image"
          },
          {
           "coordinates": [
            [
             -77.779,
             42.003
            ],
            [
             -71.779,
             42.003
            ],
            [
             -71.779,
             38.003
            ],
            [
             -77.779,
             38.003
            ]
           ],
           "source": "https://live.staticflickr.com/65535/50771001766_6e5d1b51e3_m.jpg",
           "sourcetype": "image"
          },
          {
           "coordinates": [
            [
             -3.301,
             53.483
            ],
            [
             2.699,
             53.483
            ],
            [
             2.699,
             49.483
            ],
            [
             -3.301,
             49.483
            ]
           ],
           "source": "https://live.staticflickr.com/65535/50770950591_cef3ffa355_m.jpg",
           "sourcetype": "image"
          },
          {
           "coordinates": [
            [
             -3.431,
             53.462
            ],
            [
             2.569,
             53.462
            ],
            [
             2.569,
             49.462
            ],
            [
             -3.431,
             49.462
            ]
           ],
           "source": "https://live.staticflickr.com/65535/50770583607_357669551c_m.jpg",
           "sourcetype": "image"
          },
          {
           "coordinates": [
            [
             136.538,
             37.31
            ],
            [
             142.538,
             37.31
            ],
            [
             142.538,
             33.31
            ],
            [
             136.538,
             33.31
            ]
           ],
           "source": "https://live.staticflickr.com/65535/50769465118_a4e15aea63_m.jpg",
           "sourcetype": "image"
          },
          {
           "coordinates": [
            [
             118.597,
             27.053
            ],
            [
             124.597,
             27.053
            ],
            [
             124.597,
             23.053
            ],
            [
             118.597,
             23.053
            ]
           ],
           "source": "https://live.staticflickr.com/65535/50769968576_4b8e8c4f7b_m.jpg",
           "sourcetype": "image"
          },
          {
           "coordinates": [
            [
             103.67,
             -4.268
            ],
            [
             109.67,
             -4.268
            ],
            [
             109.67,
             -8.268
            ],
            [
             103.67,
             -8.268
            ]
           ],
           "source": "https://live.staticflickr.com/65535/50769216637_5fc4eba146_m.jpg",
           "sourcetype": "image"
          },
          {
           "coordinates": [
            [
             -76.773,
             44.62
            ],
            [
             -70.773,
             44.62
            ],
            [
             -70.773,
             40.62
            ],
            [
             -76.773,
             40.62
            ]
           ],
           "source": "https://live.staticflickr.com/65535/50768625026_a0a5993d07_m.jpg",
           "sourcetype": "image"
          },
          {
           "coordinates": [
            [
             -119.949,
             34.809
            ],
            [
             -113.949,
             34.809
            ],
            [
             -113.949,
             30.808999999999997
            ],
            [
             -119.949,
             30.808999999999997
            ]
           ],
           "source": "https://live.staticflickr.com/65535/50768515621_69d03d00e9_m.jpg",
           "sourcetype": "image"
          },
          {
           "coordinates": [
            [
             4.868,
             48.853
            ],
            [
             10.868,
             48.853
            ],
            [
             10.868,
             44.853
            ],
            [
             4.868,
             44.853
            ]
           ],
           "source": "https://live.staticflickr.com/65535/50768515456_e380d16cb3_m.jpg",
           "sourcetype": "image"
          },
          {
           "coordinates": [
            [
             -90.634,
             43.879
            ],
            [
             -84.634,
             43.879
            ],
            [
             -84.634,
             39.879
            ],
            [
             -90.634,
             39.879
            ]
           ],
           "source": "https://live.staticflickr.com/65535/50768480896_7fb8c03318_m.jpg",
           "sourcetype": "image"
          },
          {
           "coordinates": [
            [
             5.525,
             49.367
            ],
            [
             11.525,
             49.367
            ],
            [
             11.525,
             45.367
            ],
            [
             5.525,
             45.367
            ]
           ],
           "source": "https://live.staticflickr.com/65535/50767519648_ed329bb6a0_m.jpg",
           "sourcetype": "image"
          },
          {
           "coordinates": [
            [
             148.119,
             -31.851999999999997
            ],
            [
             154.119,
             -31.851999999999997
            ],
            [
             154.119,
             -35.852
            ],
            [
             148.119,
             -35.852
            ]
           ],
           "source": "https://live.staticflickr.com/65535/50768239106_9b02110efa_m.jpg",
           "sourcetype": "image"
          },
          {
           "coordinates": [
            [
             148.119,
             -31.851999999999997
            ],
            [
             154.119,
             -31.851999999999997
            ],
            [
             154.119,
             -35.852
            ],
            [
             148.119,
             -35.852
            ]
           ],
           "source": "https://live.staticflickr.com/65535/50768237951_038594fc33_m.jpg",
           "sourcetype": "image"
          },
          {
           "coordinates": [
            [
             14.902999999999999,
             49.096
            ],
            [
             20.903,
             49.096
            ],
            [
             20.903,
             45.096
            ],
            [
             14.902999999999999,
             45.096
            ]
           ],
           "source": "https://live.staticflickr.com/65535/50767913777_0ed97f972a_m.jpg",
           "sourcetype": "image"
          },
          {
           "coordinates": [
            [
             7.429,
             45.78
            ],
            [
             13.429,
             45.78
            ],
            [
             13.429,
             41.78
            ],
            [
             7.429,
             41.78
            ]
           ],
           "source": "https://live.staticflickr.com/65535/50767510122_341336784e_m.jpg",
           "sourcetype": "image"
          },
          {
           "coordinates": [
            [
             -3.332,
             54.161
            ],
            [
             2.668,
             54.161
            ],
            [
             2.668,
             50.161
            ],
            [
             -3.332,
             50.161
            ]
           ],
           "source": "https://live.staticflickr.com/65535/50766615093_de07de61bb_m.jpg",
           "sourcetype": "image"
          },
          {
           "coordinates": [
            [
             174.415,
             -15.803999999999998
            ],
            [
             180.415,
             -15.803999999999998
            ],
            [
             180.415,
             -19.804
            ],
            [
             174.415,
             -19.804
            ]
           ],
           "source": "https://live.staticflickr.com/65535/50766471753_bbbe7c396b_m.jpg",
           "sourcetype": "image"
          },
          {
           "coordinates": [
            [
             -4.57,
             53.577
            ],
            [
             1.43,
             53.577
            ],
            [
             1.43,
             49.577
            ],
            [
             -4.57,
             49.577
            ]
           ],
           "source": "https://live.staticflickr.com/65535/50766823382_945173e192_m.jpg",
           "sourcetype": "image"
          },
          {
           "coordinates": [
            [
             1.3529999999999998,
             52.847
            ],
            [
             7.353,
             52.847
            ],
            [
             7.353,
             48.847
            ],
            [
             1.3529999999999998,
             48.847
            ]
           ],
           "source": "https://live.staticflickr.com/65535/50766508076_d0ee4b69a9_m.jpg",
           "sourcetype": "image"
          },
          {
           "coordinates": [
            [
             113.133,
             -29.698
            ],
            [
             119.133,
             -29.698
            ],
            [
             119.133,
             -33.698
            ],
            [
             113.133,
             -33.698
            ]
           ],
           "source": "https://live.staticflickr.com/65535/50765599768_f0e10a812b_m.jpg",
           "sourcetype": "image"
          },
          {
           "coordinates": [
            [
             106.613,
             20.217
            ],
            [
             112.613,
             20.217
            ],
            [
             112.613,
             16.217
            ],
            [
             106.613,
             16.217
            ]
           ],
           "source": "https://live.staticflickr.com/65535/50765521017_9d7c57f824_m.jpg",
           "sourcetype": "image"
          },
          {
           "coordinates": [
            [
             -84.67,
             37.919
            ],
            [
             -78.67,
             37.919
            ],
            [
             -78.67,
             33.919
            ],
            [
             -84.67,
             33.919
            ]
           ],
           "source": "https://live.staticflickr.com/65535/50765136466_b7cca1e39a_m.jpg",
           "sourcetype": "image"
          },
          {
           "coordinates": [
            [
             -3.79,
             54.305
            ],
            [
             2.21,
             54.305
            ],
            [
             2.21,
             50.305
            ],
            [
             -3.79,
             50.305
            ]
           ],
           "source": "https://live.staticflickr.com/65535/50764812847_3dc072ba11_m.jpg",
           "sourcetype": "image"
          },
          {
           "coordinates": [
            [
             6.260999999999999,
             48.009
            ],
            [
             12.261,
             48.009
            ],
            [
             12.261,
             44.009
            ],
            [
             6.260999999999999,
             44.009
            ]
           ],
           "source": "https://live.staticflickr.com/65535/50764542406_5aaf5648ba_m.jpg",
           "sourcetype": "image"
          },
          {
           "coordinates": [
            [
             -78.166,
             41.95
            ],
            [
             -72.166,
             41.95
            ],
            [
             -72.166,
             37.95
            ],
            [
             -78.166,
             37.95
            ]
           ],
           "source": "https://live.staticflickr.com/65535/20744801439_a99f849274_m.jpg",
           "sourcetype": "image"
          },
          {
           "coordinates": [
            [
             4.815,
             47.091
            ],
            [
             10.815000000000001,
             47.091
            ],
            [
             10.815000000000001,
             43.091
            ],
            [
             4.815,
             43.091
            ]
           ],
           "source": "https://live.staticflickr.com/65535/50762587128_48fe4b4042_m.jpg",
           "sourcetype": "image"
          },
          {
           "coordinates": [
            [
             -96.263,
             47.018
            ],
            [
             -90.263,
             47.018
            ],
            [
             -90.263,
             43.018
            ],
            [
             -96.263,
             43.018
            ]
           ],
           "source": "https://live.staticflickr.com/65535/50763301162_d509ca7962_m.jpg",
           "sourcetype": "image"
          },
          {
           "coordinates": [
            [
             -79.758,
             40.984
            ],
            [
             -73.758,
             40.984
            ],
            [
             -73.758,
             36.984
            ],
            [
             -79.758,
             36.984
            ]
           ],
           "source": "https://live.staticflickr.com/65535/50762919732_329817a443_m.jpg",
           "sourcetype": "image"
          },
          {
           "coordinates": [
            [
             -78.219,
             41.95
            ],
            [
             -72.219,
             41.95
            ],
            [
             -72.219,
             37.95
            ],
            [
             -78.219,
             37.95
            ]
           ],
           "source": "https://live.staticflickr.com/65535/50762682781_52d25f3326_m.jpg",
           "sourcetype": "image"
          },
          {
           "coordinates": [
            [
             -90.85,
             43.797
            ],
            [
             -84.85,
             43.797
            ],
            [
             -84.85,
             39.797
            ],
            [
             -90.85,
             39.797
            ]
           ],
           "source": "https://live.staticflickr.com/65535/50777955186_25f273d832_m.jpg",
           "sourcetype": "image"
          },
          {
           "coordinates": [
            [
             -76.981,
             42.76
            ],
            [
             -70.981,
             42.76
            ],
            [
             -70.981,
             38.76
            ],
            [
             -76.981,
             38.76
            ]
           ],
           "source": "https://live.staticflickr.com/65535/50759875018_07cb0413c8_m.jpg",
           "sourcetype": "image"
          },
          {
           "coordinates": [
            [
             15.239999999999998,
             61.172
            ],
            [
             21.24,
             61.172
            ],
            [
             21.24,
             57.172
            ],
            [
             15.239999999999998,
             57.172
            ]
           ],
           "source": "https://live.staticflickr.com/65535/50759411396_7d8c30def5_m.jpg",
           "sourcetype": "image"
          },
          {
           "coordinates": [
            [
             -4.601,
             54.401
            ],
            [
             1.399,
             54.401
            ],
            [
             1.399,
             50.401
            ],
            [
             -4.601,
             50.401
            ]
           ],
           "source": "https://live.staticflickr.com/65535/50758714407_738e84ef2f_m.jpg",
           "sourcetype": "image"
          },
          {
           "coordinates": [
            [
             -5.2989999999999995,
             55.433
            ],
            [
             0.7010000000000001,
             55.433
            ],
            [
             0.7010000000000001,
             51.433
            ],
            [
             -5.2989999999999995,
             51.433
            ]
           ],
           "source": "https://live.staticflickr.com/65535/50758751167_19b491370b_m.jpg",
           "sourcetype": "image"
          },
          {
           "coordinates": [
            [
             -90.894,
             45.043
            ],
            [
             -84.894,
             45.043
            ],
            [
             -84.894,
             41.043
            ],
            [
             -90.894,
             41.043
            ]
           ],
           "source": "https://live.staticflickr.com/65535/50757654587_8b9d618c68_m.jpg",
           "sourcetype": "image"
          },
          {
           "coordinates": [
            [
             16.99,
             46.737
            ],
            [
             22.99,
             46.737
            ],
            [
             22.99,
             42.737
            ],
            [
             16.99,
             42.737
            ]
           ],
           "source": "https://live.staticflickr.com/65535/50757542807_bc72ae9805_m.jpg",
           "sourcetype": "image"
          },
          {
           "coordinates": [
            [
             13.611,
             42.666
            ],
            [
             19.611,
             42.666
            ],
            [
             19.611,
             38.666
            ],
            [
             13.611,
             38.666
            ]
           ],
           "source": "https://live.staticflickr.com/65535/50756681548_d472695a10_m.jpg",
           "sourcetype": "image"
          },
          {
           "coordinates": [
            [
             -98.395,
             31.719
            ],
            [
             -92.395,
             31.719
            ],
            [
             -92.395,
             27.719
            ],
            [
             -98.395,
             27.719
            ]
           ],
           "source": "https://live.staticflickr.com/65535/50756004088_a999097837_m.jpg",
           "sourcetype": "image"
          },
          {
           "coordinates": [
            [
             -74.155,
             44.243
            ],
            [
             -68.155,
             44.243
            ],
            [
             -68.155,
             40.243
            ],
            [
             -74.155,
             40.243
            ]
           ],
           "source": "https://live.staticflickr.com/65535/50755888028_f2b325498c_m.jpg",
           "sourcetype": "image"
          },
          {
           "coordinates": [
            [
             7.769,
             61.933
            ],
            [
             13.769,
             61.933
            ],
            [
             13.769,
             57.933
            ],
            [
             7.769,
             57.933
            ]
           ],
           "source": "https://live.staticflickr.com/65535/50756361991_1f643cd851_m.jpg",
           "sourcetype": "image"
          },
          {
           "coordinates": [
            [
             -84.843,
             28.657
            ],
            [
             -78.843,
             28.657
            ],
            [
             -78.843,
             24.657
            ],
            [
             -84.843,
             24.657
            ]
           ],
           "source": "https://live.staticflickr.com/65535/50756270416_c022283f9c_m.jpg",
           "sourcetype": "image"
          },
          {
           "coordinates": [
            [
             -3.669,
             53.877
            ],
            [
             2.331,
             53.877
            ],
            [
             2.331,
             49.877
            ],
            [
             -3.669,
             49.877
            ]
           ],
           "source": "https://live.staticflickr.com/65535/50755985317_0ed23784f1_m.jpg",
           "sourcetype": "image"
          },
          {
           "coordinates": [
            [
             -83.723,
             42.064
            ],
            [
             -77.723,
             42.064
            ],
            [
             -77.723,
             38.064
            ],
            [
             -83.723,
             38.064
            ]
           ],
           "source": "https://live.staticflickr.com/65535/50755772182_8030d73443_m.jpg",
           "sourcetype": "image"
          },
          {
           "coordinates": [
            [
             -11.253,
             39.087
            ],
            [
             -5.253,
             39.087
            ],
            [
             -5.253,
             35.087
            ],
            [
             -11.253,
             35.087
            ]
           ],
           "source": "https://live.staticflickr.com/65535/50755560642_bd0e05d201_m.jpg",
           "sourcetype": "image"
          },
          {
           "coordinates": [
            [
             4.605,
             53.501
            ],
            [
             10.605,
             53.501
            ],
            [
             10.605,
             49.501
            ],
            [
             4.605,
             49.501
            ]
           ],
           "source": "https://live.staticflickr.com/65535/50754476478_b2e14da71c_m.jpg",
           "sourcetype": "image"
          },
          {
           "coordinates": [
            [
             -82.4,
             44.871
            ],
            [
             -76.4,
             44.871
            ],
            [
             -76.4,
             40.871
            ],
            [
             -82.4,
             40.871
            ]
           ],
           "source": "https://live.staticflickr.com/65535/50754437228_967aa0205f_m.jpg",
           "sourcetype": "image"
          },
          {
           "coordinates": [
            [
             -4.648,
             56.97
            ],
            [
             1.352,
             56.97
            ],
            [
             1.352,
             52.97
            ],
            [
             -4.648,
             52.97
            ]
           ],
           "source": "https://live.staticflickr.com/65535/50754310953_a77314bbd9_m.jpg",
           "sourcetype": "image"
          },
          {
           "coordinates": [
            [
             -7.032,
             52.715
            ],
            [
             -1.032,
             52.715
            ],
            [
             -1.032,
             48.715
            ],
            [
             -7.032,
             48.715
            ]
           ],
           "source": "https://live.staticflickr.com/65535/50754793316_1012e85ff8_m.jpg",
           "sourcetype": "image"
          },
          {
           "coordinates": [
            [
             -86.231,
             44.304
            ],
            [
             -80.231,
             44.304
            ],
            [
             -80.231,
             40.304
            ],
            [
             -86.231,
             40.304
            ]
           ],
           "source": "https://live.staticflickr.com/65535/50754357586_b9416ed1c3_m.jpg",
           "sourcetype": "image"
          },
          {
           "coordinates": [
            [
             1.952,
             54.306
            ],
            [
             7.952,
             54.306
            ],
            [
             7.952,
             50.306
            ],
            [
             1.952,
             50.306
            ]
           ],
           "source": "https://live.staticflickr.com/65535/50753474598_d8ef5b319f_m.jpg",
           "sourcetype": "image"
          },
          {
           "coordinates": [
            [
             -5.558,
             54.121
            ],
            [
             0.44200000000000017,
             54.121
            ],
            [
             0.44200000000000017,
             50.121
            ],
            [
             -5.558,
             50.121
            ]
           ],
           "source": "https://live.staticflickr.com/65535/50754058811_fba8f7463a_m.jpg",
           "sourcetype": "image"
          },
          {
           "coordinates": [
            [
             14.11,
             50.142
            ],
            [
             20.11,
             50.142
            ],
            [
             20.11,
             46.142
            ],
            [
             14.11,
             46.142
            ]
           ],
           "source": "https://live.staticflickr.com/65535/50754001956_823fdb282e_m.jpg",
           "sourcetype": "image"
          },
          {
           "coordinates": [
            [
             11.603,
             42.635
            ],
            [
             17.603,
             42.635
            ],
            [
             17.603,
             38.635
            ],
            [
             11.603,
             38.635
            ]
           ],
           "source": "https://live.staticflickr.com/65535/50754020652_9113bd73c6_m.jpg",
           "sourcetype": "image"
          },
          {
           "coordinates": [
            [
             117.326,
             24.589
            ],
            [
             123.326,
             24.589
            ],
            [
             123.326,
             20.589
            ],
            [
             117.326,
             20.589
            ]
           ],
           "source": "https://live.staticflickr.com/65535/50753873792_99e78d2208_m.jpg",
           "sourcetype": "image"
          },
          {
           "coordinates": [
            [
             141.789,
             -36.363
            ],
            [
             147.789,
             -36.363
            ],
            [
             147.789,
             -40.363
            ],
            [
             141.789,
             -40.363
            ]
           ],
           "source": "https://live.staticflickr.com/65535/50752114453_ba0bcbb4ea_m.jpg",
           "sourcetype": "image"
          },
          {
           "coordinates": [
            [
             8.967,
             59.708
            ],
            [
             14.967,
             59.708
            ],
            [
             14.967,
             55.708
            ],
            [
             8.967,
             55.708
            ]
           ],
           "source": "https://live.staticflickr.com/65535/50751965088_b20406d000_m.jpg",
           "sourcetype": "image"
          },
          {
           "coordinates": [
            [
             -126.06,
             51.284
            ],
            [
             -120.06,
             51.284
            ],
            [
             -120.06,
             47.284
            ],
            [
             -126.06,
             47.284
            ]
           ],
           "source": "https://live.staticflickr.com/65535/50751809523_fb207323de_m.jpg",
           "sourcetype": "image"
          },
          {
           "coordinates": [
            [
             -122.869,
             37.208
            ],
            [
             -116.869,
             37.208
            ],
            [
             -116.869,
             33.208
            ],
            [
             -122.869,
             33.208
            ]
           ],
           "source": "https://live.staticflickr.com/65535/50752190056_93baf35537_m.jpg",
           "sourcetype": "image"
          },
          {
           "coordinates": [
            [
             -84.611,
             43.509
            ],
            [
             -78.611,
             43.509
            ],
            [
             -78.611,
             39.509
            ],
            [
             -84.611,
             39.509
            ]
           ],
           "source": "https://live.staticflickr.com/65535/50752093571_b41f853e71_m.jpg",
           "sourcetype": "image"
          },
          {
           "coordinates": [
            [
             -0.10099999999999998,
             53.227
            ],
            [
             5.899,
             53.227
            ],
            [
             5.899,
             49.227
            ],
            [
             -0.10099999999999998,
             49.227
            ]
           ],
           "source": "https://live.staticflickr.com/65535/50752190137_3b7977ac73_m.jpg",
           "sourcetype": "image"
          },
          {
           "coordinates": [
            [
             22.04,
             62.25
            ],
            [
             28.04,
             62.25
            ],
            [
             28.04,
             58.25
            ],
            [
             22.04,
             58.25
            ]
           ],
           "source": "https://live.staticflickr.com/65535/50751955557_983bc53d72_m.jpg",
           "sourcetype": "image"
          },
          {
           "coordinates": [
            [
             1.4349999999999996,
             49.876
            ],
            [
             7.435,
             49.876
            ],
            [
             7.435,
             45.876
            ],
            [
             1.4349999999999996,
             45.876
            ]
           ],
           "source": "https://live.staticflickr.com/65535/50751243986_ed78ef58a7_m.jpg",
           "sourcetype": "image"
          },
          {
           "coordinates": [
            [
             3.7619999999999996,
             53.329
            ],
            [
             9.762,
             53.329
            ],
            [
             9.762,
             49.329
            ],
            [
             3.7619999999999996,
             49.329
            ]
           ],
           "source": "https://live.staticflickr.com/65535/50750653497_64cbd1ef11_m.jpg",
           "sourcetype": "image"
          },
          {
           "coordinates": [
            [
             -74.038,
             44.451
            ],
            [
             -68.038,
             44.451
            ],
            [
             -68.038,
             40.451
            ],
            [
             -74.038,
             40.451
            ]
           ],
           "source": "https://live.staticflickr.com/65535/50749096352_89bf3b0bcf_m.jpg",
           "sourcetype": "image"
          },
          {
           "coordinates": [
            [
             20.782,
             40.04
            ],
            [
             26.782,
             40.04
            ],
            [
             26.782,
             36.04
            ],
            [
             20.782,
             36.04
            ]
           ],
           "source": "https://live.staticflickr.com/65535/50747378068_ec13d749a5_m.jpg",
           "sourcetype": "image"
          },
          {
           "coordinates": [
            [
             -118.298,
             38.318
            ],
            [
             -112.298,
             38.318
            ],
            [
             -112.298,
             34.318
            ],
            [
             -118.298,
             34.318
            ]
           ],
           "source": "https://live.staticflickr.com/65535/50747899676_dbd836b7bc_m.jpg",
           "sourcetype": "image"
          },
          {
           "coordinates": [
            [
             5.602,
             48.707
            ],
            [
             11.602,
             48.707
            ],
            [
             11.602,
             44.707
            ],
            [
             5.602,
             44.707
            ]
           ],
           "source": "https://live.staticflickr.com/65535/50747399842_8423c4756e_m.jpg",
           "sourcetype": "image"
          },
          {
           "coordinates": [
            [
             111.051,
             24.639
            ],
            [
             117.051,
             24.639
            ],
            [
             117.051,
             20.639
            ],
            [
             111.051,
             20.639
            ]
           ],
           "source": "https://live.staticflickr.com/65535/50746428707_5d7a0c87f4_m.jpg",
           "sourcetype": "image"
          },
          {
           "coordinates": [
            [
             -2.7359999999999998,
             54.399
            ],
            [
             3.2640000000000002,
             54.399
            ],
            [
             3.2640000000000002,
             50.399
            ],
            [
             -2.7359999999999998,
             50.399
            ]
           ],
           "source": "https://live.staticflickr.com/65535/50744380701_b3d414b31f_m.jpg",
           "sourcetype": "image"
          },
          {
           "coordinates": [
            [
             6.993,
             55.541
            ],
            [
             12.993,
             55.541
            ],
            [
             12.993,
             51.541
            ],
            [
             6.993,
             51.541
            ]
           ],
           "source": "https://live.staticflickr.com/65535/50743438783_42bb59c60d_m.jpg",
           "sourcetype": "image"
          },
          {
           "coordinates": [
            [
             118.505,
             26.993
            ],
            [
             124.505,
             26.993
            ],
            [
             124.505,
             22.993
            ],
            [
             118.505,
             22.993
            ]
           ],
           "source": "https://live.staticflickr.com/65535/50743689516_1ca686cff0_m.jpg",
           "sourcetype": "image"
          },
          {
           "coordinates": [
            [
             118.208,
             27.069
            ],
            [
             124.208,
             27.069
            ],
            [
             124.208,
             23.069
            ],
            [
             118.208,
             23.069
            ]
           ],
           "source": "https://live.staticflickr.com/65535/50743558472_a577d713fa_m.jpg",
           "sourcetype": "image"
          },
          {
           "coordinates": [
            [
             -4.431,
             52.652
            ],
            [
             1.569,
             52.652
            ],
            [
             1.569,
             48.652
            ],
            [
             -4.431,
             48.652
            ]
           ],
           "source": "https://live.staticflickr.com/65535/50743538842_3eda7a62e6_m.jpg",
           "sourcetype": "image"
          },
          {
           "coordinates": [
            [
             13.366,
             50.207
            ],
            [
             19.366,
             50.207
            ],
            [
             19.366,
             46.207
            ],
            [
             13.366,
             46.207
            ]
           ],
           "source": "https://live.staticflickr.com/65535/50742218918_1d3618df35_m.jpg",
           "sourcetype": "image"
          },
          {
           "coordinates": [
            [
             134.606,
             -32.08
            ],
            [
             140.606,
             -32.08
            ],
            [
             140.606,
             -36.08
            ],
            [
             134.606,
             -36.08
            ]
           ],
           "source": "https://live.staticflickr.com/65535/50742134692_2905d1e733_m.jpg",
           "sourcetype": "image"
          },
          {
           "coordinates": [
            [
             -12.456,
             53.681
            ],
            [
             -6.4559999999999995,
             53.681
            ],
            [
             -6.4559999999999995,
             49.681
            ],
            [
             -12.456,
             49.681
            ]
           ],
           "source": "https://live.staticflickr.com/65535/50742022761_55f96e21a6_m.jpg",
           "sourcetype": "image"
          },
          {
           "coordinates": [
            [
             2.551,
             52.577
            ],
            [
             8.551,
             52.577
            ],
            [
             8.551,
             48.577
            ],
            [
             2.551,
             48.577
            ]
           ],
           "source": "https://live.staticflickr.com/65535/50741157518_6377b5e3ed_m.jpg",
           "sourcetype": "image"
          },
          {
           "coordinates": [
            [
             -76.489,
             42.877
            ],
            [
             -70.489,
             42.877
            ],
            [
             -70.489,
             38.877
            ],
            [
             -76.489,
             38.877
            ]
           ],
           "source": "https://live.staticflickr.com/65535/50740994133_35e903393c_m.jpg",
           "sourcetype": "image"
          },
          {
           "coordinates": [
            [
             13.422,
             61.516
            ],
            [
             19.422,
             61.516
            ],
            [
             19.422,
             57.516
            ],
            [
             13.422,
             57.516
            ]
           ],
           "source": "https://live.staticflickr.com/65535/50741175677_4ef81b571b_m.jpg",
           "sourcetype": "image"
          },
          {
           "coordinates": [
            [
             10.236,
             48.063
            ],
            [
             16.236,
             48.063
            ],
            [
             16.236,
             44.063
            ],
            [
             10.236,
             44.063
            ]
           ],
           "source": "https://live.staticflickr.com/65535/50739767813_b1f8cfae48_m.jpg",
           "sourcetype": "image"
          },
          {
           "coordinates": [
            [
             3.2720000000000002,
             47.693
            ],
            [
             9.272,
             47.693
            ],
            [
             9.272,
             43.693
            ],
            [
             3.2720000000000002,
             43.693
            ]
           ],
           "source": "https://live.staticflickr.com/65535/50739532113_289fd21ebd_m.jpg",
           "sourcetype": "image"
          },
          {
           "coordinates": [
            [
             118.039,
             26.614
            ],
            [
             124.039,
             26.614
            ],
            [
             124.039,
             22.614
            ],
            [
             118.039,
             22.614
            ]
           ],
           "source": "https://live.staticflickr.com/65535/50740076441_cf20453ba4_m.jpg",
           "sourcetype": "image"
          },
          {
           "coordinates": [
            [
             15.123999999999999,
             61.321
            ],
            [
             21.124,
             61.321
            ],
            [
             21.124,
             57.321
            ],
            [
             15.123999999999999,
             57.321
            ]
           ],
           "source": "https://live.staticflickr.com/65535/50740072487_46ef4fecb2_m.jpg",
           "sourcetype": "image"
          },
          {
           "coordinates": [
            [
             118.218,
             25.1
            ],
            [
             124.218,
             25.1
            ],
            [
             124.218,
             21.1
            ],
            [
             118.218,
             21.1
            ]
           ],
           "source": "https://live.staticflickr.com/65535/50739840816_de085a074d_m.jpg",
           "sourcetype": "image"
          },
          {
           "coordinates": [
            [
             -6.606,
             39.163
            ],
            [
             -0.6059999999999999,
             39.163
            ],
            [
             -0.6059999999999999,
             35.163
            ],
            [
             -6.606,
             35.163
            ]
           ],
           "source": "https://live.staticflickr.com/65535/50737342628_67cf846970_m.jpg",
           "sourcetype": "image"
          },
          {
           "coordinates": [
            [
             -125.302,
             49.574
            ],
            [
             -119.302,
             49.574
            ],
            [
             -119.302,
             45.574
            ],
            [
             -125.302,
             45.574
            ]
           ],
           "source": "https://live.staticflickr.com/65535/50738096622_231d4a8bb2_m.jpg",
           "sourcetype": "image"
          },
          {
           "coordinates": [
            [
             -93.329,
             40.644
            ],
            [
             -87.329,
             40.644
            ],
            [
             -87.329,
             36.644
            ],
            [
             -93.329,
             36.644
            ]
           ],
           "source": "https://live.staticflickr.com/65535/50737191563_0a3da2eb9a_m.jpg",
           "sourcetype": "image"
          },
          {
           "coordinates": [
            [
             53.468,
             26.745
            ],
            [
             59.468,
             26.745
            ],
            [
             59.468,
             22.745
            ],
            [
             53.468,
             22.745
            ]
           ],
           "source": "https://live.staticflickr.com/65535/50737385132_49e741a2f8_m.jpg",
           "sourcetype": "image"
          },
          {
           "coordinates": [
            [
             -6.599,
             53.221
            ],
            [
             -0.5990000000000002,
             53.221
            ],
            [
             -0.5990000000000002,
             49.221
            ],
            [
             -6.599,
             49.221
            ]
           ],
           "source": "https://live.staticflickr.com/65535/50736851092_87afaf67eb_m.jpg",
           "sourcetype": "image"
          },
          {
           "coordinates": [
            [
             1.4930000000000003,
             54.327
            ],
            [
             7.493,
             54.327
            ],
            [
             7.493,
             50.327
            ],
            [
             1.4930000000000003,
             50.327
            ]
           ],
           "source": "https://live.staticflickr.com/65535/50736484751_4c051bc949_m.jpg",
           "sourcetype": "image"
          },
          {
           "coordinates": [
            [
             -4.152,
             45.538
            ],
            [
             1.848,
             45.538
            ],
            [
             1.848,
             41.538
            ],
            [
             -4.152,
             41.538
            ]
           ],
           "source": "https://live.staticflickr.com/65535/50736566192_642fa4c94f_m.jpg",
           "sourcetype": "image"
          },
          {
           "coordinates": [
            [
             -10.11,
             43.265
            ],
            [
             -4.11,
             43.265
            ],
            [
             -4.11,
             39.265
            ],
            [
             -10.11,
             39.265
            ]
           ],
           "source": "https://live.staticflickr.com/65535/50736499377_2a3257334a_m.jpg",
           "sourcetype": "image"
          },
          {
           "coordinates": [
            [
             -84.467,
             30.475
            ],
            [
             -78.467,
             30.475
            ],
            [
             -78.467,
             26.475
            ],
            [
             -84.467,
             26.475
            ]
           ],
           "source": "https://live.staticflickr.com/65535/50736377757_555f445baf_m.jpg",
           "sourcetype": "image"
          },
          {
           "coordinates": [
            [
             5.895,
             51.239
            ],
            [
             11.895,
             51.239
            ],
            [
             11.895,
             47.239
            ],
            [
             5.895,
             47.239
            ]
           ],
           "source": "https://live.staticflickr.com/65535/50736147676_22c523d70c_m.jpg",
           "sourcetype": "image"
          },
          {
           "coordinates": [
            [
             -3.061,
             53.441
            ],
            [
             2.939,
             53.441
            ],
            [
             2.939,
             49.441
            ],
            [
             -3.061,
             49.441
            ]
           ],
           "source": "https://live.staticflickr.com/65535/50735184088_8f1c898323_m.jpg",
           "sourcetype": "image"
          },
          {
           "coordinates": [
            [
             3.6479999999999997,
             48.286
            ],
            [
             9.648,
             48.286
            ],
            [
             9.648,
             44.286
            ],
            [
             3.6479999999999997,
             44.286
            ]
           ],
           "source": "https://live.staticflickr.com/65535/50735780172_bd79884d76_m.jpg",
           "sourcetype": "image"
          },
          {
           "coordinates": [
            [
             -82.935,
             -0.16699999999999982
            ],
            [
             -76.935,
             -0.16699999999999982
            ],
            [
             -76.935,
             -4.167
            ],
            [
             -82.935,
             -4.167
            ]
           ],
           "source": "https://live.staticflickr.com/65535/50735406772_95daf3299f_m.jpg",
           "sourcetype": "image"
          },
          {
           "coordinates": [
            [
             -84.365,
             30.573
            ],
            [
             -78.365,
             30.573
            ],
            [
             -78.365,
             26.573
            ],
            [
             -84.365,
             26.573
            ]
           ],
           "source": "https://live.staticflickr.com/65535/50735042817_c7dd4dc650_m.jpg",
           "sourcetype": "image"
          },
          {
           "coordinates": [
            [
             -84.469,
             30.477
            ],
            [
             -78.469,
             30.477
            ],
            [
             -78.469,
             26.477
            ],
            [
             -84.469,
             26.477
            ]
           ],
           "source": "https://live.staticflickr.com/65535/50734068198_03782c20b8_m.jpg",
           "sourcetype": "image"
          },
          {
           "coordinates": [
            [
             18.096,
             54.107
            ],
            [
             24.096,
             54.107
            ],
            [
             24.096,
             50.107
            ],
            [
             18.096,
             50.107
            ]
           ],
           "source": "https://live.staticflickr.com/65535/50733911313_17886bdcac_m.jpg",
           "sourcetype": "image"
          },
          {
           "coordinates": [
            [
             -84.551,
             30.372
            ],
            [
             -78.551,
             30.372
            ],
            [
             -78.551,
             26.372
            ],
            [
             -84.551,
             26.372
            ]
           ],
           "source": "https://live.staticflickr.com/65535/50733681693_9fdd6b64dc_m.jpg",
           "sourcetype": "image"
          },
          {
           "coordinates": [
            [
             22.044,
             62.25
            ],
            [
             28.044,
             62.25
            ],
            [
             28.044,
             58.25
            ],
            [
             22.044,
             58.25
            ]
           ],
           "source": "https://live.staticflickr.com/65535/50734110256_ac8fdb2d04_m.jpg",
           "sourcetype": "image"
          },
          {
           "coordinates": [
            [
             -12.137,
             40.708
            ],
            [
             -6.1370000000000005,
             40.708
            ],
            [
             -6.1370000000000005,
             36.708
            ],
            [
             -12.137,
             36.708
            ]
           ],
           "source": "https://live.staticflickr.com/65535/50733279088_9dd669001d_m.jpg",
           "sourcetype": "image"
          },
          {
           "coordinates": [
            [
             70.459,
             5.852
            ],
            [
             76.459,
             5.852
            ],
            [
             76.459,
             1.8519999999999999
            ],
            [
             70.459,
             1.8519999999999999
            ]
           ],
           "source": "https://live.staticflickr.com/65535/50733837876_3d71930618_m.jpg",
           "sourcetype": "image"
          },
          {
           "coordinates": [
            [
             22.04,
             62.25
            ],
            [
             28.04,
             62.25
            ],
            [
             28.04,
             58.25
            ],
            [
             22.04,
             58.25
            ]
           ],
           "source": "https://live.staticflickr.com/65535/50733017133_3260503a42_m.jpg",
           "sourcetype": "image"
          },
          {
           "coordinates": [
            [
             21.154,
             62.28
            ],
            [
             27.154,
             62.28
            ],
            [
             27.154,
             58.28
            ],
            [
             21.154,
             58.28
            ]
           ],
           "source": "https://live.staticflickr.com/65535/50733485566_512979ed96_m.jpg",
           "sourcetype": "image"
          },
          {
           "coordinates": [
            [
             -87.214,
             35.853
            ],
            [
             -81.214,
             35.853
            ],
            [
             -81.214,
             31.853
            ],
            [
             -87.214,
             31.853
            ]
           ],
           "source": "https://live.staticflickr.com/65535/50733459501_dcafc376bd_m.jpg",
           "sourcetype": "image"
          },
          {
           "coordinates": [
            [
             -5.202999999999999,
             55.78
            ],
            [
             0.7970000000000002,
             55.78
            ],
            [
             0.7970000000000002,
             51.78
            ],
            [
             -5.202999999999999,
             51.78
            ]
           ],
           "source": "https://live.staticflickr.com/65535/50733460797_06671604ed_m.jpg",
           "sourcetype": "image"
          },
          {
           "coordinates": [
            [
             -24.948,
             66.044
            ],
            [
             -18.948,
             66.044
            ],
            [
             -18.948,
             62.044
            ],
            [
             -24.948,
             62.044
            ]
           ],
           "source": "https://live.staticflickr.com/65535/50733315496_8f5b5113ce_m.jpg",
           "sourcetype": "image"
          },
          {
           "coordinates": [
            [
             54.45,
             25.462
            ],
            [
             60.45,
             25.462
            ],
            [
             60.45,
             21.462
            ],
            [
             54.45,
             21.462
            ]
           ],
           "source": "https://live.staticflickr.com/65535/50733287381_e1b0e1723a_m.jpg",
           "sourcetype": "image"
          },
          {
           "coordinates": [
            [
             -4.093,
             55.958
            ],
            [
             1.907,
             55.958
            ],
            [
             1.907,
             51.958
            ],
            [
             -4.093,
             51.958
            ]
           ],
           "source": "https://live.staticflickr.com/65535/50732072633_08a76bbeb6_m.jpg",
           "sourcetype": "image"
          },
          {
           "coordinates": [
            [
             75.643,
             27.35
            ],
            [
             81.643,
             27.35
            ],
            [
             81.643,
             23.35
            ],
            [
             75.643,
             23.35
            ]
           ],
           "source": "https://live.staticflickr.com/65535/50731988693_1d2bddd56c_m.jpg",
           "sourcetype": "image"
          },
          {
           "coordinates": [
            [
             172.525,
             -35.664
            ],
            [
             178.525,
             -35.664
            ],
            [
             178.525,
             -39.664
            ],
            [
             172.525,
             -39.664
            ]
           ],
           "source": "https://live.staticflickr.com/65535/50731174503_b275d7c01f_m.jpg",
           "sourcetype": "image"
          },
          {
           "coordinates": [
            [
             -126.109,
             51.283
            ],
            [
             -120.109,
             51.283
            ],
            [
             -120.109,
             47.283
            ],
            [
             -126.109,
             47.283
            ]
           ],
           "source": "https://live.staticflickr.com/65535/50730844818_3f2b4df20e_m.jpg",
           "sourcetype": "image"
          },
          {
           "coordinates": [
            [
             -78.854,
             42.311
            ],
            [
             -72.854,
             42.311
            ],
            [
             -72.854,
             38.311
            ],
            [
             -78.854,
             38.311
            ]
           ],
           "source": "https://live.staticflickr.com/65535/50731557657_88eb7b3c78_m.jpg",
           "sourcetype": "image"
          },
          {
           "coordinates": [
            [
             -5.629,
             53.503
            ],
            [
             0.371,
             53.503
            ],
            [
             0.371,
             49.503
            ],
            [
             -5.629,
             49.503
            ]
           ],
           "source": "https://live.staticflickr.com/65535/50729605352_1e3afdf2e8_m.jpg",
           "sourcetype": "image"
          },
          {
           "coordinates": [
            [
             3.7649999999999997,
             47.852
            ],
            [
             9.765,
             47.852
            ],
            [
             9.765,
             43.852
            ],
            [
             3.7649999999999997,
             43.852
            ]
           ],
           "source": "https://live.staticflickr.com/65535/50729451137_05f28f39a7_m.jpg",
           "sourcetype": "image"
          },
          {
           "coordinates": [
            [
             -109.074,
             30.64
            ],
            [
             -103.074,
             30.64
            ],
            [
             -103.074,
             26.64
            ],
            [
             -109.074,
             26.64
            ]
           ],
           "source": "https://live.staticflickr.com/65535/50728578076_c1766c409d_m.jpg",
           "sourcetype": "image"
          },
          {
           "coordinates": [
            [
             -86.701,
             44.229
            ],
            [
             -80.701,
             44.229
            ],
            [
             -80.701,
             40.229
            ],
            [
             -86.701,
             40.229
            ]
           ],
           "source": "https://live.staticflickr.com/65535/50728393842_bfdf40899f_m.jpg",
           "sourcetype": "image"
          },
          {
           "coordinates": [
            [
             -80.026,
             40.888
            ],
            [
             -74.026,
             40.888
            ],
            [
             -74.026,
             36.888
            ],
            [
             -80.026,
             36.888
            ]
           ],
           "source": "https://live.staticflickr.com/65535/50728188227_fd69b19589_m.jpg",
           "sourcetype": "image"
          },
          {
           "coordinates": [
            [
             -5.061,
             52.64
            ],
            [
             0.9390000000000001,
             52.64
            ],
            [
             0.9390000000000001,
             48.64
            ],
            [
             -5.061,
             48.64
            ]
           ],
           "source": "https://live.staticflickr.com/65535/50727625367_cc60094684_m.jpg",
           "sourcetype": "image"
          },
          {
           "coordinates": [
            [
             2.7939999999999996,
             54.968
            ],
            [
             8.794,
             54.968
            ],
            [
             8.794,
             50.968
            ],
            [
             2.7939999999999996,
             50.968
            ]
           ],
           "source": "https://live.staticflickr.com/65535/50727486042_c5e0a8f6a9_m.jpg",
           "sourcetype": "image"
          },
          {
           "coordinates": [
            [
             6.529999999999999,
             48.679
            ],
            [
             12.53,
             48.679
            ],
            [
             12.53,
             44.679
            ],
            [
             6.529999999999999,
             44.679
            ]
           ],
           "source": "https://live.staticflickr.com/65535/50727014677_c3412c10e5_m.jpg",
           "sourcetype": "image"
          },
          {
           "coordinates": [
            [
             11.015,
             70.191
            ],
            [
             17.015,
             70.191
            ],
            [
             17.015,
             66.191
            ],
            [
             11.015,
             66.191
            ]
           ],
           "source": "https://live.staticflickr.com/65535/50726845917_3879910f53_m.jpg",
           "sourcetype": "image"
          },
          {
           "coordinates": [
            [
             3.1879999999999997,
             52.858
            ],
            [
             9.187999999999999,
             52.858
            ],
            [
             9.187999999999999,
             48.858
            ],
            [
             3.1879999999999997,
             48.858
            ]
           ],
           "source": "https://live.staticflickr.com/65535/50726782432_382121d00a_m.jpg",
           "sourcetype": "image"
          },
          {
           "coordinates": [
            [
             -18.45,
             30.077
            ],
            [
             -12.45,
             30.077
            ],
            [
             -12.45,
             26.077
            ],
            [
             -18.45,
             26.077
            ]
           ],
           "source": "https://live.staticflickr.com/65535/50726508372_498f5f3e8f_m.jpg",
           "sourcetype": "image"
          },
          {
           "coordinates": [
            [
             136.48,
             37.537
            ],
            [
             142.48,
             37.537
            ],
            [
             142.48,
             33.537
            ],
            [
             136.48,
             33.537
            ]
           ],
           "source": "https://live.staticflickr.com/65535/50725677193_4014615e33_m.jpg",
           "sourcetype": "image"
          },
          {
           "coordinates": [
            [
             -4.5600000000000005,
             57.304
            ],
            [
             1.44,
             57.304
            ],
            [
             1.44,
             53.304
            ],
            [
             -4.5600000000000005,
             53.304
            ]
           ],
           "source": "https://live.staticflickr.com/65535/50725161238_2dbd4929d1_m.jpg",
           "sourcetype": "image"
          },
          {
           "coordinates": [
            [
             4.589,
             49.543
            ],
            [
             10.589,
             49.543
            ],
            [
             10.589,
             45.543
            ],
            [
             4.589,
             45.543
            ]
           ],
           "source": "https://live.staticflickr.com/65535/50726010987_d891ef163a_m.jpg",
           "sourcetype": "image"
          },
          {
           "coordinates": [
            [
             133.9,
             37.165
            ],
            [
             139.9,
             37.165
            ],
            [
             139.9,
             33.165
            ],
            [
             133.9,
             33.165
            ]
           ],
           "source": "https://live.staticflickr.com/65535/50725652957_618552a8ce_m.jpg",
           "sourcetype": "image"
          },
          {
           "coordinates": [
            [
             -74.692,
             45.757
            ],
            [
             -68.692,
             45.757
            ],
            [
             -68.692,
             41.757
            ],
            [
             -74.692,
             41.757
            ]
           ],
           "source": "https://live.staticflickr.com/65535/50725274147_2b712b1726_m.jpg",
           "sourcetype": "image"
          },
          {
           "coordinates": [
            [
             -1.119,
             46.679
            ],
            [
             4.881,
             46.679
            ],
            [
             4.881,
             42.679
            ],
            [
             -1.119,
             42.679
            ]
           ],
           "source": "https://live.staticflickr.com/65535/50723562218_7bb160967f_m.jpg",
           "sourcetype": "image"
          },
          {
           "coordinates": [
            [
             -84.727,
             28.451
            ],
            [
             -78.727,
             28.451
            ],
            [
             -78.727,
             24.451
            ],
            [
             -84.727,
             24.451
            ]
           ],
           "source": "https://live.staticflickr.com/65535/50723913481_2984531366_m.jpg",
           "sourcetype": "image"
          },
          {
           "coordinates": [
            [
             7.673,
             55.87
            ],
            [
             13.673,
             55.87
            ],
            [
             13.673,
             51.87
            ],
            [
             7.673,
             51.87
            ]
           ],
           "source": "https://live.staticflickr.com/65535/50723107243_32884fc3d9_m.jpg",
           "sourcetype": "image"
          },
          {
           "coordinates": [
            [
             -4.998,
             48.734
            ],
            [
             1.002,
             48.734
            ],
            [
             1.002,
             44.734
            ],
            [
             -4.998,
             44.734
            ]
           ],
           "source": "https://live.staticflickr.com/65535/50722609428_443465f462_m.jpg",
           "sourcetype": "image"
          },
          {
           "coordinates": [
            [
             -115.097,
             39.483
            ],
            [
             -109.097,
             39.483
            ],
            [
             -109.097,
             35.483
            ],
            [
             -115.097,
             35.483
            ]
           ],
           "source": "https://live.staticflickr.com/65535/50720906643_fde441bccf_m.jpg",
           "sourcetype": "image"
          },
          {
           "coordinates": [
            [
             148.733,
             -30.399
            ],
            [
             154.733,
             -30.399
            ],
            [
             154.733,
             -34.399
            ],
            [
             148.733,
             -34.399
            ]
           ],
           "source": "https://live.staticflickr.com/65535/50721547721_e126d2f3f7_m.jpg",
           "sourcetype": "image"
          },
          {
           "coordinates": [
            [
             -7.773,
             43.626
            ],
            [
             -1.7729999999999997,
             43.626
            ],
            [
             -1.7729999999999997,
             39.626
            ],
            [
             -7.773,
             39.626
            ]
           ],
           "source": "https://live.staticflickr.com/65535/50720679168_ac01983943_m.jpg",
           "sourcetype": "image"
          },
          {
           "coordinates": [
            [
             -79.836,
             44.903
            ],
            [
             -73.836,
             44.903
            ],
            [
             -73.836,
             40.903
            ],
            [
             -79.836,
             40.903
            ]
           ],
           "source": "https://live.staticflickr.com/65535/50720889661_db061577db_m.jpg",
           "sourcetype": "image"
          },
          {
           "coordinates": [
            [
             -52.723,
             -26.483
            ],
            [
             -46.723,
             -26.483
            ],
            [
             -46.723,
             -30.483
            ],
            [
             -52.723,
             -30.483
            ]
           ],
           "source": "https://live.staticflickr.com/65535/50720316486_1ff17ba86f_m.jpg",
           "sourcetype": "image"
          },
          {
           "coordinates": [
            [
             -80.04,
             40.99
            ],
            [
             -74.04,
             40.99
            ],
            [
             -74.04,
             36.99
            ],
            [
             -80.04,
             36.99
            ]
           ],
           "source": "https://live.staticflickr.com/65535/50719893237_6e72b706ed_m.jpg",
           "sourcetype": "image"
          },
          {
           "coordinates": [
            [
             -4.35,
             56.53
            ],
            [
             1.65,
             56.53
            ],
            [
             1.65,
             52.53
            ],
            [
             -4.35,
             52.53
            ]
           ],
           "source": "https://live.staticflickr.com/65535/50719659567_e1a7b66643_m.jpg",
           "sourcetype": "image"
          },
          {
           "coordinates": [
            [
             36.217,
             -4.107
            ],
            [
             42.217,
             -4.107
            ],
            [
             42.217,
             -8.107
            ],
            [
             36.217,
             -8.107
            ]
           ],
           "source": "https://live.staticflickr.com/65535/50716809103_ccfaff51fd_m.jpg",
           "sourcetype": "image"
          },
          {
           "coordinates": [
            [
             118.578,
             27.049
            ],
            [
             124.578,
             27.049
            ],
            [
             124.578,
             23.049
            ],
            [
             118.578,
             23.049
            ]
           ],
           "source": "https://live.staticflickr.com/65535/50715488513_81dd047f15_m.jpg",
           "sourcetype": "image"
          },
          {
           "coordinates": [
            [
             -3.016,
             53.454
            ],
            [
             2.984,
             53.454
            ],
            [
             2.984,
             49.454
            ],
            [
             -3.016,
             49.454
            ]
           ],
           "source": "https://live.staticflickr.com/65535/50715168888_b981fd3125_m.jpg",
           "sourcetype": "image"
          },
          {
           "coordinates": [
            [
             -73.03,
             14.5
            ],
            [
             -67.03,
             14.5
            ],
            [
             -67.03,
             10.5
            ],
            [
             -73.03,
             10.5
            ]
           ],
           "source": "https://live.staticflickr.com/65535/50713625952_e20e82ce6b_m.jpg",
           "sourcetype": "image"
          },
          {
           "coordinates": [
            [
             -86.701,
             44.229
            ],
            [
             -80.701,
             44.229
            ],
            [
             -80.701,
             40.229
            ],
            [
             -86.701,
             40.229
            ]
           ],
           "source": "https://live.staticflickr.com/65535/50714513813_8498d19298_m.jpg",
           "sourcetype": "image"
          },
          {
           "coordinates": [
            [
             9.872,
             52.219
            ],
            [
             15.872,
             52.219
            ],
            [
             15.872,
             48.219
            ],
            [
             9.872,
             48.219
            ]
           ],
           "source": "https://live.staticflickr.com/65535/50715024487_6ebd8e61be_m.jpg",
           "sourcetype": "image"
          },
          {
           "coordinates": [
            [
             -49.649,
             -21.591
            ],
            [
             -43.649,
             -21.591
            ],
            [
             -43.649,
             -25.591
            ],
            [
             -49.649,
             -25.591
            ]
           ],
           "source": "https://live.staticflickr.com/65535/50714212153_d212c59344_m.jpg",
           "sourcetype": "image"
          },
          {
           "coordinates": [
            [
             -74.828,
             47.241
            ],
            [
             -68.828,
             47.241
            ],
            [
             -68.828,
             43.241
            ],
            [
             -74.828,
             43.241
            ]
           ],
           "source": "https://live.staticflickr.com/65535/50714719122_882a26d8de_m.jpg",
           "sourcetype": "image"
          },
          {
           "coordinates": [
            [
             133.9,
             37.165
            ],
            [
             139.9,
             37.165
            ],
            [
             139.9,
             33.165
            ],
            [
             133.9,
             33.165
            ]
           ],
           "source": "https://live.staticflickr.com/65535/50714616851_6fdb7718d5_m.jpg",
           "sourcetype": "image"
          },
          {
           "coordinates": [
            [
             32.308,
             0.3740000000000001
            ],
            [
             38.308,
             0.3740000000000001
            ],
            [
             38.308,
             -3.626
            ],
            [
             32.308,
             -3.626
            ]
           ],
           "source": "https://live.staticflickr.com/65535/50714492792_a986e44380_m.jpg",
           "sourcetype": "image"
          },
          {
           "coordinates": [
            [
             -3.077,
             53.564
            ],
            [
             2.923,
             53.564
            ],
            [
             2.923,
             49.564
            ],
            [
             -3.077,
             49.564
            ]
           ],
           "source": "https://live.staticflickr.com/65535/50713745027_ba448bac25_m.jpg",
           "sourcetype": "image"
          },
          {
           "coordinates": [
            [
             142.003,
             -35.793
            ],
            [
             148.003,
             -35.793
            ],
            [
             148.003,
             -39.793
            ],
            [
             142.003,
             -39.793
            ]
           ],
           "source": "https://live.staticflickr.com/65535/50713165217_d55d369de8_m.jpg",
           "sourcetype": "image"
          },
          {
           "coordinates": [
            [
             -108.545,
             52.388
            ],
            [
             -102.545,
             52.388
            ],
            [
             -102.545,
             48.388
            ],
            [
             -108.545,
             48.388
            ]
           ],
           "source": "https://live.staticflickr.com/65535/50712206493_903bd43ecc_m.jpg",
           "sourcetype": "image"
          },
          {
           "coordinates": [
            [
             128.297,
             -10.558
            ],
            [
             134.297,
             -10.558
            ],
            [
             134.297,
             -14.558
            ],
            [
             128.297,
             -14.558
            ]
           ],
           "source": "https://live.staticflickr.com/65535/50712920291_bf74b266b3_m.jpg",
           "sourcetype": "image"
          },
          {
           "coordinates": [
            [
             168.017,
             -40.957
            ],
            [
             174.017,
             -40.957
            ],
            [
             174.017,
             -44.957
            ],
            [
             168.017,
             -44.957
            ]
           ],
           "source": "https://live.staticflickr.com/65535/50712223011_c8d2541ccc_m.jpg",
           "sourcetype": "image"
          },
          {
           "coordinates": [
            [
             -87.744,
             38.537
            ],
            [
             -81.744,
             38.537
            ],
            [
             -81.744,
             34.537
            ],
            [
             -87.744,
             34.537
            ]
           ],
           "source": "https://live.staticflickr.com/65535/50712130531_cfc0e18e52_m.jpg",
           "sourcetype": "image"
          },
          {
           "coordinates": [
            [
             -90.838,
             43.831
            ],
            [
             -84.838,
             43.831
            ],
            [
             -84.838,
             39.831
            ],
            [
             -90.838,
             39.831
            ]
           ],
           "source": "https://live.staticflickr.com/65535/50711010667_bb445239a2_m.jpg",
           "sourcetype": "image"
          },
          {
           "coordinates": [
            [
             -6.029,
             56.448
            ],
            [
             -0.028999999999999915,
             56.448
            ],
            [
             -0.028999999999999915,
             52.448
            ],
            [
             -6.029,
             52.448
            ]
           ],
           "source": "https://live.staticflickr.com/65535/50708802618_e60a006659_m.jpg",
           "sourcetype": "image"
          },
          {
           "coordinates": [
            [
             -4.475,
             54.369
            ],
            [
             1.525,
             54.369
            ],
            [
             1.525,
             50.369
            ],
            [
             -4.475,
             50.369
            ]
           ],
           "source": "https://live.staticflickr.com/65535/50709455012_c133a14e51_m.jpg",
           "sourcetype": "image"
          },
          {
           "coordinates": [
            [
             171.764,
             -39.329
            ],
            [
             177.764,
             -39.329
            ],
            [
             177.764,
             -43.329
            ],
            [
             171.764,
             -43.329
            ]
           ],
           "source": "https://live.staticflickr.com/65535/50709106446_5fc036cef8_m.jpg",
           "sourcetype": "image"
          },
          {
           "coordinates": [
            [
             -98.996,
             38.153
            ],
            [
             -92.996,
             38.153
            ],
            [
             -92.996,
             34.153
            ],
            [
             -98.996,
             34.153
            ]
           ],
           "source": "https://live.staticflickr.com/65535/50708984641_bfac6bb848_m.jpg",
           "sourcetype": "image"
          },
          {
           "coordinates": [
            [
             30.049,
             36.675
            ],
            [
             36.049,
             36.675
            ],
            [
             36.049,
             32.675
            ],
            [
             30.049,
             32.675
            ]
           ],
           "source": "https://live.staticflickr.com/65535/50708065768_41ae123dd1_m.jpg",
           "sourcetype": "image"
          },
          {
           "coordinates": [
            [
             30.048000000000002,
             36.675
            ],
            [
             36.048,
             36.675
            ],
            [
             36.048,
             32.675
            ],
            [
             30.048000000000002,
             32.675
            ]
           ],
           "source": "https://live.staticflickr.com/65535/50708060148_b4fd035670_m.jpg",
           "sourcetype": "image"
          },
          {
           "coordinates": [
            [
             118.527,
             27.098
            ],
            [
             124.527,
             27.098
            ],
            [
             124.527,
             23.098
            ],
            [
             118.527,
             23.098
            ]
           ],
           "source": "https://live.staticflickr.com/65535/50708033121_875e809965_m.jpg",
           "sourcetype": "image"
          },
          {
           "coordinates": [
            [
             -94.661,
             43.965
            ],
            [
             -88.661,
             43.965
            ],
            [
             -88.661,
             39.965
            ],
            [
             -94.661,
             39.965
            ]
           ],
           "source": "https://live.staticflickr.com/65535/50706905018_4e22013f32_m.jpg",
           "sourcetype": "image"
          },
          {
           "coordinates": [
            [
             -9.386,
             60.212
            ],
            [
             -3.386,
             60.212
            ],
            [
             -3.386,
             56.212
            ],
            [
             -9.386,
             56.212
            ]
           ],
           "source": "https://live.staticflickr.com/65535/50706822748_b44da685ec_m.jpg",
           "sourcetype": "image"
          },
          {
           "coordinates": [
            [
             8.343,
             46.494
            ],
            [
             14.343,
             46.494
            ],
            [
             14.343,
             42.494
            ],
            [
             8.343,
             42.494
            ]
           ],
           "source": "https://live.staticflickr.com/65535/50705908193_fb569d95de_m.jpg",
           "sourcetype": "image"
          },
          {
           "coordinates": [
            [
             8.343,
             46.494
            ],
            [
             14.343,
             46.494
            ],
            [
             14.343,
             42.494
            ],
            [
             8.343,
             42.494
            ]
           ],
           "source": "https://live.staticflickr.com/65535/50706522782_1e5218533a_m.jpg",
           "sourcetype": "image"
          },
          {
           "coordinates": [
            [
             -4.725,
             52.734
            ],
            [
             1.275,
             52.734
            ],
            [
             1.275,
             48.734
            ],
            [
             -4.725,
             48.734
            ]
           ],
           "source": "https://live.staticflickr.com/65535/50706353031_c43f289756_m.jpg",
           "sourcetype": "image"
          },
          {
           "coordinates": [
            [
             97.811,
             15.742
            ],
            [
             103.811,
             15.742
            ],
            [
             103.811,
             11.742
            ],
            [
             97.811,
             11.742
            ]
           ],
           "source": "https://live.staticflickr.com/65535/50706359007_94d8be9440_m.jpg",
           "sourcetype": "image"
          },
          {
           "coordinates": [
            [
             -67.324,
             -29.317
            ],
            [
             -61.324,
             -29.317
            ],
            [
             -61.324,
             -33.317
            ],
            [
             -67.324,
             -33.317
            ]
           ],
           "source": "https://live.staticflickr.com/65535/50706223831_38b3e11043_m.jpg",
           "sourcetype": "image"
          },
          {
           "coordinates": [
            [
             -3.133,
             53.516
            ],
            [
             2.867,
             53.516
            ],
            [
             2.867,
             49.516
            ],
            [
             -3.133,
             49.516
            ]
           ],
           "source": "https://live.staticflickr.com/65535/50706050407_5f4b5d6985_m.jpg",
           "sourcetype": "image"
          },
          {
           "coordinates": [
            [
             -120.256,
             34.796
            ],
            [
             -114.256,
             34.796
            ],
            [
             -114.256,
             30.796
            ],
            [
             -120.256,
             30.796
            ]
           ],
           "source": "https://live.staticflickr.com/65535/50704150333_38c90e8660_m.jpg",
           "sourcetype": "image"
          },
          {
           "coordinates": [
            [
             -82.866,
             41.628
            ],
            [
             -76.866,
             41.628
            ],
            [
             -76.866,
             37.628
            ],
            [
             -82.866,
             37.628
            ]
           ],
           "source": "https://live.staticflickr.com/65535/50704425047_e1066f43bd_m.jpg",
           "sourcetype": "image"
          },
          {
           "coordinates": [
            [
             109.174,
             36.719
            ],
            [
             115.174,
             36.719
            ],
            [
             115.174,
             32.719
            ],
            [
             109.174,
             32.719
            ]
           ],
           "source": "https://live.staticflickr.com/65535/50704369897_1cc641d98c_m.jpg",
           "sourcetype": "image"
          },
          {
           "coordinates": [
            [
             109.688,
             36.684
            ],
            [
             115.688,
             36.684
            ],
            [
             115.688,
             32.684
            ],
            [
             109.688,
             32.684
            ]
           ],
           "source": "https://live.staticflickr.com/65535/50703480048_43f0fbcfa5_m.jpg",
           "sourcetype": "image"
          },
          {
           "coordinates": [
            [
             129.454,
             36.399
            ],
            [
             135.454,
             36.399
            ],
            [
             135.454,
             32.399
            ],
            [
             129.454,
             32.399
            ]
           ],
           "source": "https://live.staticflickr.com/65535/50703899251_48b3741201_m.jpg",
           "sourcetype": "image"
          },
          {
           "coordinates": [
            [
             -76.816,
             42.952
            ],
            [
             -70.816,
             42.952
            ],
            [
             -70.816,
             38.952
            ],
            [
             -76.816,
             38.952
            ]
           ],
           "source": "https://live.staticflickr.com/65535/50703002013_f383020a4e_m.jpg",
           "sourcetype": "image"
          },
          {
           "coordinates": [
            [
             5.552,
             48.602
            ],
            [
             11.552,
             48.602
            ],
            [
             11.552,
             44.602
            ],
            [
             5.552,
             44.602
            ]
           ],
           "source": "https://live.staticflickr.com/65535/50702794233_5e82d92a25_m.jpg",
           "sourcetype": "image"
          },
          {
           "coordinates": [
            [
             -127.424,
             45.124
            ],
            [
             -121.424,
             45.124
            ],
            [
             -121.424,
             41.124
            ],
            [
             -127.424,
             41.124
            ]
           ],
           "source": "https://live.staticflickr.com/65535/50702842341_f1b0fb3af1_m.jpg",
           "sourcetype": "image"
          },
          {
           "coordinates": [
            [
             -74.346,
             45.128
            ],
            [
             -68.346,
             45.128
            ],
            [
             -68.346,
             41.128
            ],
            [
             -74.346,
             41.128
            ]
           ],
           "source": "https://live.staticflickr.com/65535/50702710406_887bf8d687_m.jpg",
           "sourcetype": "image"
          },
          {
           "coordinates": [
            [
             -11.628,
             54.662
            ],
            [
             -5.628,
             54.662
            ],
            [
             -5.628,
             50.662
            ],
            [
             -11.628,
             50.662
            ]
           ],
           "source": "https://live.staticflickr.com/65535/50702157652_b2bc9a55e4_m.jpg",
           "sourcetype": "image"
          },
          {
           "coordinates": [
            [
             -74.325,
             43.52
            ],
            [
             -68.325,
             43.52
            ],
            [
             -68.325,
             39.52
            ],
            [
             -74.325,
             39.52
            ]
           ],
           "source": "https://live.staticflickr.com/65535/50701369706_78f6fc940f_m.jpg",
           "sourcetype": "image"
          },
          {
           "coordinates": [
            [
             -84.843,
             28.657
            ],
            [
             -78.843,
             28.657
            ],
            [
             -78.843,
             24.657
            ],
            [
             -84.843,
             24.657
            ]
           ],
           "source": "https://live.staticflickr.com/65535/50701219707_18af095b3b_m.jpg",
           "sourcetype": "image"
          },
          {
           "coordinates": [
            [
             139.325,
             45.328
            ],
            [
             145.325,
             45.328
            ],
            [
             145.325,
             41.328
            ],
            [
             139.325,
             41.328
            ]
           ],
           "source": "https://live.staticflickr.com/65535/50701176206_35622af97a_m.jpg",
           "sourcetype": "image"
          },
          {
           "coordinates": [
            [
             -78.865,
             41.466
            ],
            [
             -72.865,
             41.466
            ],
            [
             -72.865,
             37.466
            ],
            [
             -78.865,
             37.466
            ]
           ],
           "source": "https://live.staticflickr.com/65535/50701139026_7ea94e8f15_m.jpg",
           "sourcetype": "image"
          },
          {
           "coordinates": [
            [
             -87.54,
             41.163
            ],
            [
             -81.54,
             41.163
            ],
            [
             -81.54,
             37.163
            ],
            [
             -87.54,
             37.163
            ]
           ],
           "source": "https://live.staticflickr.com/65535/50700682126_2ba50cc904_m.jpg",
           "sourcetype": "image"
          },
          {
           "coordinates": [
            [
             -75.729,
             42.826
            ],
            [
             -69.729,
             42.826
            ],
            [
             -69.729,
             38.826
            ],
            [
             -75.729,
             38.826
            ]
           ],
           "source": "https://live.staticflickr.com/65535/50699449688_367b202d2f_m.jpg",
           "sourcetype": "image"
          },
          {
           "coordinates": [
            [
             9.893,
             50.792
            ],
            [
             15.893,
             50.792
            ],
            [
             15.893,
             46.792
            ],
            [
             9.893,
             46.792
            ]
           ],
           "source": "https://live.staticflickr.com/65535/50699325858_35032441e8_m.jpg",
           "sourcetype": "image"
          },
          {
           "coordinates": [
            [
             13.372,
             50.209
            ],
            [
             19.372,
             50.209
            ],
            [
             19.372,
             46.209
            ],
            [
             13.372,
             46.209
            ]
           ],
           "source": "https://live.staticflickr.com/65535/50699171963_ac846d5815_m.jpg",
           "sourcetype": "image"
          },
          {
           "coordinates": [
            [
             5.066000000000001,
             61.852
            ],
            [
             11.066,
             61.852
            ],
            [
             11.066,
             57.852
            ],
            [
             5.066000000000001,
             57.852
            ]
           ],
           "source": "https://live.staticflickr.com/65535/50699670641_0f98895a34_m.jpg",
           "sourcetype": "image"
          },
          {
           "coordinates": [
            [
             -86.06,
             44.309
            ],
            [
             -80.06,
             44.309
            ],
            [
             -80.06,
             40.309
            ],
            [
             -86.06,
             40.309
            ]
           ],
           "source": "https://live.staticflickr.com/65535/50698436548_c7b8b5835e_m.jpg",
           "sourcetype": "image"
          },
          {
           "coordinates": [
            [
             8.144,
             53.789
            ],
            [
             14.144,
             53.789
            ],
            [
             14.144,
             49.789
            ],
            [
             8.144,
             49.789
            ]
           ],
           "source": "https://live.staticflickr.com/65535/50699165322_23ec1becab_m.jpg",
           "sourcetype": "image"
          },
          {
           "coordinates": [
            [
             -63.548,
             48.184
            ],
            [
             -57.548,
             48.184
            ],
            [
             -57.548,
             44.184
            ],
            [
             -63.548,
             44.184
            ]
           ],
           "source": "https://live.staticflickr.com/65535/50628328487_d565654533_m.jpg",
           "sourcetype": "image"
          },
          {
           "coordinates": [
            [
             110.778,
             24.679
            ],
            [
             116.778,
             24.679
            ],
            [
             116.778,
             20.679
            ],
            [
             110.778,
             20.679
            ]
           ],
           "source": "https://live.staticflickr.com/65535/50697766967_48a4a30a62_m.jpg",
           "sourcetype": "image"
          },
          {
           "coordinates": [
            [
             -4.787,
             53.683
            ],
            [
             1.213,
             53.683
            ],
            [
             1.213,
             49.683
            ],
            [
             -4.787,
             49.683
            ]
           ],
           "source": "https://live.staticflickr.com/65535/50697590551_b329fbc54e_m.jpg",
           "sourcetype": "image"
          },
          {
           "coordinates": [
            [
             -3.092,
             53.42
            ],
            [
             2.908,
             53.42
            ],
            [
             2.908,
             49.42
            ],
            [
             -3.092,
             49.42
            ]
           ],
           "source": "https://live.staticflickr.com/65535/50696220633_dd974a4d6f_m.jpg",
           "sourcetype": "image"
          },
          {
           "coordinates": [
            [
             -6.606,
             39.163
            ],
            [
             -0.6059999999999999,
             39.163
            ],
            [
             -0.6059999999999999,
             35.163
            ],
            [
             -6.606,
             35.163
            ]
           ],
           "source": "https://live.staticflickr.com/65535/50696928322_6dfdf59943_m.jpg",
           "sourcetype": "image"
          },
          {
           "coordinates": [
            [
             3.3739999999999997,
             48.043
            ],
            [
             9.373999999999999,
             48.043
            ],
            [
             9.373999999999999,
             44.043
            ],
            [
             3.3739999999999997,
             44.043
            ]
           ],
           "source": "https://live.staticflickr.com/65535/50695427403_c55d8d9123_m.jpg",
           "sourcetype": "image"
          },
          {
           "coordinates": [
            [
             -75.807,
             42.804
            ],
            [
             -69.807,
             42.804
            ],
            [
             -69.807,
             38.804
            ],
            [
             -75.807,
             38.804
            ]
           ],
           "source": "https://live.staticflickr.com/65535/50696215481_17c324d31c_m.jpg",
           "sourcetype": "image"
          },
          {
           "coordinates": [
            [
             -5.934,
             56.898
            ],
            [
             0.06599999999999984,
             56.898
            ],
            [
             0.06599999999999984,
             52.898
            ],
            [
             -5.934,
             52.898
            ]
           ],
           "source": "https://live.staticflickr.com/65535/50695081378_7f30d5bd79_m.jpg",
           "sourcetype": "image"
          },
          {
           "coordinates": [
            [
             -1.611,
             45.611
            ],
            [
             4.389,
             45.611
            ],
            [
             4.389,
             41.611
            ],
            [
             -1.611,
             41.611
            ]
           ],
           "source": "https://live.staticflickr.com/65535/50694312458_a91301c490_m.jpg",
           "sourcetype": "image"
          },
          {
           "coordinates": [
            [
             141.952,
             -35.818
            ],
            [
             147.952,
             -35.818
            ],
            [
             147.952,
             -39.818
            ],
            [
             141.952,
             -39.818
            ]
           ],
           "source": "https://live.staticflickr.com/65535/50693902308_77f09f2c86_m.jpg",
           "sourcetype": "image"
          },
          {
           "coordinates": [
            [
             118.563,
             24.018
            ],
            [
             124.563,
             24.018
            ],
            [
             124.563,
             20.018
            ],
            [
             118.563,
             20.018
            ]
           ],
           "source": "https://live.staticflickr.com/65535/50694488676_9d991c4701_m.jpg",
           "sourcetype": "image"
          },
          {
           "coordinates": [
            [
             10,
             57.602
            ],
            [
             16,
             57.602
            ],
            [
             16,
             53.602
            ],
            [
             10,
             53.602
            ]
           ],
           "source": "https://live.staticflickr.com/65535/50692887037_0ceea1d9b3_m.jpg",
           "sourcetype": "image"
          },
          {
           "coordinates": [
            [
             -4.616,
             56.963
            ],
            [
             1.384,
             56.963
            ],
            [
             1.384,
             52.963
            ],
            [
             -4.616,
             52.963
            ]
           ],
           "source": "https://live.staticflickr.com/65535/50691884473_ffcdb587d1_m.jpg",
           "sourcetype": "image"
          },
          {
           "coordinates": [
            [
             3.567,
             55.225
            ],
            [
             9.567,
             55.225
            ],
            [
             9.567,
             51.225
            ],
            [
             3.567,
             51.225
            ]
           ],
           "source": "https://live.staticflickr.com/65535/50692433282_7b7db7832a_m.jpg",
           "sourcetype": "image"
          },
          {
           "coordinates": [
            [
             3.1159999999999997,
             47.594
            ],
            [
             9.116,
             47.594
            ],
            [
             9.116,
             43.594
            ],
            [
             3.1159999999999997,
             43.594
            ]
           ],
           "source": "https://live.staticflickr.com/65535/50691912707_ecd83038cc_m.jpg",
           "sourcetype": "image"
          },
          {
           "coordinates": [
            [
             -3.863,
             54.248
            ],
            [
             2.137,
             54.248
            ],
            [
             2.137,
             50.248
            ],
            [
             -3.863,
             50.248
            ]
           ],
           "source": "https://live.staticflickr.com/65535/50690898493_9e79bb9528_m.jpg",
           "sourcetype": "image"
          },
          {
           "coordinates": [
            [
             2.95,
             52.889
            ],
            [
             8.95,
             52.889
            ],
            [
             8.95,
             48.889
            ],
            [
             2.95,
             48.889
            ]
           ],
           "source": "https://live.staticflickr.com/65535/50690566711_60ffd8ddce_m.jpg",
           "sourcetype": "image"
          },
          {
           "coordinates": [
            [
             -5.615,
             53.449
            ],
            [
             0.3849999999999998,
             53.449
            ],
            [
             0.3849999999999998,
             49.449
            ],
            [
             -5.615,
             49.449
            ]
           ],
           "source": "https://live.staticflickr.com/65535/50689363478_e8a0bf87e3_m.jpg",
           "sourcetype": "image"
          },
          {
           "coordinates": [
            [
             8.308,
             46.493
            ],
            [
             14.308,
             46.493
            ],
            [
             14.308,
             42.493
            ],
            [
             8.308,
             42.493
            ]
           ],
           "source": "https://live.staticflickr.com/65535/50690069497_8b4c0f38ab_m.jpg",
           "sourcetype": "image"
          },
          {
           "coordinates": [
            [
             8.051,
             56.446
            ],
            [
             14.051,
             56.446
            ],
            [
             14.051,
             52.446
            ],
            [
             8.051,
             52.446
            ]
           ],
           "source": "https://live.staticflickr.com/65535/50689820851_470ff4acf1_m.jpg",
           "sourcetype": "image"
          },
          {
           "coordinates": [
            [
             141.81,
             -35.86
            ],
            [
             147.81,
             -35.86
            ],
            [
             147.81,
             -39.86
            ],
            [
             141.81,
             -39.86
            ]
           ],
           "source": "https://live.staticflickr.com/65535/50689856337_65948621d9_m.jpg",
           "sourcetype": "image"
          },
          {
           "coordinates": [
            [
             -84.005,
             31.222
            ],
            [
             -78.005,
             31.222
            ],
            [
             -78.005,
             27.222
            ],
            [
             -84.005,
             27.222
            ]
           ],
           "source": "https://live.staticflickr.com/65535/50689250456_387501403d_m.jpg",
           "sourcetype": "image"
          },
          {
           "coordinates": [
            [
             -82.071,
             37.911
            ],
            [
             -76.071,
             37.911
            ],
            [
             -76.071,
             33.911
            ],
            [
             -82.071,
             33.911
            ]
           ],
           "source": "https://live.staticflickr.com/65535/50688592497_909336f801_m.jpg",
           "sourcetype": "image"
          },
          {
           "coordinates": [
            [
             -77.277,
             42.84
            ],
            [
             -71.277,
             42.84
            ],
            [
             -71.277,
             38.84
            ],
            [
             -77.277,
             38.84
            ]
           ],
           "source": "https://live.staticflickr.com/65535/50688534567_252280a186_m.jpg",
           "sourcetype": "image"
          },
          {
           "coordinates": [
            [
             1.4969999999999999,
             53.916
            ],
            [
             7.497,
             53.916
            ],
            [
             7.497,
             49.916
            ],
            [
             1.4969999999999999,
             49.916
            ]
           ],
           "source": "https://live.staticflickr.com/65535/50687558991_ee7aca47d0_m.jpg",
           "sourcetype": "image"
          },
          {
           "coordinates": [
            [
             -83.438,
             34.376
            ],
            [
             -77.438,
             34.376
            ],
            [
             -77.438,
             30.375999999999998
            ],
            [
             -83.438,
             30.375999999999998
            ]
           ],
           "source": "https://live.staticflickr.com/65535/50685761718_a3eb121b25_m.jpg",
           "sourcetype": "image"
          },
          {
           "coordinates": [
            [
             147.61,
             -32.169
            ],
            [
             153.61,
             -32.169
            ],
            [
             153.61,
             -36.169
            ],
            [
             147.61,
             -36.169
            ]
           ],
           "source": "https://live.staticflickr.com/65535/50686075146_3fea7042e9_m.jpg",
           "sourcetype": "image"
          },
          {
           "coordinates": [
            [
             -117.019,
             48.924
            ],
            [
             -111.019,
             48.924
            ],
            [
             -111.019,
             44.924
            ],
            [
             -117.019,
             44.924
            ]
           ],
           "source": "https://live.staticflickr.com/65535/50685036578_28564cfa2e_m.jpg",
           "sourcetype": "image"
          },
          {
           "coordinates": [
            [
             12.349,
             42.091
            ],
            [
             18.349,
             42.091
            ],
            [
             18.349,
             38.091
            ],
            [
             12.349,
             38.091
            ]
           ],
           "source": "https://live.staticflickr.com/65535/50685022123_eabf9f2b23_m.jpg",
           "sourcetype": "image"
          },
          {
           "coordinates": [
            [
             -79.964,
             40.23
            ],
            [
             -73.964,
             40.23
            ],
            [
             -73.964,
             36.23
            ],
            [
             -79.964,
             36.23
            ]
           ],
           "source": "https://live.staticflickr.com/65535/50685267327_8b663d3b58_m.jpg",
           "sourcetype": "image"
          },
          {
           "coordinates": [
            [
             -90.625,
             43.887
            ],
            [
             -84.625,
             43.887
            ],
            [
             -84.625,
             39.887
            ],
            [
             -90.625,
             39.887
            ]
           ],
           "source": "https://live.staticflickr.com/65535/50684575362_fa8ab0c13a_m.jpg",
           "sourcetype": "image"
          },
          {
           "coordinates": [
            [
             -83.324,
             29.419
            ],
            [
             -77.324,
             29.419
            ],
            [
             -77.324,
             25.419
            ],
            [
             -83.324,
             25.419
            ]
           ],
           "source": "https://live.staticflickr.com/65535/50683832188_c12b2dcdd7_m.jpg",
           "sourcetype": "image"
          },
          {
           "coordinates": [
            [
             -7.867,
             57.714
            ],
            [
             -1.867,
             57.714
            ],
            [
             -1.867,
             53.714
            ],
            [
             -7.867,
             53.714
            ]
           ],
           "source": "https://live.staticflickr.com/65535/50684403077_b08c665ce7_m.jpg",
           "sourcetype": "image"
          },
          {
           "coordinates": [
            [
             -84.418,
             33.117000000000004
            ],
            [
             -78.418,
             33.117000000000004
            ],
            [
             -78.418,
             29.117
            ],
            [
             -84.418,
             29.117
            ]
           ],
           "source": "https://live.staticflickr.com/65535/50683930526_443ed1dfb4_m.jpg",
           "sourcetype": "image"
          },
          {
           "coordinates": [
            [
             -123.656,
             50.481
            ],
            [
             -117.656,
             50.481
            ],
            [
             -117.656,
             46.481
            ],
            [
             -123.656,
             46.481
            ]
           ],
           "source": "https://live.staticflickr.com/65535/50683827387_f77222c7e4_m.jpg",
           "sourcetype": "image"
          }
         ],
         "pitch": 0,
         "style": "carto-positron",
         "zoom": 1.289217832435594
        },
        "template": {
         "data": {
          "bar": [
           {
            "error_x": {
             "color": "#2a3f5f"
            },
            "error_y": {
             "color": "#2a3f5f"
            },
            "marker": {
             "line": {
              "color": "#E5ECF6",
              "width": 0.5
             },
             "pattern": {
              "fillmode": "overlay",
              "size": 10,
              "solidity": 0.2
             }
            },
            "type": "bar"
           }
          ],
          "barpolar": [
           {
            "marker": {
             "line": {
              "color": "#E5ECF6",
              "width": 0.5
             },
             "pattern": {
              "fillmode": "overlay",
              "size": 10,
              "solidity": 0.2
             }
            },
            "type": "barpolar"
           }
          ],
          "carpet": [
           {
            "aaxis": {
             "endlinecolor": "#2a3f5f",
             "gridcolor": "white",
             "linecolor": "white",
             "minorgridcolor": "white",
             "startlinecolor": "#2a3f5f"
            },
            "baxis": {
             "endlinecolor": "#2a3f5f",
             "gridcolor": "white",
             "linecolor": "white",
             "minorgridcolor": "white",
             "startlinecolor": "#2a3f5f"
            },
            "type": "carpet"
           }
          ],
          "choropleth": [
           {
            "colorbar": {
             "outlinewidth": 0,
             "ticks": ""
            },
            "type": "choropleth"
           }
          ],
          "contour": [
           {
            "colorbar": {
             "outlinewidth": 0,
             "ticks": ""
            },
            "colorscale": [
             [
              0,
              "#0d0887"
             ],
             [
              0.1111111111111111,
              "#46039f"
             ],
             [
              0.2222222222222222,
              "#7201a8"
             ],
             [
              0.3333333333333333,
              "#9c179e"
             ],
             [
              0.4444444444444444,
              "#bd3786"
             ],
             [
              0.5555555555555556,
              "#d8576b"
             ],
             [
              0.6666666666666666,
              "#ed7953"
             ],
             [
              0.7777777777777778,
              "#fb9f3a"
             ],
             [
              0.8888888888888888,
              "#fdca26"
             ],
             [
              1,
              "#f0f921"
             ]
            ],
            "type": "contour"
           }
          ],
          "contourcarpet": [
           {
            "colorbar": {
             "outlinewidth": 0,
             "ticks": ""
            },
            "type": "contourcarpet"
           }
          ],
          "heatmap": [
           {
            "colorbar": {
             "outlinewidth": 0,
             "ticks": ""
            },
            "colorscale": [
             [
              0,
              "#0d0887"
             ],
             [
              0.1111111111111111,
              "#46039f"
             ],
             [
              0.2222222222222222,
              "#7201a8"
             ],
             [
              0.3333333333333333,
              "#9c179e"
             ],
             [
              0.4444444444444444,
              "#bd3786"
             ],
             [
              0.5555555555555556,
              "#d8576b"
             ],
             [
              0.6666666666666666,
              "#ed7953"
             ],
             [
              0.7777777777777778,
              "#fb9f3a"
             ],
             [
              0.8888888888888888,
              "#fdca26"
             ],
             [
              1,
              "#f0f921"
             ]
            ],
            "type": "heatmap"
           }
          ],
          "heatmapgl": [
           {
            "colorbar": {
             "outlinewidth": 0,
             "ticks": ""
            },
            "colorscale": [
             [
              0,
              "#0d0887"
             ],
             [
              0.1111111111111111,
              "#46039f"
             ],
             [
              0.2222222222222222,
              "#7201a8"
             ],
             [
              0.3333333333333333,
              "#9c179e"
             ],
             [
              0.4444444444444444,
              "#bd3786"
             ],
             [
              0.5555555555555556,
              "#d8576b"
             ],
             [
              0.6666666666666666,
              "#ed7953"
             ],
             [
              0.7777777777777778,
              "#fb9f3a"
             ],
             [
              0.8888888888888888,
              "#fdca26"
             ],
             [
              1,
              "#f0f921"
             ]
            ],
            "type": "heatmapgl"
           }
          ],
          "histogram": [
           {
            "marker": {
             "pattern": {
              "fillmode": "overlay",
              "size": 10,
              "solidity": 0.2
             }
            },
            "type": "histogram"
           }
          ],
          "histogram2d": [
           {
            "colorbar": {
             "outlinewidth": 0,
             "ticks": ""
            },
            "colorscale": [
             [
              0,
              "#0d0887"
             ],
             [
              0.1111111111111111,
              "#46039f"
             ],
             [
              0.2222222222222222,
              "#7201a8"
             ],
             [
              0.3333333333333333,
              "#9c179e"
             ],
             [
              0.4444444444444444,
              "#bd3786"
             ],
             [
              0.5555555555555556,
              "#d8576b"
             ],
             [
              0.6666666666666666,
              "#ed7953"
             ],
             [
              0.7777777777777778,
              "#fb9f3a"
             ],
             [
              0.8888888888888888,
              "#fdca26"
             ],
             [
              1,
              "#f0f921"
             ]
            ],
            "type": "histogram2d"
           }
          ],
          "histogram2dcontour": [
           {
            "colorbar": {
             "outlinewidth": 0,
             "ticks": ""
            },
            "colorscale": [
             [
              0,
              "#0d0887"
             ],
             [
              0.1111111111111111,
              "#46039f"
             ],
             [
              0.2222222222222222,
              "#7201a8"
             ],
             [
              0.3333333333333333,
              "#9c179e"
             ],
             [
              0.4444444444444444,
              "#bd3786"
             ],
             [
              0.5555555555555556,
              "#d8576b"
             ],
             [
              0.6666666666666666,
              "#ed7953"
             ],
             [
              0.7777777777777778,
              "#fb9f3a"
             ],
             [
              0.8888888888888888,
              "#fdca26"
             ],
             [
              1,
              "#f0f921"
             ]
            ],
            "type": "histogram2dcontour"
           }
          ],
          "mesh3d": [
           {
            "colorbar": {
             "outlinewidth": 0,
             "ticks": ""
            },
            "type": "mesh3d"
           }
          ],
          "parcoords": [
           {
            "line": {
             "colorbar": {
              "outlinewidth": 0,
              "ticks": ""
             }
            },
            "type": "parcoords"
           }
          ],
          "pie": [
           {
            "automargin": true,
            "type": "pie"
           }
          ],
          "scatter": [
           {
            "fillpattern": {
             "fillmode": "overlay",
             "size": 10,
             "solidity": 0.2
            },
            "type": "scatter"
           }
          ],
          "scatter3d": [
           {
            "line": {
             "colorbar": {
              "outlinewidth": 0,
              "ticks": ""
             }
            },
            "marker": {
             "colorbar": {
              "outlinewidth": 0,
              "ticks": ""
             }
            },
            "type": "scatter3d"
           }
          ],
          "scattercarpet": [
           {
            "marker": {
             "colorbar": {
              "outlinewidth": 0,
              "ticks": ""
             }
            },
            "type": "scattercarpet"
           }
          ],
          "scattergeo": [
           {
            "marker": {
             "colorbar": {
              "outlinewidth": 0,
              "ticks": ""
             }
            },
            "type": "scattergeo"
           }
          ],
          "scattergl": [
           {
            "marker": {
             "colorbar": {
              "outlinewidth": 0,
              "ticks": ""
             }
            },
            "type": "scattergl"
           }
          ],
          "scattermapbox": [
           {
            "marker": {
             "colorbar": {
              "outlinewidth": 0,
              "ticks": ""
             }
            },
            "type": "scattermapbox"
           }
          ],
          "scatterpolar": [
           {
            "marker": {
             "colorbar": {
              "outlinewidth": 0,
              "ticks": ""
             }
            },
            "type": "scatterpolar"
           }
          ],
          "scatterpolargl": [
           {
            "marker": {
             "colorbar": {
              "outlinewidth": 0,
              "ticks": ""
             }
            },
            "type": "scatterpolargl"
           }
          ],
          "scatterternary": [
           {
            "marker": {
             "colorbar": {
              "outlinewidth": 0,
              "ticks": ""
             }
            },
            "type": "scatterternary"
           }
          ],
          "surface": [
           {
            "colorbar": {
             "outlinewidth": 0,
             "ticks": ""
            },
            "colorscale": [
             [
              0,
              "#0d0887"
             ],
             [
              0.1111111111111111,
              "#46039f"
             ],
             [
              0.2222222222222222,
              "#7201a8"
             ],
             [
              0.3333333333333333,
              "#9c179e"
             ],
             [
              0.4444444444444444,
              "#bd3786"
             ],
             [
              0.5555555555555556,
              "#d8576b"
             ],
             [
              0.6666666666666666,
              "#ed7953"
             ],
             [
              0.7777777777777778,
              "#fb9f3a"
             ],
             [
              0.8888888888888888,
              "#fdca26"
             ],
             [
              1,
              "#f0f921"
             ]
            ],
            "type": "surface"
           }
          ],
          "table": [
           {
            "cells": {
             "fill": {
              "color": "#EBF0F8"
             },
             "line": {
              "color": "white"
             }
            },
            "header": {
             "fill": {
              "color": "#C8D4E3"
             },
             "line": {
              "color": "white"
             }
            },
            "type": "table"
           }
          ]
         },
         "layout": {
          "annotationdefaults": {
           "arrowcolor": "#2a3f5f",
           "arrowhead": 0,
           "arrowwidth": 1
          },
          "autotypenumbers": "strict",
          "coloraxis": {
           "colorbar": {
            "outlinewidth": 0,
            "ticks": ""
           }
          },
          "colorscale": {
           "diverging": [
            [
             0,
             "#8e0152"
            ],
            [
             0.1,
             "#c51b7d"
            ],
            [
             0.2,
             "#de77ae"
            ],
            [
             0.3,
             "#f1b6da"
            ],
            [
             0.4,
             "#fde0ef"
            ],
            [
             0.5,
             "#f7f7f7"
            ],
            [
             0.6,
             "#e6f5d0"
            ],
            [
             0.7,
             "#b8e186"
            ],
            [
             0.8,
             "#7fbc41"
            ],
            [
             0.9,
             "#4d9221"
            ],
            [
             1,
             "#276419"
            ]
           ],
           "sequential": [
            [
             0,
             "#0d0887"
            ],
            [
             0.1111111111111111,
             "#46039f"
            ],
            [
             0.2222222222222222,
             "#7201a8"
            ],
            [
             0.3333333333333333,
             "#9c179e"
            ],
            [
             0.4444444444444444,
             "#bd3786"
            ],
            [
             0.5555555555555556,
             "#d8576b"
            ],
            [
             0.6666666666666666,
             "#ed7953"
            ],
            [
             0.7777777777777778,
             "#fb9f3a"
            ],
            [
             0.8888888888888888,
             "#fdca26"
            ],
            [
             1,
             "#f0f921"
            ]
           ],
           "sequentialminus": [
            [
             0,
             "#0d0887"
            ],
            [
             0.1111111111111111,
             "#46039f"
            ],
            [
             0.2222222222222222,
             "#7201a8"
            ],
            [
             0.3333333333333333,
             "#9c179e"
            ],
            [
             0.4444444444444444,
             "#bd3786"
            ],
            [
             0.5555555555555556,
             "#d8576b"
            ],
            [
             0.6666666666666666,
             "#ed7953"
            ],
            [
             0.7777777777777778,
             "#fb9f3a"
            ],
            [
             0.8888888888888888,
             "#fdca26"
            ],
            [
             1,
             "#f0f921"
            ]
           ]
          },
          "colorway": [
           "#636efa",
           "#EF553B",
           "#00cc96",
           "#ab63fa",
           "#FFA15A",
           "#19d3f3",
           "#FF6692",
           "#B6E880",
           "#FF97FF",
           "#FECB52"
          ],
          "font": {
           "color": "#2a3f5f"
          },
          "geo": {
           "bgcolor": "white",
           "lakecolor": "white",
           "landcolor": "#E5ECF6",
           "showlakes": true,
           "showland": true,
           "subunitcolor": "white"
          },
          "hoverlabel": {
           "align": "left"
          },
          "hovermode": "closest",
          "mapbox": {
           "style": "light"
          },
          "paper_bgcolor": "white",
          "plot_bgcolor": "#E5ECF6",
          "polar": {
           "angularaxis": {
            "gridcolor": "white",
            "linecolor": "white",
            "ticks": ""
           },
           "bgcolor": "#E5ECF6",
           "radialaxis": {
            "gridcolor": "white",
            "linecolor": "white",
            "ticks": ""
           }
          },
          "scene": {
           "xaxis": {
            "backgroundcolor": "#E5ECF6",
            "gridcolor": "white",
            "gridwidth": 2,
            "linecolor": "white",
            "showbackground": true,
            "ticks": "",
            "zerolinecolor": "white"
           },
           "yaxis": {
            "backgroundcolor": "#E5ECF6",
            "gridcolor": "white",
            "gridwidth": 2,
            "linecolor": "white",
            "showbackground": true,
            "ticks": "",
            "zerolinecolor": "white"
           },
           "zaxis": {
            "backgroundcolor": "#E5ECF6",
            "gridcolor": "white",
            "gridwidth": 2,
            "linecolor": "white",
            "showbackground": true,
            "ticks": "",
            "zerolinecolor": "white"
           }
          },
          "shapedefaults": {
           "line": {
            "color": "#2a3f5f"
           }
          },
          "ternary": {
           "aaxis": {
            "gridcolor": "white",
            "linecolor": "white",
            "ticks": ""
           },
           "baxis": {
            "gridcolor": "white",
            "linecolor": "white",
            "ticks": ""
           },
           "bgcolor": "#E5ECF6",
           "caxis": {
            "gridcolor": "white",
            "linecolor": "white",
            "ticks": ""
           }
          },
          "title": {
           "x": 0.05
          },
          "xaxis": {
           "automargin": true,
           "gridcolor": "white",
           "linecolor": "white",
           "ticks": "",
           "title": {
            "standoff": 15
           },
           "zerolinecolor": "white",
           "zerolinewidth": 2
          },
          "yaxis": {
           "automargin": true,
           "gridcolor": "white",
           "linecolor": "white",
           "ticks": "",
           "title": {
            "standoff": 15
           },
           "zerolinecolor": "white",
           "zerolinewidth": 2
          }
         }
        },
        "title": {
         "text": "U.S. States Boundaries"
        }
       }
      },
      "image/png": "[encoded data removed]",
      "text/html": [
       "<div>                            <div id=\"8ab1d600-9e19-4b77-a8a6-d3c0ef8979ef\" class=\"plotly-graph-div\" style=\"height:525px; width:100%;\"></div>            <script type=\"text/javascript\">                require([\"plotly\"], function(Plotly) {                    window.PLOTLYENV=window.PLOTLYENV || {};                                    if (document.getElementById(\"8ab1d600-9e19-4b77-a8a6-d3c0ef8979ef\")) {                    Plotly.newPlot(                        \"8ab1d600-9e19-4b77-a8a6-d3c0ef8979ef\",                        [{\"type\":\"scattermapbox\"}],                        {\"template\":{\"data\":{\"histogram2dcontour\":[{\"type\":\"histogram2dcontour\",\"colorbar\":{\"outlinewidth\":0,\"ticks\":\"\"},\"colorscale\":[[0.0,\"#0d0887\"],[0.1111111111111111,\"#46039f\"],[0.2222222222222222,\"#7201a8\"],[0.3333333333333333,\"#9c179e\"],[0.4444444444444444,\"#bd3786\"],[0.5555555555555556,\"#d8576b\"],[0.6666666666666666,\"#ed7953\"],[0.7777777777777778,\"#fb9f3a\"],[0.8888888888888888,\"#fdca26\"],[1.0,\"#f0f921\"]]}],\"choropleth\":[{\"type\":\"choropleth\",\"colorbar\":{\"outlinewidth\":0,\"ticks\":\"\"}}],\"histogram2d\":[{\"type\":\"histogram2d\",\"colorbar\":{\"outlinewidth\":0,\"ticks\":\"\"},\"colorscale\":[[0.0,\"#0d0887\"],[0.1111111111111111,\"#46039f\"],[0.2222222222222222,\"#7201a8\"],[0.3333333333333333,\"#9c179e\"],[0.4444444444444444,\"#bd3786\"],[0.5555555555555556,\"#d8576b\"],[0.6666666666666666,\"#ed7953\"],[0.7777777777777778,\"#fb9f3a\"],[0.8888888888888888,\"#fdca26\"],[1.0,\"#f0f921\"]]}],\"heatmap\":[{\"type\":\"heatmap\",\"colorbar\":{\"outlinewidth\":0,\"ticks\":\"\"},\"colorscale\":[[0.0,\"#0d0887\"],[0.1111111111111111,\"#46039f\"],[0.2222222222222222,\"#7201a8\"],[0.3333333333333333,\"#9c179e\"],[0.4444444444444444,\"#bd3786\"],[0.5555555555555556,\"#d8576b\"],[0.6666666666666666,\"#ed7953\"],[0.7777777777777778,\"#fb9f3a\"],[0.8888888888888888,\"#fdca26\"],[1.0,\"#f0f921\"]]}],\"heatmapgl\":[{\"type\":\"heatmapgl\",\"colorbar\":{\"outlinewidth\":0,\"ticks\":\"\"},\"colorscale\":[[0.0,\"#0d0887\"],[0.1111111111111111,\"#46039f\"],[0.2222222222222222,\"#7201a8\"],[0.3333333333333333,\"#9c179e\"],[0.4444444444444444,\"#bd3786\"],[0.5555555555555556,\"#d8576b\"],[0.6666666666666666,\"#ed7953\"],[0.7777777777777778,\"#fb9f3a\"],[0.8888888888888888,\"#fdca26\"],[1.0,\"#f0f921\"]]}],\"contourcarpet\":[{\"type\":\"contourcarpet\",\"colorbar\":{\"outlinewidth\":0,\"ticks\":\"\"}}],\"contour\":[{\"type\":\"contour\",\"colorbar\":{\"outlinewidth\":0,\"ticks\":\"\"},\"colorscale\":[[0.0,\"#0d0887\"],[0.1111111111111111,\"#46039f\"],[0.2222222222222222,\"#7201a8\"],[0.3333333333333333,\"#9c179e\"],[0.4444444444444444,\"#bd3786\"],[0.5555555555555556,\"#d8576b\"],[0.6666666666666666,\"#ed7953\"],[0.7777777777777778,\"#fb9f3a\"],[0.8888888888888888,\"#fdca26\"],[1.0,\"#f0f921\"]]}],\"surface\":[{\"type\":\"surface\",\"colorbar\":{\"outlinewidth\":0,\"ticks\":\"\"},\"colorscale\":[[0.0,\"#0d0887\"],[0.1111111111111111,\"#46039f\"],[0.2222222222222222,\"#7201a8\"],[0.3333333333333333,\"#9c179e\"],[0.4444444444444444,\"#bd3786\"],[0.5555555555555556,\"#d8576b\"],[0.6666666666666666,\"#ed7953\"],[0.7777777777777778,\"#fb9f3a\"],[0.8888888888888888,\"#fdca26\"],[1.0,\"#f0f921\"]]}],\"mesh3d\":[{\"type\":\"mesh3d\",\"colorbar\":{\"outlinewidth\":0,\"ticks\":\"\"}}],\"scatter\":[{\"fillpattern\":{\"fillmode\":\"overlay\",\"size\":10,\"solidity\":0.2},\"type\":\"scatter\"}],\"parcoords\":[{\"type\":\"parcoords\",\"line\":{\"colorbar\":{\"outlinewidth\":0,\"ticks\":\"\"}}}],\"scatterpolargl\":[{\"type\":\"scatterpolargl\",\"marker\":{\"colorbar\":{\"outlinewidth\":0,\"ticks\":\"\"}}}],\"bar\":[{\"error_x\":{\"color\":\"#2a3f5f\"},\"error_y\":{\"color\":\"#2a3f5f\"},\"marker\":{\"line\":{\"color\":\"#E5ECF6\",\"width\":0.5},\"pattern\":{\"fillmode\":\"overlay\",\"size\":10,\"solidity\":0.2}},\"type\":\"bar\"}],\"scattergeo\":[{\"type\":\"scattergeo\",\"marker\":{\"colorbar\":{\"outlinewidth\":0,\"ticks\":\"\"}}}],\"scatterpolar\":[{\"type\":\"scatterpolar\",\"marker\":{\"colorbar\":{\"outlinewidth\":0,\"ticks\":\"\"}}}],\"histogram\":[{\"marker\":{\"pattern\":{\"fillmode\":\"overlay\",\"size\":10,\"solidity\":0.2}},\"type\":\"histogram\"}],\"scattergl\":[{\"type\":\"scattergl\",\"marker\":{\"colorbar\":{\"outlinewidth\":0,\"ticks\":\"\"}}}],\"scatter3d\":[{\"type\":\"scatter3d\",\"line\":{\"colorbar\":{\"outlinewidth\":0,\"ticks\":\"\"}},\"marker\":{\"colorbar\":{\"outlinewidth\":0,\"ticks\":\"\"}}}],\"scattermapbox\":[{\"type\":\"scattermapbox\",\"marker\":{\"colorbar\":{\"outlinewidth\":0,\"ticks\":\"\"}}}],\"scatterternary\":[{\"type\":\"scatterternary\",\"marker\":{\"colorbar\":{\"outlinewidth\":0,\"ticks\":\"\"}}}],\"scattercarpet\":[{\"type\":\"scattercarpet\",\"marker\":{\"colorbar\":{\"outlinewidth\":0,\"ticks\":\"\"}}}],\"carpet\":[{\"aaxis\":{\"endlinecolor\":\"#2a3f5f\",\"gridcolor\":\"white\",\"linecolor\":\"white\",\"minorgridcolor\":\"white\",\"startlinecolor\":\"#2a3f5f\"},\"baxis\":{\"endlinecolor\":\"#2a3f5f\",\"gridcolor\":\"white\",\"linecolor\":\"white\",\"minorgridcolor\":\"white\",\"startlinecolor\":\"#2a3f5f\"},\"type\":\"carpet\"}],\"table\":[{\"cells\":{\"fill\":{\"color\":\"#EBF0F8\"},\"line\":{\"color\":\"white\"}},\"header\":{\"fill\":{\"color\":\"#C8D4E3\"},\"line\":{\"color\":\"white\"}},\"type\":\"table\"}],\"barpolar\":[{\"marker\":{\"line\":{\"color\":\"#E5ECF6\",\"width\":0.5},\"pattern\":{\"fillmode\":\"overlay\",\"size\":10,\"solidity\":0.2}},\"type\":\"barpolar\"}],\"pie\":[{\"automargin\":true,\"type\":\"pie\"}]},\"layout\":{\"autotypenumbers\":\"strict\",\"colorway\":[\"#636efa\",\"#EF553B\",\"#00cc96\",\"#ab63fa\",\"#FFA15A\",\"#19d3f3\",\"#FF6692\",\"#B6E880\",\"#FF97FF\",\"#FECB52\"],\"font\":{\"color\":\"#2a3f5f\"},\"hovermode\":\"closest\",\"hoverlabel\":{\"align\":\"left\"},\"paper_bgcolor\":\"white\",\"plot_bgcolor\":\"#E5ECF6\",\"polar\":{\"bgcolor\":\"#E5ECF6\",\"angularaxis\":{\"gridcolor\":\"white\",\"linecolor\":\"white\",\"ticks\":\"\"},\"radialaxis\":{\"gridcolor\":\"white\",\"linecolor\":\"white\",\"ticks\":\"\"}},\"ternary\":{\"bgcolor\":\"#E5ECF6\",\"aaxis\":{\"gridcolor\":\"white\",\"linecolor\":\"white\",\"ticks\":\"\"},\"baxis\":{\"gridcolor\":\"white\",\"linecolor\":\"white\",\"ticks\":\"\"},\"caxis\":{\"gridcolor\":\"white\",\"linecolor\":\"white\",\"ticks\":\"\"}},\"coloraxis\":{\"colorbar\":{\"outlinewidth\":0,\"ticks\":\"\"}},\"colorscale\":{\"sequential\":[[0.0,\"#0d0887\"],[0.1111111111111111,\"#46039f\"],[0.2222222222222222,\"#7201a8\"],[0.3333333333333333,\"#9c179e\"],[0.4444444444444444,\"#bd3786\"],[0.5555555555555556,\"#d8576b\"],[0.6666666666666666,\"#ed7953\"],[0.7777777777777778,\"#fb9f3a\"],[0.8888888888888888,\"#fdca26\"],[1.0,\"#f0f921\"]],\"sequentialminus\":[[0.0,\"#0d0887\"],[0.1111111111111111,\"#46039f\"],[0.2222222222222222,\"#7201a8\"],[0.3333333333333333,\"#9c179e\"],[0.4444444444444444,\"#bd3786\"],[0.5555555555555556,\"#d8576b\"],[0.6666666666666666,\"#ed7953\"],[0.7777777777777778,\"#fb9f3a\"],[0.8888888888888888,\"#fdca26\"],[1.0,\"#f0f921\"]],\"diverging\":[[0,\"#8e0152\"],[0.1,\"#c51b7d\"],[0.2,\"#de77ae\"],[0.3,\"#f1b6da\"],[0.4,\"#fde0ef\"],[0.5,\"#f7f7f7\"],[0.6,\"#e6f5d0\"],[0.7,\"#b8e186\"],[0.8,\"#7fbc41\"],[0.9,\"#4d9221\"],[1,\"#276419\"]]},\"xaxis\":{\"gridcolor\":\"white\",\"linecolor\":\"white\",\"ticks\":\"\",\"title\":{\"standoff\":15},\"zerolinecolor\":\"white\",\"automargin\":true,\"zerolinewidth\":2},\"yaxis\":{\"gridcolor\":\"white\",\"linecolor\":\"white\",\"ticks\":\"\",\"title\":{\"standoff\":15},\"zerolinecolor\":\"white\",\"automargin\":true,\"zerolinewidth\":2},\"scene\":{\"xaxis\":{\"backgroundcolor\":\"#E5ECF6\",\"gridcolor\":\"white\",\"linecolor\":\"white\",\"showbackground\":true,\"ticks\":\"\",\"zerolinecolor\":\"white\",\"gridwidth\":2},\"yaxis\":{\"backgroundcolor\":\"#E5ECF6\",\"gridcolor\":\"white\",\"linecolor\":\"white\",\"showbackground\":true,\"ticks\":\"\",\"zerolinecolor\":\"white\",\"gridwidth\":2},\"zaxis\":{\"backgroundcolor\":\"#E5ECF6\",\"gridcolor\":\"white\",\"linecolor\":\"white\",\"showbackground\":true,\"ticks\":\"\",\"zerolinecolor\":\"white\",\"gridwidth\":2}},\"shapedefaults\":{\"line\":{\"color\":\"#2a3f5f\"}},\"annotationdefaults\":{\"arrowcolor\":\"#2a3f5f\",\"arrowhead\":0,\"arrowwidth\":1},\"geo\":{\"bgcolor\":\"white\",\"landcolor\":\"#E5ECF6\",\"subunitcolor\":\"white\",\"showland\":true,\"showlakes\":true,\"lakecolor\":\"white\"},\"title\":{\"x\":0.05},\"mapbox\":{\"style\":\"light\"}}},\"mapbox\":{\"center\":{\"lat\":37.0902,\"lon\":-95.7129},\"zoom\":2,\"accesstoken\":\"pk.eyJ1IjoicnlhbnZhY2hlIiwiYSI6ImNtMzlicGE5bTEwY3gyanB0NnRpMjlxYncifQ.l9JCx0KgfP0bFE9ND4NwDw\",\"style\":\"carto-positron\",\"layers\":[{\"coordinates\":[[-109.322,44.839],[-103.322,44.839],[-103.322,40.839],[-109.322,40.839]],\"source\":\"https:\\u002f\\u002flive.staticflickr.com\\u002f65535\\u002f50780604273_4eec127bbe_m.jpg\",\"sourcetype\":\"image\"},{\"coordinates\":[[146.143,-33.281],[152.143,-33.281],[152.143,-37.281],[146.143,-37.281]],\"source\":\"https:\\u002f\\u002flive.staticflickr.com\\u002f65535\\u002f50781276946_a1775dc145_m.jpg\",\"sourcetype\":\"image\"},{\"coordinates\":[[-125.572,47.483],[-119.572,47.483],[-119.572,43.483],[-125.572,43.483]],\"source\":\"https:\\u002f\\u002flive.staticflickr.com\\u002f65535\\u002f50781327637_855eb8c093_m.jpg\",\"sourcetype\":\"image\"},{\"coordinates\":[[-124.856,39.319],[-118.856,39.319],[-118.856,35.319],[-124.856,35.319]],\"source\":\"https:\\u002f\\u002flive.staticflickr.com\\u002f65535\\u002f50779182753_52c5dd3fd7_m.jpg\",\"sourcetype\":\"image\"},{\"coordinates\":[[-5.138999999999999,55.551],[0.8610000000000002,55.551],[0.8610000000000002,51.551],[-5.138999999999999,51.551]],\"source\":\"https:\\u002f\\u002flive.staticflickr.com\\u002f65535\\u002f50778907401_b3a539106d_m.jpg\",\"sourcetype\":\"image\"},{\"coordinates\":[[-125.437,39.765],[-119.437,39.765],[-119.437,35.765],[-125.437,35.765]],\"source\":\"https:\\u002f\\u002flive.staticflickr.com\\u002f65535\\u002f50777491641_f0079f41b8_m.jpg\",\"sourcetype\":\"image\"},{\"coordinates\":[[136.397,37.717],[142.397,37.717],[142.397,33.717],[136.397,33.717]],\"source\":\"https:\\u002f\\u002flive.staticflickr.com\\u002f65535\\u002f50776733761_79e6761168_m.jpg\",\"sourcetype\":\"image\"},{\"coordinates\":[[-3.128,53.508],[2.872,53.508],[2.872,49.508],[-3.128,49.508]],\"source\":\"https:\\u002f\\u002flive.staticflickr.com\\u002f5784\\u002f29761066554_c5ebe4ff78_m.jpg\",\"sourcetype\":\"image\"},{\"coordinates\":[[-75.055,46.467],[-69.055,46.467],[-69.055,42.467],[-75.055,42.467]],\"source\":\"https:\\u002f\\u002flive.staticflickr.com\\u002f65535\\u002f50776802446_62c6718243_m.jpg\",\"sourcetype\":\"image\"},{\"coordinates\":[[107.355,-5.825],[113.355,-5.825],[113.355,-9.825],[107.355,-9.825]],\"source\":\"https:\\u002f\\u002flive.staticflickr.com\\u002f65535\\u002f50775109978_27dbf7c825_m.jpg\",\"sourcetype\":\"image\"},{\"coordinates\":[[-90.569,46.144],[-84.569,46.144],[-84.569,42.144],[-90.569,42.144]],\"source\":\"https:\\u002f\\u002flive.staticflickr.com\\u002f65535\\u002f50774546088_273746c5b2_m.jpg\",\"sourcetype\":\"image\"},{\"coordinates\":[[79.096,57.025],[85.096,57.025],[85.096,53.025],[79.096,53.025]],\"source\":\"https:\\u002f\\u002flive.staticflickr.com\\u002f65535\\u002f50774518133_df679cf59a_m.jpg\",\"sourcetype\":\"image\"},{\"coordinates\":[[-91.559,45.98],[-85.559,45.98],[-85.559,41.98],[-91.559,41.98]],\"source\":\"https:\\u002f\\u002flive.staticflickr.com\\u002f65535\\u002f50774965817_d10b0f2dc0_m.jpg\",\"sourcetype\":\"image\"},{\"coordinates\":[[-4.941,55.604],[1.059,55.604],[1.059,51.604],[-4.941,51.604]],\"source\":\"https:\\u002f\\u002flive.staticflickr.com\\u002f65535\\u002f50774754416_89350ca8a0_m.jpg\",\"sourcetype\":\"image\"},{\"coordinates\":[[118.473,27.063],[124.473,27.063],[124.473,23.063],[118.473,23.063]],\"source\":\"https:\\u002f\\u002flive.staticflickr.com\\u002f65535\\u002f50774612907_dbe633d901_m.jpg\",\"sourcetype\":\"image\"},{\"coordinates\":[[13.408999999999999,50.232],[19.409,50.232],[19.409,46.232],[13.408999999999999,46.232]],\"source\":\"https:\\u002f\\u002flive.staticflickr.com\\u002f65535\\u002f50774343147_22d7d840a0_m.jpg\",\"sourcetype\":\"image\"},{\"coordinates\":[[106.613,20.217],[112.613,20.217],[112.613,16.217],[106.613,16.217]],\"source\":\"https:\\u002f\\u002flive.staticflickr.com\\u002f65535\\u002f50774282232_67aa912720_m.jpg\",\"sourcetype\":\"image\"},{\"coordinates\":[[142.269,-36.13],[148.269,-36.13],[148.269,-40.13],[142.269,-40.13]],\"source\":\"https:\\u002f\\u002flive.staticflickr.com\\u002f65535\\u002f50772424558_d612416131_m.jpg\",\"sourcetype\":\"image\"},{\"coordinates\":[[132.781,37.001],[138.781,37.001],[138.781,33.001],[132.781,33.001]],\"source\":\"https:\\u002f\\u002flive.staticflickr.com\\u002f65535\\u002f50772386118_9dc0dcdb26_m.jpg\",\"sourcetype\":\"image\"},{\"coordinates\":[[10.879,53.013],[16.878999999999998,53.013],[16.878999999999998,49.013],[10.879,49.013]],\"source\":\"https:\\u002f\\u002flive.staticflickr.com\\u002f65535\\u002f50772072352_17a4b14bc6_m.jpg\",\"sourcetype\":\"image\"},{\"coordinates\":[[-77.779,42.003],[-71.779,42.003],[-71.779,38.003],[-77.779,38.003]],\"source\":\"https:\\u002f\\u002flive.staticflickr.com\\u002f65535\\u002f50771001766_6e5d1b51e3_m.jpg\",\"sourcetype\":\"image\"},{\"coordinates\":[[-3.301,53.483],[2.699,53.483],[2.699,49.483],[-3.301,49.483]],\"source\":\"https:\\u002f\\u002flive.staticflickr.com\\u002f65535\\u002f50770950591_cef3ffa355_m.jpg\",\"sourcetype\":\"image\"},{\"coordinates\":[[-3.431,53.462],[2.569,53.462],[2.569,49.462],[-3.431,49.462]],\"source\":\"https:\\u002f\\u002flive.staticflickr.com\\u002f65535\\u002f50770583607_357669551c_m.jpg\",\"sourcetype\":\"image\"},{\"coordinates\":[[136.538,37.31],[142.538,37.31],[142.538,33.31],[136.538,33.31]],\"source\":\"https:\\u002f\\u002flive.staticflickr.com\\u002f65535\\u002f50769465118_a4e15aea63_m.jpg\",\"sourcetype\":\"image\"},{\"coordinates\":[[118.597,27.053],[124.597,27.053],[124.597,23.053],[118.597,23.053]],\"source\":\"https:\\u002f\\u002flive.staticflickr.com\\u002f65535\\u002f50769968576_4b8e8c4f7b_m.jpg\",\"sourcetype\":\"image\"},{\"coordinates\":[[103.67,-4.268],[109.67,-4.268],[109.67,-8.268],[103.67,-8.268]],\"source\":\"https:\\u002f\\u002flive.staticflickr.com\\u002f65535\\u002f50769216637_5fc4eba146_m.jpg\",\"sourcetype\":\"image\"},{\"coordinates\":[[-76.773,44.62],[-70.773,44.62],[-70.773,40.62],[-76.773,40.62]],\"source\":\"https:\\u002f\\u002flive.staticflickr.com\\u002f65535\\u002f50768625026_a0a5993d07_m.jpg\",\"sourcetype\":\"image\"},{\"coordinates\":[[-119.949,34.809],[-113.949,34.809],[-113.949,30.808999999999997],[-119.949,30.808999999999997]],\"source\":\"https:\\u002f\\u002flive.staticflickr.com\\u002f65535\\u002f50768515621_69d03d00e9_m.jpg\",\"sourcetype\":\"image\"},{\"coordinates\":[[4.868,48.853],[10.868,48.853],[10.868,44.853],[4.868,44.853]],\"source\":\"https:\\u002f\\u002flive.staticflickr.com\\u002f65535\\u002f50768515456_e380d16cb3_m.jpg\",\"sourcetype\":\"image\"},{\"coordinates\":[[-90.634,43.879],[-84.634,43.879],[-84.634,39.879],[-90.634,39.879]],\"source\":\"https:\\u002f\\u002flive.staticflickr.com\\u002f65535\\u002f50768480896_7fb8c03318_m.jpg\",\"sourcetype\":\"image\"},{\"coordinates\":[[5.525,49.367],[11.525,49.367],[11.525,45.367],[5.525,45.367]],\"source\":\"https:\\u002f\\u002flive.staticflickr.com\\u002f65535\\u002f50767519648_ed329bb6a0_m.jpg\",\"sourcetype\":\"image\"},{\"coordinates\":[[148.119,-31.851999999999997],[154.119,-31.851999999999997],[154.119,-35.852],[148.119,-35.852]],\"source\":\"https:\\u002f\\u002flive.staticflickr.com\\u002f65535\\u002f50768239106_9b02110efa_m.jpg\",\"sourcetype\":\"image\"},{\"coordinates\":[[148.119,-31.851999999999997],[154.119,-31.851999999999997],[154.119,-35.852],[148.119,-35.852]],\"source\":\"https:\\u002f\\u002flive.staticflickr.com\\u002f65535\\u002f50768237951_038594fc33_m.jpg\",\"sourcetype\":\"image\"},{\"coordinates\":[[14.902999999999999,49.096],[20.903,49.096],[20.903,45.096],[14.902999999999999,45.096]],\"source\":\"https:\\u002f\\u002flive.staticflickr.com\\u002f65535\\u002f50767913777_0ed97f972a_m.jpg\",\"sourcetype\":\"image\"},{\"coordinates\":[[7.429,45.78],[13.429,45.78],[13.429,41.78],[7.429,41.78]],\"source\":\"https:\\u002f\\u002flive.staticflickr.com\\u002f65535\\u002f50767510122_341336784e_m.jpg\",\"sourcetype\":\"image\"},{\"coordinates\":[[-3.332,54.161],[2.668,54.161],[2.668,50.161],[-3.332,50.161]],\"source\":\"https:\\u002f\\u002flive.staticflickr.com\\u002f65535\\u002f50766615093_de07de61bb_m.jpg\",\"sourcetype\":\"image\"},{\"coordinates\":[[174.415,-15.803999999999998],[180.415,-15.803999999999998],[180.415,-19.804],[174.415,-19.804]],\"source\":\"https:\\u002f\\u002flive.staticflickr.com\\u002f65535\\u002f50766471753_bbbe7c396b_m.jpg\",\"sourcetype\":\"image\"},{\"coordinates\":[[-4.57,53.577],[1.43,53.577],[1.43,49.577],[-4.57,49.577]],\"source\":\"https:\\u002f\\u002flive.staticflickr.com\\u002f65535\\u002f50766823382_945173e192_m.jpg\",\"sourcetype\":\"image\"},{\"coordinates\":[[1.3529999999999998,52.847],[7.353,52.847],[7.353,48.847],[1.3529999999999998,48.847]],\"source\":\"https:\\u002f\\u002flive.staticflickr.com\\u002f65535\\u002f50766508076_d0ee4b69a9_m.jpg\",\"sourcetype\":\"image\"},{\"coordinates\":[[113.133,-29.698],[119.133,-29.698],[119.133,-33.698],[113.133,-33.698]],\"source\":\"https:\\u002f\\u002flive.staticflickr.com\\u002f65535\\u002f50765599768_f0e10a812b_m.jpg\",\"sourcetype\":\"image\"},{\"coordinates\":[[106.613,20.217],[112.613,20.217],[112.613,16.217],[106.613,16.217]],\"source\":\"https:\\u002f\\u002flive.staticflickr.com\\u002f65535\\u002f50765521017_9d7c57f824_m.jpg\",\"sourcetype\":\"image\"},{\"coordinates\":[[-84.67,37.919],[-78.67,37.919],[-78.67,33.919],[-84.67,33.919]],\"source\":\"https:\\u002f\\u002flive.staticflickr.com\\u002f65535\\u002f50765136466_b7cca1e39a_m.jpg\",\"sourcetype\":\"image\"},{\"coordinates\":[[-3.79,54.305],[2.21,54.305],[2.21,50.305],[-3.79,50.305]],\"source\":\"https:\\u002f\\u002flive.staticflickr.com\\u002f65535\\u002f50764812847_3dc072ba11_m.jpg\",\"sourcetype\":\"image\"},{\"coordinates\":[[6.260999999999999,48.009],[12.261,48.009],[12.261,44.009],[6.260999999999999,44.009]],\"source\":\"https:\\u002f\\u002flive.staticflickr.com\\u002f65535\\u002f50764542406_5aaf5648ba_m.jpg\",\"sourcetype\":\"image\"},{\"coordinates\":[[-78.166,41.95],[-72.166,41.95],[-72.166,37.95],[-78.166,37.95]],\"source\":\"https:\\u002f\\u002flive.staticflickr.com\\u002f65535\\u002f20744801439_a99f849274_m.jpg\",\"sourcetype\":\"image\"},{\"coordinates\":[[4.815,47.091],[10.815000000000001,47.091],[10.815000000000001,43.091],[4.815,43.091]],\"source\":\"https:\\u002f\\u002flive.staticflickr.com\\u002f65535\\u002f50762587128_48fe4b4042_m.jpg\",\"sourcetype\":\"image\"},{\"coordinates\":[[-96.263,47.018],[-90.263,47.018],[-90.263,43.018],[-96.263,43.018]],\"source\":\"https:\\u002f\\u002flive.staticflickr.com\\u002f65535\\u002f50763301162_d509ca7962_m.jpg\",\"sourcetype\":\"image\"},{\"coordinates\":[[-79.758,40.984],[-73.758,40.984],[-73.758,36.984],[-79.758,36.984]],\"source\":\"https:\\u002f\\u002flive.staticflickr.com\\u002f65535\\u002f50762919732_329817a443_m.jpg\",\"sourcetype\":\"image\"},{\"coordinates\":[[-78.219,41.95],[-72.219,41.95],[-72.219,37.95],[-78.219,37.95]],\"source\":\"https:\\u002f\\u002flive.staticflickr.com\\u002f65535\\u002f50762682781_52d25f3326_m.jpg\",\"sourcetype\":\"image\"},{\"coordinates\":[[-90.85,43.797],[-84.85,43.797],[-84.85,39.797],[-90.85,39.797]],\"source\":\"https:\\u002f\\u002flive.staticflickr.com\\u002f65535\\u002f50777955186_25f273d832_m.jpg\",\"sourcetype\":\"image\"},{\"coordinates\":[[-76.981,42.76],[-70.981,42.76],[-70.981,38.76],[-76.981,38.76]],\"source\":\"https:\\u002f\\u002flive.staticflickr.com\\u002f65535\\u002f50759875018_07cb0413c8_m.jpg\",\"sourcetype\":\"image\"},{\"coordinates\":[[15.239999999999998,61.172],[21.24,61.172],[21.24,57.172],[15.239999999999998,57.172]],\"source\":\"https:\\u002f\\u002flive.staticflickr.com\\u002f65535\\u002f50759411396_7d8c30def5_m.jpg\",\"sourcetype\":\"image\"},{\"coordinates\":[[-4.601,54.401],[1.399,54.401],[1.399,50.401],[-4.601,50.401]],\"source\":\"https:\\u002f\\u002flive.staticflickr.com\\u002f65535\\u002f50758714407_738e84ef2f_m.jpg\",\"sourcetype\":\"image\"},{\"coordinates\":[[-5.2989999999999995,55.433],[0.7010000000000001,55.433],[0.7010000000000001,51.433],[-5.2989999999999995,51.433]],\"source\":\"https:\\u002f\\u002flive.staticflickr.com\\u002f65535\\u002f50758751167_19b491370b_m.jpg\",\"sourcetype\":\"image\"},{\"coordinates\":[[-90.894,45.043],[-84.894,45.043],[-84.894,41.043],[-90.894,41.043]],\"source\":\"https:\\u002f\\u002flive.staticflickr.com\\u002f65535\\u002f50757654587_8b9d618c68_m.jpg\",\"sourcetype\":\"image\"},{\"coordinates\":[[16.99,46.737],[22.99,46.737],[22.99,42.737],[16.99,42.737]],\"source\":\"https:\\u002f\\u002flive.staticflickr.com\\u002f65535\\u002f50757542807_bc72ae9805_m.jpg\",\"sourcetype\":\"image\"},{\"coordinates\":[[13.611,42.666],[19.611,42.666],[19.611,38.666],[13.611,38.666]],\"source\":\"https:\\u002f\\u002flive.staticflickr.com\\u002f65535\\u002f50756681548_d472695a10_m.jpg\",\"sourcetype\":\"image\"},{\"coordinates\":[[-98.395,31.719],[-92.395,31.719],[-92.395,27.719],[-98.395,27.719]],\"source\":\"https:\\u002f\\u002flive.staticflickr.com\\u002f65535\\u002f50756004088_a999097837_m.jpg\",\"sourcetype\":\"image\"},{\"coordinates\":[[-74.155,44.243],[-68.155,44.243],[-68.155,40.243],[-74.155,40.243]],\"source\":\"https:\\u002f\\u002flive.staticflickr.com\\u002f65535\\u002f50755888028_f2b325498c_m.jpg\",\"sourcetype\":\"image\"},{\"coordinates\":[[7.769,61.933],[13.769,61.933],[13.769,57.933],[7.769,57.933]],\"source\":\"https:\\u002f\\u002flive.staticflickr.com\\u002f65535\\u002f50756361991_1f643cd851_m.jpg\",\"sourcetype\":\"image\"},{\"coordinates\":[[-84.843,28.657],[-78.843,28.657],[-78.843,24.657],[-84.843,24.657]],\"source\":\"https:\\u002f\\u002flive.staticflickr.com\\u002f65535\\u002f50756270416_c022283f9c_m.jpg\",\"sourcetype\":\"image\"},{\"coordinates\":[[-3.669,53.877],[2.331,53.877],[2.331,49.877],[-3.669,49.877]],\"source\":\"https:\\u002f\\u002flive.staticflickr.com\\u002f65535\\u002f50755985317_0ed23784f1_m.jpg\",\"sourcetype\":\"image\"},{\"coordinates\":[[-83.723,42.064],[-77.723,42.064],[-77.723,38.064],[-83.723,38.064]],\"source\":\"https:\\u002f\\u002flive.staticflickr.com\\u002f65535\\u002f50755772182_8030d73443_m.jpg\",\"sourcetype\":\"image\"},{\"coordinates\":[[-11.253,39.087],[-5.253,39.087],[-5.253,35.087],[-11.253,35.087]],\"source\":\"https:\\u002f\\u002flive.staticflickr.com\\u002f65535\\u002f50755560642_bd0e05d201_m.jpg\",\"sourcetype\":\"image\"},{\"coordinates\":[[4.605,53.501],[10.605,53.501],[10.605,49.501],[4.605,49.501]],\"source\":\"https:\\u002f\\u002flive.staticflickr.com\\u002f65535\\u002f50754476478_b2e14da71c_m.jpg\",\"sourcetype\":\"image\"},{\"coordinates\":[[-82.4,44.871],[-76.4,44.871],[-76.4,40.871],[-82.4,40.871]],\"source\":\"https:\\u002f\\u002flive.staticflickr.com\\u002f65535\\u002f50754437228_967aa0205f_m.jpg\",\"sourcetype\":\"image\"},{\"coordinates\":[[-4.648,56.97],[1.352,56.97],[1.352,52.97],[-4.648,52.97]],\"source\":\"https:\\u002f\\u002flive.staticflickr.com\\u002f65535\\u002f50754310953_a77314bbd9_m.jpg\",\"sourcetype\":\"image\"},{\"coordinates\":[[-7.032,52.715],[-1.032,52.715],[-1.032,48.715],[-7.032,48.715]],\"source\":\"https:\\u002f\\u002flive.staticflickr.com\\u002f65535\\u002f50754793316_1012e85ff8_m.jpg\",\"sourcetype\":\"image\"},{\"coordinates\":[[-86.231,44.304],[-80.231,44.304],[-80.231,40.304],[-86.231,40.304]],\"source\":\"https:\\u002f\\u002flive.staticflickr.com\\u002f65535\\u002f50754357586_b9416ed1c3_m.jpg\",\"sourcetype\":\"image\"},{\"coordinates\":[[1.952,54.306],[7.952,54.306],[7.952,50.306],[1.952,50.306]],\"source\":\"https:\\u002f\\u002flive.staticflickr.com\\u002f65535\\u002f50753474598_d8ef5b319f_m.jpg\",\"sourcetype\":\"image\"},{\"coordinates\":[[-5.558,54.121],[0.44200000000000017,54.121],[0.44200000000000017,50.121],[-5.558,50.121]],\"source\":\"https:\\u002f\\u002flive.staticflickr.com\\u002f65535\\u002f50754058811_fba8f7463a_m.jpg\",\"sourcetype\":\"image\"},{\"coordinates\":[[14.11,50.142],[20.11,50.142],[20.11,46.142],[14.11,46.142]],\"source\":\"https:\\u002f\\u002flive.staticflickr.com\\u002f65535\\u002f50754001956_823fdb282e_m.jpg\",\"sourcetype\":\"image\"},{\"coordinates\":[[11.603,42.635],[17.603,42.635],[17.603,38.635],[11.603,38.635]],\"source\":\"https:\\u002f\\u002flive.staticflickr.com\\u002f65535\\u002f50754020652_9113bd73c6_m.jpg\",\"sourcetype\":\"image\"},{\"coordinates\":[[117.326,24.589],[123.326,24.589],[123.326,20.589],[117.326,20.589]],\"source\":\"https:\\u002f\\u002flive.staticflickr.com\\u002f65535\\u002f50753873792_99e78d2208_m.jpg\",\"sourcetype\":\"image\"},{\"coordinates\":[[141.789,-36.363],[147.789,-36.363],[147.789,-40.363],[141.789,-40.363]],\"source\":\"https:\\u002f\\u002flive.staticflickr.com\\u002f65535\\u002f50752114453_ba0bcbb4ea_m.jpg\",\"sourcetype\":\"image\"},{\"coordinates\":[[8.967,59.708],[14.967,59.708],[14.967,55.708],[8.967,55.708]],\"source\":\"https:\\u002f\\u002flive.staticflickr.com\\u002f65535\\u002f50751965088_b20406d000_m.jpg\",\"sourcetype\":\"image\"},{\"coordinates\":[[-126.06,51.284],[-120.06,51.284],[-120.06,47.284],[-126.06,47.284]],\"source\":\"https:\\u002f\\u002flive.staticflickr.com\\u002f65535\\u002f50751809523_fb207323de_m.jpg\",\"sourcetype\":\"image\"},{\"coordinates\":[[-122.869,37.208],[-116.869,37.208],[-116.869,33.208],[-122.869,33.208]],\"source\":\"https:\\u002f\\u002flive.staticflickr.com\\u002f65535\\u002f50752190056_93baf35537_m.jpg\",\"sourcetype\":\"image\"},{\"coordinates\":[[-84.611,43.509],[-78.611,43.509],[-78.611,39.509],[-84.611,39.509]],\"source\":\"https:\\u002f\\u002flive.staticflickr.com\\u002f65535\\u002f50752093571_b41f853e71_m.jpg\",\"sourcetype\":\"image\"},{\"coordinates\":[[-0.10099999999999998,53.227],[5.899,53.227],[5.899,49.227],[-0.10099999999999998,49.227]],\"source\":\"https:\\u002f\\u002flive.staticflickr.com\\u002f65535\\u002f50752190137_3b7977ac73_m.jpg\",\"sourcetype\":\"image\"},{\"coordinates\":[[22.04,62.25],[28.04,62.25],[28.04,58.25],[22.04,58.25]],\"source\":\"https:\\u002f\\u002flive.staticflickr.com\\u002f65535\\u002f50751955557_983bc53d72_m.jpg\",\"sourcetype\":\"image\"},{\"coordinates\":[[1.4349999999999996,49.876],[7.435,49.876],[7.435,45.876],[1.4349999999999996,45.876]],\"source\":\"https:\\u002f\\u002flive.staticflickr.com\\u002f65535\\u002f50751243986_ed78ef58a7_m.jpg\",\"sourcetype\":\"image\"},{\"coordinates\":[[3.7619999999999996,53.329],[9.762,53.329],[9.762,49.329],[3.7619999999999996,49.329]],\"source\":\"https:\\u002f\\u002flive.staticflickr.com\\u002f65535\\u002f50750653497_64cbd1ef11_m.jpg\",\"sourcetype\":\"image\"},{\"coordinates\":[[-74.038,44.451],[-68.038,44.451],[-68.038,40.451],[-74.038,40.451]],\"source\":\"https:\\u002f\\u002flive.staticflickr.com\\u002f65535\\u002f50749096352_89bf3b0bcf_m.jpg\",\"sourcetype\":\"image\"},{\"coordinates\":[[20.782,40.04],[26.782,40.04],[26.782,36.04],[20.782,36.04]],\"source\":\"https:\\u002f\\u002flive.staticflickr.com\\u002f65535\\u002f50747378068_ec13d749a5_m.jpg\",\"sourcetype\":\"image\"},{\"coordinates\":[[-118.298,38.318],[-112.298,38.318],[-112.298,34.318],[-118.298,34.318]],\"source\":\"https:\\u002f\\u002flive.staticflickr.com\\u002f65535\\u002f50747899676_dbd836b7bc_m.jpg\",\"sourcetype\":\"image\"},{\"coordinates\":[[5.602,48.707],[11.602,48.707],[11.602,44.707],[5.602,44.707]],\"source\":\"https:\\u002f\\u002flive.staticflickr.com\\u002f65535\\u002f50747399842_8423c4756e_m.jpg\",\"sourcetype\":\"image\"},{\"coordinates\":[[111.051,24.639],[117.051,24.639],[117.051,20.639],[111.051,20.639]],\"source\":\"https:\\u002f\\u002flive.staticflickr.com\\u002f65535\\u002f50746428707_5d7a0c87f4_m.jpg\",\"sourcetype\":\"image\"},{\"coordinates\":[[-2.7359999999999998,54.399],[3.2640000000000002,54.399],[3.2640000000000002,50.399],[-2.7359999999999998,50.399]],\"source\":\"https:\\u002f\\u002flive.staticflickr.com\\u002f65535\\u002f50744380701_b3d414b31f_m.jpg\",\"sourcetype\":\"image\"},{\"coordinates\":[[6.993,55.541],[12.993,55.541],[12.993,51.541],[6.993,51.541]],\"source\":\"https:\\u002f\\u002flive.staticflickr.com\\u002f65535\\u002f50743438783_42bb59c60d_m.jpg\",\"sourcetype\":\"image\"},{\"coordinates\":[[118.505,26.993],[124.505,26.993],[124.505,22.993],[118.505,22.993]],\"source\":\"https:\\u002f\\u002flive.staticflickr.com\\u002f65535\\u002f50743689516_1ca686cff0_m.jpg\",\"sourcetype\":\"image\"},{\"coordinates\":[[118.208,27.069],[124.208,27.069],[124.208,23.069],[118.208,23.069]],\"source\":\"https:\\u002f\\u002flive.staticflickr.com\\u002f65535\\u002f50743558472_a577d713fa_m.jpg\",\"sourcetype\":\"image\"},{\"coordinates\":[[-4.431,52.652],[1.569,52.652],[1.569,48.652],[-4.431,48.652]],\"source\":\"https:\\u002f\\u002flive.staticflickr.com\\u002f65535\\u002f50743538842_3eda7a62e6_m.jpg\",\"sourcetype\":\"image\"},{\"coordinates\":[[13.366,50.207],[19.366,50.207],[19.366,46.207],[13.366,46.207]],\"source\":\"https:\\u002f\\u002flive.staticflickr.com\\u002f65535\\u002f50742218918_1d3618df35_m.jpg\",\"sourcetype\":\"image\"},{\"coordinates\":[[134.606,-32.08],[140.606,-32.08],[140.606,-36.08],[134.606,-36.08]],\"source\":\"https:\\u002f\\u002flive.staticflickr.com\\u002f65535\\u002f50742134692_2905d1e733_m.jpg\",\"sourcetype\":\"image\"},{\"coordinates\":[[-12.456,53.681],[-6.4559999999999995,53.681],[-6.4559999999999995,49.681],[-12.456,49.681]],\"source\":\"https:\\u002f\\u002flive.staticflickr.com\\u002f65535\\u002f50742022761_55f96e21a6_m.jpg\",\"sourcetype\":\"image\"},{\"coordinates\":[[2.551,52.577],[8.551,52.577],[8.551,48.577],[2.551,48.577]],\"source\":\"https:\\u002f\\u002flive.staticflickr.com\\u002f65535\\u002f50741157518_6377b5e3ed_m.jpg\",\"sourcetype\":\"image\"},{\"coordinates\":[[-76.489,42.877],[-70.489,42.877],[-70.489,38.877],[-76.489,38.877]],\"source\":\"https:\\u002f\\u002flive.staticflickr.com\\u002f65535\\u002f50740994133_35e903393c_m.jpg\",\"sourcetype\":\"image\"},{\"coordinates\":[[13.422,61.516],[19.422,61.516],[19.422,57.516],[13.422,57.516]],\"source\":\"https:\\u002f\\u002flive.staticflickr.com\\u002f65535\\u002f50741175677_4ef81b571b_m.jpg\",\"sourcetype\":\"image\"},{\"coordinates\":[[10.236,48.063],[16.236,48.063],[16.236,44.063],[10.236,44.063]],\"source\":\"https:\\u002f\\u002flive.staticflickr.com\\u002f65535\\u002f50739767813_b1f8cfae48_m.jpg\",\"sourcetype\":\"image\"},{\"coordinates\":[[3.2720000000000002,47.693],[9.272,47.693],[9.272,43.693],[3.2720000000000002,43.693]],\"source\":\"https:\\u002f\\u002flive.staticflickr.com\\u002f65535\\u002f50739532113_289fd21ebd_m.jpg\",\"sourcetype\":\"image\"},{\"coordinates\":[[118.039,26.614],[124.039,26.614],[124.039,22.614],[118.039,22.614]],\"source\":\"https:\\u002f\\u002flive.staticflickr.com\\u002f65535\\u002f50740076441_cf20453ba4_m.jpg\",\"sourcetype\":\"image\"},{\"coordinates\":[[15.123999999999999,61.321],[21.124,61.321],[21.124,57.321],[15.123999999999999,57.321]],\"source\":\"https:\\u002f\\u002flive.staticflickr.com\\u002f65535\\u002f50740072487_46ef4fecb2_m.jpg\",\"sourcetype\":\"image\"},{\"coordinates\":[[118.218,25.1],[124.218,25.1],[124.218,21.1],[118.218,21.1]],\"source\":\"https:\\u002f\\u002flive.staticflickr.com\\u002f65535\\u002f50739840816_de085a074d_m.jpg\",\"sourcetype\":\"image\"},{\"coordinates\":[[-6.606,39.163],[-0.6059999999999999,39.163],[-0.6059999999999999,35.163],[-6.606,35.163]],\"source\":\"https:\\u002f\\u002flive.staticflickr.com\\u002f65535\\u002f50737342628_67cf846970_m.jpg\",\"sourcetype\":\"image\"},{\"coordinates\":[[-125.302,49.574],[-119.302,49.574],[-119.302,45.574],[-125.302,45.574]],\"source\":\"https:\\u002f\\u002flive.staticflickr.com\\u002f65535\\u002f50738096622_231d4a8bb2_m.jpg\",\"sourcetype\":\"image\"},{\"coordinates\":[[-93.329,40.644],[-87.329,40.644],[-87.329,36.644],[-93.329,36.644]],\"source\":\"https:\\u002f\\u002flive.staticflickr.com\\u002f65535\\u002f50737191563_0a3da2eb9a_m.jpg\",\"sourcetype\":\"image\"},{\"coordinates\":[[53.468,26.745],[59.468,26.745],[59.468,22.745],[53.468,22.745]],\"source\":\"https:\\u002f\\u002flive.staticflickr.com\\u002f65535\\u002f50737385132_49e741a2f8_m.jpg\",\"sourcetype\":\"image\"},{\"coordinates\":[[-6.599,53.221],[-0.5990000000000002,53.221],[-0.5990000000000002,49.221],[-6.599,49.221]],\"source\":\"https:\\u002f\\u002flive.staticflickr.com\\u002f65535\\u002f50736851092_87afaf67eb_m.jpg\",\"sourcetype\":\"image\"},{\"coordinates\":[[1.4930000000000003,54.327],[7.493,54.327],[7.493,50.327],[1.4930000000000003,50.327]],\"source\":\"https:\\u002f\\u002flive.staticflickr.com\\u002f65535\\u002f50736484751_4c051bc949_m.jpg\",\"sourcetype\":\"image\"},{\"coordinates\":[[-4.152,45.538],[1.848,45.538],[1.848,41.538],[-4.152,41.538]],\"source\":\"https:\\u002f\\u002flive.staticflickr.com\\u002f65535\\u002f50736566192_642fa4c94f_m.jpg\",\"sourcetype\":\"image\"},{\"coordinates\":[[-10.11,43.265],[-4.11,43.265],[-4.11,39.265],[-10.11,39.265]],\"source\":\"https:\\u002f\\u002flive.staticflickr.com\\u002f65535\\u002f50736499377_2a3257334a_m.jpg\",\"sourcetype\":\"image\"},{\"coordinates\":[[-84.467,30.475],[-78.467,30.475],[-78.467,26.475],[-84.467,26.475]],\"source\":\"https:\\u002f\\u002flive.staticflickr.com\\u002f65535\\u002f50736377757_555f445baf_m.jpg\",\"sourcetype\":\"image\"},{\"coordinates\":[[5.895,51.239],[11.895,51.239],[11.895,47.239],[5.895,47.239]],\"source\":\"https:\\u002f\\u002flive.staticflickr.com\\u002f65535\\u002f50736147676_22c523d70c_m.jpg\",\"sourcetype\":\"image\"},{\"coordinates\":[[-3.061,53.441],[2.939,53.441],[2.939,49.441],[-3.061,49.441]],\"source\":\"https:\\u002f\\u002flive.staticflickr.com\\u002f65535\\u002f50735184088_8f1c898323_m.jpg\",\"sourcetype\":\"image\"},{\"coordinates\":[[3.6479999999999997,48.286],[9.648,48.286],[9.648,44.286],[3.6479999999999997,44.286]],\"source\":\"https:\\u002f\\u002flive.staticflickr.com\\u002f65535\\u002f50735780172_bd79884d76_m.jpg\",\"sourcetype\":\"image\"},{\"coordinates\":[[-82.935,-0.16699999999999982],[-76.935,-0.16699999999999982],[-76.935,-4.167],[-82.935,-4.167]],\"source\":\"https:\\u002f\\u002flive.staticflickr.com\\u002f65535\\u002f50735406772_95daf3299f_m.jpg\",\"sourcetype\":\"image\"},{\"coordinates\":[[-84.365,30.573],[-78.365,30.573],[-78.365,26.573],[-84.365,26.573]],\"source\":\"https:\\u002f\\u002flive.staticflickr.com\\u002f65535\\u002f50735042817_c7dd4dc650_m.jpg\",\"sourcetype\":\"image\"},{\"coordinates\":[[-84.469,30.477],[-78.469,30.477],[-78.469,26.477],[-84.469,26.477]],\"source\":\"https:\\u002f\\u002flive.staticflickr.com\\u002f65535\\u002f50734068198_03782c20b8_m.jpg\",\"sourcetype\":\"image\"},{\"coordinates\":[[18.096,54.107],[24.096,54.107],[24.096,50.107],[18.096,50.107]],\"source\":\"https:\\u002f\\u002flive.staticflickr.com\\u002f65535\\u002f50733911313_17886bdcac_m.jpg\",\"sourcetype\":\"image\"},{\"coordinates\":[[-84.551,30.372],[-78.551,30.372],[-78.551,26.372],[-84.551,26.372]],\"source\":\"https:\\u002f\\u002flive.staticflickr.com\\u002f65535\\u002f50733681693_9fdd6b64dc_m.jpg\",\"sourcetype\":\"image\"},{\"coordinates\":[[22.044,62.25],[28.044,62.25],[28.044,58.25],[22.044,58.25]],\"source\":\"https:\\u002f\\u002flive.staticflickr.com\\u002f65535\\u002f50734110256_ac8fdb2d04_m.jpg\",\"sourcetype\":\"image\"},{\"coordinates\":[[-12.137,40.708],[-6.1370000000000005,40.708],[-6.1370000000000005,36.708],[-12.137,36.708]],\"source\":\"https:\\u002f\\u002flive.staticflickr.com\\u002f65535\\u002f50733279088_9dd669001d_m.jpg\",\"sourcetype\":\"image\"},{\"coordinates\":[[70.459,5.852],[76.459,5.852],[76.459,1.8519999999999999],[70.459,1.8519999999999999]],\"source\":\"https:\\u002f\\u002flive.staticflickr.com\\u002f65535\\u002f50733837876_3d71930618_m.jpg\",\"sourcetype\":\"image\"},{\"coordinates\":[[22.04,62.25],[28.04,62.25],[28.04,58.25],[22.04,58.25]],\"source\":\"https:\\u002f\\u002flive.staticflickr.com\\u002f65535\\u002f50733017133_3260503a42_m.jpg\",\"sourcetype\":\"image\"},{\"coordinates\":[[21.154,62.28],[27.154,62.28],[27.154,58.28],[21.154,58.28]],\"source\":\"https:\\u002f\\u002flive.staticflickr.com\\u002f65535\\u002f50733485566_512979ed96_m.jpg\",\"sourcetype\":\"image\"},{\"coordinates\":[[-87.214,35.853],[-81.214,35.853],[-81.214,31.853],[-87.214,31.853]],\"source\":\"https:\\u002f\\u002flive.staticflickr.com\\u002f65535\\u002f50733459501_dcafc376bd_m.jpg\",\"sourcetype\":\"image\"},{\"coordinates\":[[-5.202999999999999,55.78],[0.7970000000000002,55.78],[0.7970000000000002,51.78],[-5.202999999999999,51.78]],\"source\":\"https:\\u002f\\u002flive.staticflickr.com\\u002f65535\\u002f50733460797_06671604ed_m.jpg\",\"sourcetype\":\"image\"},{\"coordinates\":[[-24.948,66.044],[-18.948,66.044],[-18.948,62.044],[-24.948,62.044]],\"source\":\"https:\\u002f\\u002flive.staticflickr.com\\u002f65535\\u002f50733315496_8f5b5113ce_m.jpg\",\"sourcetype\":\"image\"},{\"coordinates\":[[54.45,25.462],[60.45,25.462],[60.45,21.462],[54.45,21.462]],\"source\":\"https:\\u002f\\u002flive.staticflickr.com\\u002f65535\\u002f50733287381_e1b0e1723a_m.jpg\",\"sourcetype\":\"image\"},{\"coordinates\":[[-4.093,55.958],[1.907,55.958],[1.907,51.958],[-4.093,51.958]],\"source\":\"https:\\u002f\\u002flive.staticflickr.com\\u002f65535\\u002f50732072633_08a76bbeb6_m.jpg\",\"sourcetype\":\"image\"},{\"coordinates\":[[75.643,27.35],[81.643,27.35],[81.643,23.35],[75.643,23.35]],\"source\":\"https:\\u002f\\u002flive.staticflickr.com\\u002f65535\\u002f50731988693_1d2bddd56c_m.jpg\",\"sourcetype\":\"image\"},{\"coordinates\":[[172.525,-35.664],[178.525,-35.664],[178.525,-39.664],[172.525,-39.664]],\"source\":\"https:\\u002f\\u002flive.staticflickr.com\\u002f65535\\u002f50731174503_b275d7c01f_m.jpg\",\"sourcetype\":\"image\"},{\"coordinates\":[[-126.109,51.283],[-120.109,51.283],[-120.109,47.283],[-126.109,47.283]],\"source\":\"https:\\u002f\\u002flive.staticflickr.com\\u002f65535\\u002f50730844818_3f2b4df20e_m.jpg\",\"sourcetype\":\"image\"},{\"coordinates\":[[-78.854,42.311],[-72.854,42.311],[-72.854,38.311],[-78.854,38.311]],\"source\":\"https:\\u002f\\u002flive.staticflickr.com\\u002f65535\\u002f50731557657_88eb7b3c78_m.jpg\",\"sourcetype\":\"image\"},{\"coordinates\":[[-5.629,53.503],[0.371,53.503],[0.371,49.503],[-5.629,49.503]],\"source\":\"https:\\u002f\\u002flive.staticflickr.com\\u002f65535\\u002f50729605352_1e3afdf2e8_m.jpg\",\"sourcetype\":\"image\"},{\"coordinates\":[[3.7649999999999997,47.852],[9.765,47.852],[9.765,43.852],[3.7649999999999997,43.852]],\"source\":\"https:\\u002f\\u002flive.staticflickr.com\\u002f65535\\u002f50729451137_05f28f39a7_m.jpg\",\"sourcetype\":\"image\"},{\"coordinates\":[[-109.074,30.64],[-103.074,30.64],[-103.074,26.64],[-109.074,26.64]],\"source\":\"https:\\u002f\\u002flive.staticflickr.com\\u002f65535\\u002f50728578076_c1766c409d_m.jpg\",\"sourcetype\":\"image\"},{\"coordinates\":[[-86.701,44.229],[-80.701,44.229],[-80.701,40.229],[-86.701,40.229]],\"source\":\"https:\\u002f\\u002flive.staticflickr.com\\u002f65535\\u002f50728393842_bfdf40899f_m.jpg\",\"sourcetype\":\"image\"},{\"coordinates\":[[-80.026,40.888],[-74.026,40.888],[-74.026,36.888],[-80.026,36.888]],\"source\":\"https:\\u002f\\u002flive.staticflickr.com\\u002f65535\\u002f50728188227_fd69b19589_m.jpg\",\"sourcetype\":\"image\"},{\"coordinates\":[[-5.061,52.64],[0.9390000000000001,52.64],[0.9390000000000001,48.64],[-5.061,48.64]],\"source\":\"https:\\u002f\\u002flive.staticflickr.com\\u002f65535\\u002f50727625367_cc60094684_m.jpg\",\"sourcetype\":\"image\"},{\"coordinates\":[[2.7939999999999996,54.968],[8.794,54.968],[8.794,50.968],[2.7939999999999996,50.968]],\"source\":\"https:\\u002f\\u002flive.staticflickr.com\\u002f65535\\u002f50727486042_c5e0a8f6a9_m.jpg\",\"sourcetype\":\"image\"},{\"coordinates\":[[6.529999999999999,48.679],[12.53,48.679],[12.53,44.679],[6.529999999999999,44.679]],\"source\":\"https:\\u002f\\u002flive.staticflickr.com\\u002f65535\\u002f50727014677_c3412c10e5_m.jpg\",\"sourcetype\":\"image\"},{\"coordinates\":[[11.015,70.191],[17.015,70.191],[17.015,66.191],[11.015,66.191]],\"source\":\"https:\\u002f\\u002flive.staticflickr.com\\u002f65535\\u002f50726845917_3879910f53_m.jpg\",\"sourcetype\":\"image\"},{\"coordinates\":[[3.1879999999999997,52.858],[9.187999999999999,52.858],[9.187999999999999,48.858],[3.1879999999999997,48.858]],\"source\":\"https:\\u002f\\u002flive.staticflickr.com\\u002f65535\\u002f50726782432_382121d00a_m.jpg\",\"sourcetype\":\"image\"},{\"coordinates\":[[-18.45,30.077],[-12.45,30.077],[-12.45,26.077],[-18.45,26.077]],\"source\":\"https:\\u002f\\u002flive.staticflickr.com\\u002f65535\\u002f50726508372_498f5f3e8f_m.jpg\",\"sourcetype\":\"image\"},{\"coordinates\":[[136.48,37.537],[142.48,37.537],[142.48,33.537],[136.48,33.537]],\"source\":\"https:\\u002f\\u002flive.staticflickr.com\\u002f65535\\u002f50725677193_4014615e33_m.jpg\",\"sourcetype\":\"image\"},{\"coordinates\":[[-4.5600000000000005,57.304],[1.44,57.304],[1.44,53.304],[-4.5600000000000005,53.304]],\"source\":\"https:\\u002f\\u002flive.staticflickr.com\\u002f65535\\u002f50725161238_2dbd4929d1_m.jpg\",\"sourcetype\":\"image\"},{\"coordinates\":[[4.589,49.543],[10.589,49.543],[10.589,45.543],[4.589,45.543]],\"source\":\"https:\\u002f\\u002flive.staticflickr.com\\u002f65535\\u002f50726010987_d891ef163a_m.jpg\",\"sourcetype\":\"image\"},{\"coordinates\":[[133.9,37.165],[139.9,37.165],[139.9,33.165],[133.9,33.165]],\"source\":\"https:\\u002f\\u002flive.staticflickr.com\\u002f65535\\u002f50725652957_618552a8ce_m.jpg\",\"sourcetype\":\"image\"},{\"coordinates\":[[-74.692,45.757],[-68.692,45.757],[-68.692,41.757],[-74.692,41.757]],\"source\":\"https:\\u002f\\u002flive.staticflickr.com\\u002f65535\\u002f50725274147_2b712b1726_m.jpg\",\"sourcetype\":\"image\"},{\"coordinates\":[[-1.119,46.679],[4.881,46.679],[4.881,42.679],[-1.119,42.679]],\"source\":\"https:\\u002f\\u002flive.staticflickr.com\\u002f65535\\u002f50723562218_7bb160967f_m.jpg\",\"sourcetype\":\"image\"},{\"coordinates\":[[-84.727,28.451],[-78.727,28.451],[-78.727,24.451],[-84.727,24.451]],\"source\":\"https:\\u002f\\u002flive.staticflickr.com\\u002f65535\\u002f50723913481_2984531366_m.jpg\",\"sourcetype\":\"image\"},{\"coordinates\":[[7.673,55.87],[13.673,55.87],[13.673,51.87],[7.673,51.87]],\"source\":\"https:\\u002f\\u002flive.staticflickr.com\\u002f65535\\u002f50723107243_32884fc3d9_m.jpg\",\"sourcetype\":\"image\"},{\"coordinates\":[[-4.998,48.734],[1.002,48.734],[1.002,44.734],[-4.998,44.734]],\"source\":\"https:\\u002f\\u002flive.staticflickr.com\\u002f65535\\u002f50722609428_443465f462_m.jpg\",\"sourcetype\":\"image\"},{\"coordinates\":[[-115.097,39.483],[-109.097,39.483],[-109.097,35.483],[-115.097,35.483]],\"source\":\"https:\\u002f\\u002flive.staticflickr.com\\u002f65535\\u002f50720906643_fde441bccf_m.jpg\",\"sourcetype\":\"image\"},{\"coordinates\":[[148.733,-30.399],[154.733,-30.399],[154.733,-34.399],[148.733,-34.399]],\"source\":\"https:\\u002f\\u002flive.staticflickr.com\\u002f65535\\u002f50721547721_e126d2f3f7_m.jpg\",\"sourcetype\":\"image\"},{\"coordinates\":[[-7.773,43.626],[-1.7729999999999997,43.626],[-1.7729999999999997,39.626],[-7.773,39.626]],\"source\":\"https:\\u002f\\u002flive.staticflickr.com\\u002f65535\\u002f50720679168_ac01983943_m.jpg\",\"sourcetype\":\"image\"},{\"coordinates\":[[-79.836,44.903],[-73.836,44.903],[-73.836,40.903],[-79.836,40.903]],\"source\":\"https:\\u002f\\u002flive.staticflickr.com\\u002f65535\\u002f50720889661_db061577db_m.jpg\",\"sourcetype\":\"image\"},{\"coordinates\":[[-52.723,-26.483],[-46.723,-26.483],[-46.723,-30.483],[-52.723,-30.483]],\"source\":\"https:\\u002f\\u002flive.staticflickr.com\\u002f65535\\u002f50720316486_1ff17ba86f_m.jpg\",\"sourcetype\":\"image\"},{\"coordinates\":[[-80.04,40.99],[-74.04,40.99],[-74.04,36.99],[-80.04,36.99]],\"source\":\"https:\\u002f\\u002flive.staticflickr.com\\u002f65535\\u002f50719893237_6e72b706ed_m.jpg\",\"sourcetype\":\"image\"},{\"coordinates\":[[-4.35,56.53],[1.65,56.53],[1.65,52.53],[-4.35,52.53]],\"source\":\"https:\\u002f\\u002flive.staticflickr.com\\u002f65535\\u002f50719659567_e1a7b66643_m.jpg\",\"sourcetype\":\"image\"},{\"coordinates\":[[36.217,-4.107],[42.217,-4.107],[42.217,-8.107],[36.217,-8.107]],\"source\":\"https:\\u002f\\u002flive.staticflickr.com\\u002f65535\\u002f50716809103_ccfaff51fd_m.jpg\",\"sourcetype\":\"image\"},{\"coordinates\":[[118.578,27.049],[124.578,27.049],[124.578,23.049],[118.578,23.049]],\"source\":\"https:\\u002f\\u002flive.staticflickr.com\\u002f65535\\u002f50715488513_81dd047f15_m.jpg\",\"sourcetype\":\"image\"},{\"coordinates\":[[-3.016,53.454],[2.984,53.454],[2.984,49.454],[-3.016,49.454]],\"source\":\"https:\\u002f\\u002flive.staticflickr.com\\u002f65535\\u002f50715168888_b981fd3125_m.jpg\",\"sourcetype\":\"image\"},{\"coordinates\":[[-73.03,14.5],[-67.03,14.5],[-67.03,10.5],[-73.03,10.5]],\"source\":\"https:\\u002f\\u002flive.staticflickr.com\\u002f65535\\u002f50713625952_e20e82ce6b_m.jpg\",\"sourcetype\":\"image\"},{\"coordinates\":[[-86.701,44.229],[-80.701,44.229],[-80.701,40.229],[-86.701,40.229]],\"source\":\"https:\\u002f\\u002flive.staticflickr.com\\u002f65535\\u002f50714513813_8498d19298_m.jpg\",\"sourcetype\":\"image\"},{\"coordinates\":[[9.872,52.219],[15.872,52.219],[15.872,48.219],[9.872,48.219]],\"source\":\"https:\\u002f\\u002flive.staticflickr.com\\u002f65535\\u002f50715024487_6ebd8e61be_m.jpg\",\"sourcetype\":\"image\"},{\"coordinates\":[[-49.649,-21.591],[-43.649,-21.591],[-43.649,-25.591],[-49.649,-25.591]],\"source\":\"https:\\u002f\\u002flive.staticflickr.com\\u002f65535\\u002f50714212153_d212c59344_m.jpg\",\"sourcetype\":\"image\"},{\"coordinates\":[[-74.828,47.241],[-68.828,47.241],[-68.828,43.241],[-74.828,43.241]],\"source\":\"https:\\u002f\\u002flive.staticflickr.com\\u002f65535\\u002f50714719122_882a26d8de_m.jpg\",\"sourcetype\":\"image\"},{\"coordinates\":[[133.9,37.165],[139.9,37.165],[139.9,33.165],[133.9,33.165]],\"source\":\"https:\\u002f\\u002flive.staticflickr.com\\u002f65535\\u002f50714616851_6fdb7718d5_m.jpg\",\"sourcetype\":\"image\"},{\"coordinates\":[[32.308,0.3740000000000001],[38.308,0.3740000000000001],[38.308,-3.626],[32.308,-3.626]],\"source\":\"https:\\u002f\\u002flive.staticflickr.com\\u002f65535\\u002f50714492792_a986e44380_m.jpg\",\"sourcetype\":\"image\"},{\"coordinates\":[[-3.077,53.564],[2.923,53.564],[2.923,49.564],[-3.077,49.564]],\"source\":\"https:\\u002f\\u002flive.staticflickr.com\\u002f65535\\u002f50713745027_ba448bac25_m.jpg\",\"sourcetype\":\"image\"},{\"coordinates\":[[142.003,-35.793],[148.003,-35.793],[148.003,-39.793],[142.003,-39.793]],\"source\":\"https:\\u002f\\u002flive.staticflickr.com\\u002f65535\\u002f50713165217_d55d369de8_m.jpg\",\"sourcetype\":\"image\"},{\"coordinates\":[[-108.545,52.388],[-102.545,52.388],[-102.545,48.388],[-108.545,48.388]],\"source\":\"https:\\u002f\\u002flive.staticflickr.com\\u002f65535\\u002f50712206493_903bd43ecc_m.jpg\",\"sourcetype\":\"image\"},{\"coordinates\":[[128.297,-10.558],[134.297,-10.558],[134.297,-14.558],[128.297,-14.558]],\"source\":\"https:\\u002f\\u002flive.staticflickr.com\\u002f65535\\u002f50712920291_bf74b266b3_m.jpg\",\"sourcetype\":\"image\"},{\"coordinates\":[[168.017,-40.957],[174.017,-40.957],[174.017,-44.957],[168.017,-44.957]],\"source\":\"https:\\u002f\\u002flive.staticflickr.com\\u002f65535\\u002f50712223011_c8d2541ccc_m.jpg\",\"sourcetype\":\"image\"},{\"coordinates\":[[-87.744,38.537],[-81.744,38.537],[-81.744,34.537],[-87.744,34.537]],\"source\":\"https:\\u002f\\u002flive.staticflickr.com\\u002f65535\\u002f50712130531_cfc0e18e52_m.jpg\",\"sourcetype\":\"image\"},{\"coordinates\":[[-90.838,43.831],[-84.838,43.831],[-84.838,39.831],[-90.838,39.831]],\"source\":\"https:\\u002f\\u002flive.staticflickr.com\\u002f65535\\u002f50711010667_bb445239a2_m.jpg\",\"sourcetype\":\"image\"},{\"coordinates\":[[-6.029,56.448],[-0.028999999999999915,56.448],[-0.028999999999999915,52.448],[-6.029,52.448]],\"source\":\"https:\\u002f\\u002flive.staticflickr.com\\u002f65535\\u002f50708802618_e60a006659_m.jpg\",\"sourcetype\":\"image\"},{\"coordinates\":[[-4.475,54.369],[1.525,54.369],[1.525,50.369],[-4.475,50.369]],\"source\":\"https:\\u002f\\u002flive.staticflickr.com\\u002f65535\\u002f50709455012_c133a14e51_m.jpg\",\"sourcetype\":\"image\"},{\"coordinates\":[[171.764,-39.329],[177.764,-39.329],[177.764,-43.329],[171.764,-43.329]],\"source\":\"https:\\u002f\\u002flive.staticflickr.com\\u002f65535\\u002f50709106446_5fc036cef8_m.jpg\",\"sourcetype\":\"image\"},{\"coordinates\":[[-98.996,38.153],[-92.996,38.153],[-92.996,34.153],[-98.996,34.153]],\"source\":\"https:\\u002f\\u002flive.staticflickr.com\\u002f65535\\u002f50708984641_bfac6bb848_m.jpg\",\"sourcetype\":\"image\"},{\"coordinates\":[[30.049,36.675],[36.049,36.675],[36.049,32.675],[30.049,32.675]],\"source\":\"https:\\u002f\\u002flive.staticflickr.com\\u002f65535\\u002f50708065768_41ae123dd1_m.jpg\",\"sourcetype\":\"image\"},{\"coordinates\":[[30.048000000000002,36.675],[36.048,36.675],[36.048,32.675],[30.048000000000002,32.675]],\"source\":\"https:\\u002f\\u002flive.staticflickr.com\\u002f65535\\u002f50708060148_b4fd035670_m.jpg\",\"sourcetype\":\"image\"},{\"coordinates\":[[118.527,27.098],[124.527,27.098],[124.527,23.098],[118.527,23.098]],\"source\":\"https:\\u002f\\u002flive.staticflickr.com\\u002f65535\\u002f50708033121_875e809965_m.jpg\",\"sourcetype\":\"image\"},{\"coordinates\":[[-94.661,43.965],[-88.661,43.965],[-88.661,39.965],[-94.661,39.965]],\"source\":\"https:\\u002f\\u002flive.staticflickr.com\\u002f65535\\u002f50706905018_4e22013f32_m.jpg\",\"sourcetype\":\"image\"},{\"coordinates\":[[-9.386,60.212],[-3.386,60.212],[-3.386,56.212],[-9.386,56.212]],\"source\":\"https:\\u002f\\u002flive.staticflickr.com\\u002f65535\\u002f50706822748_b44da685ec_m.jpg\",\"sourcetype\":\"image\"},{\"coordinates\":[[8.343,46.494],[14.343,46.494],[14.343,42.494],[8.343,42.494]],\"source\":\"https:\\u002f\\u002flive.staticflickr.com\\u002f65535\\u002f50705908193_fb569d95de_m.jpg\",\"sourcetype\":\"image\"},{\"coordinates\":[[8.343,46.494],[14.343,46.494],[14.343,42.494],[8.343,42.494]],\"source\":\"https:\\u002f\\u002flive.staticflickr.com\\u002f65535\\u002f50706522782_1e5218533a_m.jpg\",\"sourcetype\":\"image\"},{\"coordinates\":[[-4.725,52.734],[1.275,52.734],[1.275,48.734],[-4.725,48.734]],\"source\":\"https:\\u002f\\u002flive.staticflickr.com\\u002f65535\\u002f50706353031_c43f289756_m.jpg\",\"sourcetype\":\"image\"},{\"coordinates\":[[97.811,15.742],[103.811,15.742],[103.811,11.742],[97.811,11.742]],\"source\":\"https:\\u002f\\u002flive.staticflickr.com\\u002f65535\\u002f50706359007_94d8be9440_m.jpg\",\"sourcetype\":\"image\"},{\"coordinates\":[[-67.324,-29.317],[-61.324,-29.317],[-61.324,-33.317],[-67.324,-33.317]],\"source\":\"https:\\u002f\\u002flive.staticflickr.com\\u002f65535\\u002f50706223831_38b3e11043_m.jpg\",\"sourcetype\":\"image\"},{\"coordinates\":[[-3.133,53.516],[2.867,53.516],[2.867,49.516],[-3.133,49.516]],\"source\":\"https:\\u002f\\u002flive.staticflickr.com\\u002f65535\\u002f50706050407_5f4b5d6985_m.jpg\",\"sourcetype\":\"image\"},{\"coordinates\":[[-120.256,34.796],[-114.256,34.796],[-114.256,30.796],[-120.256,30.796]],\"source\":\"https:\\u002f\\u002flive.staticflickr.com\\u002f65535\\u002f50704150333_38c90e8660_m.jpg\",\"sourcetype\":\"image\"},{\"coordinates\":[[-82.866,41.628],[-76.866,41.628],[-76.866,37.628],[-82.866,37.628]],\"source\":\"https:\\u002f\\u002flive.staticflickr.com\\u002f65535\\u002f50704425047_e1066f43bd_m.jpg\",\"sourcetype\":\"image\"},{\"coordinates\":[[109.174,36.719],[115.174,36.719],[115.174,32.719],[109.174,32.719]],\"source\":\"https:\\u002f\\u002flive.staticflickr.com\\u002f65535\\u002f50704369897_1cc641d98c_m.jpg\",\"sourcetype\":\"image\"},{\"coordinates\":[[109.688,36.684],[115.688,36.684],[115.688,32.684],[109.688,32.684]],\"source\":\"https:\\u002f\\u002flive.staticflickr.com\\u002f65535\\u002f50703480048_43f0fbcfa5_m.jpg\",\"sourcetype\":\"image\"},{\"coordinates\":[[129.454,36.399],[135.454,36.399],[135.454,32.399],[129.454,32.399]],\"source\":\"https:\\u002f\\u002flive.staticflickr.com\\u002f65535\\u002f50703899251_48b3741201_m.jpg\",\"sourcetype\":\"image\"},{\"coordinates\":[[-76.816,42.952],[-70.816,42.952],[-70.816,38.952],[-76.816,38.952]],\"source\":\"https:\\u002f\\u002flive.staticflickr.com\\u002f65535\\u002f50703002013_f383020a4e_m.jpg\",\"sourcetype\":\"image\"},{\"coordinates\":[[5.552,48.602],[11.552,48.602],[11.552,44.602],[5.552,44.602]],\"source\":\"https:\\u002f\\u002flive.staticflickr.com\\u002f65535\\u002f50702794233_5e82d92a25_m.jpg\",\"sourcetype\":\"image\"},{\"coordinates\":[[-127.424,45.124],[-121.424,45.124],[-121.424,41.124],[-127.424,41.124]],\"source\":\"https:\\u002f\\u002flive.staticflickr.com\\u002f65535\\u002f50702842341_f1b0fb3af1_m.jpg\",\"sourcetype\":\"image\"},{\"coordinates\":[[-74.346,45.128],[-68.346,45.128],[-68.346,41.128],[-74.346,41.128]],\"source\":\"https:\\u002f\\u002flive.staticflickr.com\\u002f65535\\u002f50702710406_887bf8d687_m.jpg\",\"sourcetype\":\"image\"},{\"coordinates\":[[-11.628,54.662],[-5.628,54.662],[-5.628,50.662],[-11.628,50.662]],\"source\":\"https:\\u002f\\u002flive.staticflickr.com\\u002f65535\\u002f50702157652_b2bc9a55e4_m.jpg\",\"sourcetype\":\"image\"},{\"coordinates\":[[-74.325,43.52],[-68.325,43.52],[-68.325,39.52],[-74.325,39.52]],\"source\":\"https:\\u002f\\u002flive.staticflickr.com\\u002f65535\\u002f50701369706_78f6fc940f_m.jpg\",\"sourcetype\":\"image\"},{\"coordinates\":[[-84.843,28.657],[-78.843,28.657],[-78.843,24.657],[-84.843,24.657]],\"source\":\"https:\\u002f\\u002flive.staticflickr.com\\u002f65535\\u002f50701219707_18af095b3b_m.jpg\",\"sourcetype\":\"image\"},{\"coordinates\":[[139.325,45.328],[145.325,45.328],[145.325,41.328],[139.325,41.328]],\"source\":\"https:\\u002f\\u002flive.staticflickr.com\\u002f65535\\u002f50701176206_35622af97a_m.jpg\",\"sourcetype\":\"image\"},{\"coordinates\":[[-78.865,41.466],[-72.865,41.466],[-72.865,37.466],[-78.865,37.466]],\"source\":\"https:\\u002f\\u002flive.staticflickr.com\\u002f65535\\u002f50701139026_7ea94e8f15_m.jpg\",\"sourcetype\":\"image\"},{\"coordinates\":[[-87.54,41.163],[-81.54,41.163],[-81.54,37.163],[-87.54,37.163]],\"source\":\"https:\\u002f\\u002flive.staticflickr.com\\u002f65535\\u002f50700682126_2ba50cc904_m.jpg\",\"sourcetype\":\"image\"},{\"coordinates\":[[-75.729,42.826],[-69.729,42.826],[-69.729,38.826],[-75.729,38.826]],\"source\":\"https:\\u002f\\u002flive.staticflickr.com\\u002f65535\\u002f50699449688_367b202d2f_m.jpg\",\"sourcetype\":\"image\"},{\"coordinates\":[[9.893,50.792],[15.893,50.792],[15.893,46.792],[9.893,46.792]],\"source\":\"https:\\u002f\\u002flive.staticflickr.com\\u002f65535\\u002f50699325858_35032441e8_m.jpg\",\"sourcetype\":\"image\"},{\"coordinates\":[[13.372,50.209],[19.372,50.209],[19.372,46.209],[13.372,46.209]],\"source\":\"https:\\u002f\\u002flive.staticflickr.com\\u002f65535\\u002f50699171963_ac846d5815_m.jpg\",\"sourcetype\":\"image\"},{\"coordinates\":[[5.066000000000001,61.852],[11.066,61.852],[11.066,57.852],[5.066000000000001,57.852]],\"source\":\"https:\\u002f\\u002flive.staticflickr.com\\u002f65535\\u002f50699670641_0f98895a34_m.jpg\",\"sourcetype\":\"image\"},{\"coordinates\":[[-86.06,44.309],[-80.06,44.309],[-80.06,40.309],[-86.06,40.309]],\"source\":\"https:\\u002f\\u002flive.staticflickr.com\\u002f65535\\u002f50698436548_c7b8b5835e_m.jpg\",\"sourcetype\":\"image\"},{\"coordinates\":[[8.144,53.789],[14.144,53.789],[14.144,49.789],[8.144,49.789]],\"source\":\"https:\\u002f\\u002flive.staticflickr.com\\u002f65535\\u002f50699165322_23ec1becab_m.jpg\",\"sourcetype\":\"image\"},{\"coordinates\":[[-63.548,48.184],[-57.548,48.184],[-57.548,44.184],[-63.548,44.184]],\"source\":\"https:\\u002f\\u002flive.staticflickr.com\\u002f65535\\u002f50628328487_d565654533_m.jpg\",\"sourcetype\":\"image\"},{\"coordinates\":[[110.778,24.679],[116.778,24.679],[116.778,20.679],[110.778,20.679]],\"source\":\"https:\\u002f\\u002flive.staticflickr.com\\u002f65535\\u002f50697766967_48a4a30a62_m.jpg\",\"sourcetype\":\"image\"},{\"coordinates\":[[-4.787,53.683],[1.213,53.683],[1.213,49.683],[-4.787,49.683]],\"source\":\"https:\\u002f\\u002flive.staticflickr.com\\u002f65535\\u002f50697590551_b329fbc54e_m.jpg\",\"sourcetype\":\"image\"},{\"coordinates\":[[-3.092,53.42],[2.908,53.42],[2.908,49.42],[-3.092,49.42]],\"source\":\"https:\\u002f\\u002flive.staticflickr.com\\u002f65535\\u002f50696220633_dd974a4d6f_m.jpg\",\"sourcetype\":\"image\"},{\"coordinates\":[[-6.606,39.163],[-0.6059999999999999,39.163],[-0.6059999999999999,35.163],[-6.606,35.163]],\"source\":\"https:\\u002f\\u002flive.staticflickr.com\\u002f65535\\u002f50696928322_6dfdf59943_m.jpg\",\"sourcetype\":\"image\"},{\"coordinates\":[[3.3739999999999997,48.043],[9.373999999999999,48.043],[9.373999999999999,44.043],[3.3739999999999997,44.043]],\"source\":\"https:\\u002f\\u002flive.staticflickr.com\\u002f65535\\u002f50695427403_c55d8d9123_m.jpg\",\"sourcetype\":\"image\"},{\"coordinates\":[[-75.807,42.804],[-69.807,42.804],[-69.807,38.804],[-75.807,38.804]],\"source\":\"https:\\u002f\\u002flive.staticflickr.com\\u002f65535\\u002f50696215481_17c324d31c_m.jpg\",\"sourcetype\":\"image\"},{\"coordinates\":[[-5.934,56.898],[0.06599999999999984,56.898],[0.06599999999999984,52.898],[-5.934,52.898]],\"source\":\"https:\\u002f\\u002flive.staticflickr.com\\u002f65535\\u002f50695081378_7f30d5bd79_m.jpg\",\"sourcetype\":\"image\"},{\"coordinates\":[[-1.611,45.611],[4.389,45.611],[4.389,41.611],[-1.611,41.611]],\"source\":\"https:\\u002f\\u002flive.staticflickr.com\\u002f65535\\u002f50694312458_a91301c490_m.jpg\",\"sourcetype\":\"image\"},{\"coordinates\":[[141.952,-35.818],[147.952,-35.818],[147.952,-39.818],[141.952,-39.818]],\"source\":\"https:\\u002f\\u002flive.staticflickr.com\\u002f65535\\u002f50693902308_77f09f2c86_m.jpg\",\"sourcetype\":\"image\"},{\"coordinates\":[[118.563,24.018],[124.563,24.018],[124.563,20.018],[118.563,20.018]],\"source\":\"https:\\u002f\\u002flive.staticflickr.com\\u002f65535\\u002f50694488676_9d991c4701_m.jpg\",\"sourcetype\":\"image\"},{\"coordinates\":[[10.0,57.602],[16.0,57.602],[16.0,53.602],[10.0,53.602]],\"source\":\"https:\\u002f\\u002flive.staticflickr.com\\u002f65535\\u002f50692887037_0ceea1d9b3_m.jpg\",\"sourcetype\":\"image\"},{\"coordinates\":[[-4.616,56.963],[1.384,56.963],[1.384,52.963],[-4.616,52.963]],\"source\":\"https:\\u002f\\u002flive.staticflickr.com\\u002f65535\\u002f50691884473_ffcdb587d1_m.jpg\",\"sourcetype\":\"image\"},{\"coordinates\":[[3.567,55.225],[9.567,55.225],[9.567,51.225],[3.567,51.225]],\"source\":\"https:\\u002f\\u002flive.staticflickr.com\\u002f65535\\u002f50692433282_7b7db7832a_m.jpg\",\"sourcetype\":\"image\"},{\"coordinates\":[[3.1159999999999997,47.594],[9.116,47.594],[9.116,43.594],[3.1159999999999997,43.594]],\"source\":\"https:\\u002f\\u002flive.staticflickr.com\\u002f65535\\u002f50691912707_ecd83038cc_m.jpg\",\"sourcetype\":\"image\"},{\"coordinates\":[[-3.863,54.248],[2.137,54.248],[2.137,50.248],[-3.863,50.248]],\"source\":\"https:\\u002f\\u002flive.staticflickr.com\\u002f65535\\u002f50690898493_9e79bb9528_m.jpg\",\"sourcetype\":\"image\"},{\"coordinates\":[[2.95,52.889],[8.95,52.889],[8.95,48.889],[2.95,48.889]],\"source\":\"https:\\u002f\\u002flive.staticflickr.com\\u002f65535\\u002f50690566711_60ffd8ddce_m.jpg\",\"sourcetype\":\"image\"},{\"coordinates\":[[-5.615,53.449],[0.3849999999999998,53.449],[0.3849999999999998,49.449],[-5.615,49.449]],\"source\":\"https:\\u002f\\u002flive.staticflickr.com\\u002f65535\\u002f50689363478_e8a0bf87e3_m.jpg\",\"sourcetype\":\"image\"},{\"coordinates\":[[8.308,46.493],[14.308,46.493],[14.308,42.493],[8.308,42.493]],\"source\":\"https:\\u002f\\u002flive.staticflickr.com\\u002f65535\\u002f50690069497_8b4c0f38ab_m.jpg\",\"sourcetype\":\"image\"},{\"coordinates\":[[8.051,56.446],[14.051,56.446],[14.051,52.446],[8.051,52.446]],\"source\":\"https:\\u002f\\u002flive.staticflickr.com\\u002f65535\\u002f50689820851_470ff4acf1_m.jpg\",\"sourcetype\":\"image\"},{\"coordinates\":[[141.81,-35.86],[147.81,-35.86],[147.81,-39.86],[141.81,-39.86]],\"source\":\"https:\\u002f\\u002flive.staticflickr.com\\u002f65535\\u002f50689856337_65948621d9_m.jpg\",\"sourcetype\":\"image\"},{\"coordinates\":[[-84.005,31.222],[-78.005,31.222],[-78.005,27.222],[-84.005,27.222]],\"source\":\"https:\\u002f\\u002flive.staticflickr.com\\u002f65535\\u002f50689250456_387501403d_m.jpg\",\"sourcetype\":\"image\"},{\"coordinates\":[[-82.071,37.911],[-76.071,37.911],[-76.071,33.911],[-82.071,33.911]],\"source\":\"https:\\u002f\\u002flive.staticflickr.com\\u002f65535\\u002f50688592497_909336f801_m.jpg\",\"sourcetype\":\"image\"},{\"coordinates\":[[-77.277,42.84],[-71.277,42.84],[-71.277,38.84],[-77.277,38.84]],\"source\":\"https:\\u002f\\u002flive.staticflickr.com\\u002f65535\\u002f50688534567_252280a186_m.jpg\",\"sourcetype\":\"image\"},{\"coordinates\":[[1.4969999999999999,53.916],[7.497,53.916],[7.497,49.916],[1.4969999999999999,49.916]],\"source\":\"https:\\u002f\\u002flive.staticflickr.com\\u002f65535\\u002f50687558991_ee7aca47d0_m.jpg\",\"sourcetype\":\"image\"},{\"coordinates\":[[-83.438,34.376],[-77.438,34.376],[-77.438,30.375999999999998],[-83.438,30.375999999999998]],\"source\":\"https:\\u002f\\u002flive.staticflickr.com\\u002f65535\\u002f50685761718_a3eb121b25_m.jpg\",\"sourcetype\":\"image\"},{\"coordinates\":[[147.61,-32.169],[153.61,-32.169],[153.61,-36.169],[147.61,-36.169]],\"source\":\"https:\\u002f\\u002flive.staticflickr.com\\u002f65535\\u002f50686075146_3fea7042e9_m.jpg\",\"sourcetype\":\"image\"},{\"coordinates\":[[-117.019,48.924],[-111.019,48.924],[-111.019,44.924],[-117.019,44.924]],\"source\":\"https:\\u002f\\u002flive.staticflickr.com\\u002f65535\\u002f50685036578_28564cfa2e_m.jpg\",\"sourcetype\":\"image\"},{\"coordinates\":[[12.349,42.091],[18.349,42.091],[18.349,38.091],[12.349,38.091]],\"source\":\"https:\\u002f\\u002flive.staticflickr.com\\u002f65535\\u002f50685022123_eabf9f2b23_m.jpg\",\"sourcetype\":\"image\"},{\"coordinates\":[[-79.964,40.23],[-73.964,40.23],[-73.964,36.23],[-79.964,36.23]],\"source\":\"https:\\u002f\\u002flive.staticflickr.com\\u002f65535\\u002f50685267327_8b663d3b58_m.jpg\",\"sourcetype\":\"image\"},{\"coordinates\":[[-90.625,43.887],[-84.625,43.887],[-84.625,39.887],[-90.625,39.887]],\"source\":\"https:\\u002f\\u002flive.staticflickr.com\\u002f65535\\u002f50684575362_fa8ab0c13a_m.jpg\",\"sourcetype\":\"image\"},{\"coordinates\":[[-83.324,29.419],[-77.324,29.419],[-77.324,25.419],[-83.324,25.419]],\"source\":\"https:\\u002f\\u002flive.staticflickr.com\\u002f65535\\u002f50683832188_c12b2dcdd7_m.jpg\",\"sourcetype\":\"image\"},{\"coordinates\":[[-7.867,57.714],[-1.867,57.714],[-1.867,53.714],[-7.867,53.714]],\"source\":\"https:\\u002f\\u002flive.staticflickr.com\\u002f65535\\u002f50684403077_b08c665ce7_m.jpg\",\"sourcetype\":\"image\"},{\"coordinates\":[[-84.418,33.117000000000004],[-78.418,33.117000000000004],[-78.418,29.117],[-84.418,29.117]],\"source\":\"https:\\u002f\\u002flive.staticflickr.com\\u002f65535\\u002f50683930526_443ed1dfb4_m.jpg\",\"sourcetype\":\"image\"},{\"coordinates\":[[-123.656,50.481],[-117.656,50.481],[-117.656,46.481],[-123.656,46.481]],\"source\":\"https:\\u002f\\u002flive.staticflickr.com\\u002f65535\\u002f50683827387_f77222c7e4_m.jpg\",\"sourcetype\":\"image\"}]},\"title\":{\"text\":\"U.S. States Boundaries\"}},                        {\"responsive\": true}                    ).then(function(){\n",
       "                            \n",
       "var gd = document.getElementById('8ab1d600-9e19-4b77-a8a6-d3c0ef8979ef');\n",
       "var x = new MutationObserver(function (mutations, observer) {{\n",
       "        var display = window.getComputedStyle(gd).display;\n",
       "        if (!display || display === 'none') {{\n",
       "            console.log([gd, 'removed!']);\n",
       "            Plotly.purge(gd);\n",
       "            observer.disconnect();\n",
       "        }}\n",
       "}});\n",
       "\n",
       "// Listen for the removal of the full notebook cells\n",
       "var notebookContainer = gd.closest('#notebook-container');\n",
       "if (notebookContainer) {{\n",
       "    x.observe(notebookContainer, {childList: true});\n",
       "}}\n",
       "\n",
       "// Listen for the clearing of the current output cell\n",
       "var outputEl = gd.closest('.output');\n",
       "if (outputEl) {{\n",
       "    x.observe(outputEl, {childList: true});\n",
       "}}\n",
       "\n",
       "                        })                };                });            </script>        </div>"
      ]
     },
     "metadata": {},
     "output_type": "display_data"
    }
   ],
   "source": [
    "## Creates map\n",
    "fig3 = go.Figure(go.Scattermapbox())\n",
    "mapbox2 = dict(zoom=2, \n",
    "              accesstoken=\"pk.eyJ1IjoicnlhbnZhY2hlIiwiYSI6ImNtMzlicGE5bTEwY3gyanB0NnRpMjlxYncifQ.l9JCx0KgfP0bFE9ND4NwDw\",\n",
    "              style='carto-darkmatter',  #set here your prefered mapbox style \n",
    "              center=dict(\n",
    "                        lat=43, \n",
    "                        lon=-75.5), \n",
    "              layers=[]\n",
    "              )      \n",
    "\n",
    "for index, row in data.iterrows() :\n",
    "                   mapbox2['layers'].append(dict(\n",
    "                            #below ='',    \n",
    "                            source = row['url_s'], \n",
    "                            sourcetype= \"image\", \n",
    "                            coordinates =  coords(row['longitude'], row['latitude'])\n",
    "                          ))\n",
    "\n",
    "fig3.update_layout(mapbox=mapbox2,\n",
    "    mapbox_style=\"carto-positron\",  # Choose a Mapbox style\n",
    "    mapbox_zoom=2,  # Set the zoom level\n",
    "    mapbox_center={\"lat\": 37.0902, \"lon\": -95.7129},  # Center of the U.S.\n",
    "    title=\"U.S. States Boundaries\"\n",
    ")"
   ]
  },
  {
   "cell_type": "code",
   "execution_count": null,
   "id": "7e4d6905-d186-4dbf-9b1d-52dfc4dd8ce7",
   "metadata": {},
   "outputs": [],
   "source": []
  },
  {
   "cell_type": "code",
   "execution_count": null,
   "id": "63ed9581-d80f-4975-be10-c79ea9d4f814",
   "metadata": {},
   "outputs": [],
   "source": []
  }
 ],
 "metadata": {
  "kernelspec": {
   "display_name": "Python 3 (ipykernel)",
   "language": "python",
   "name": "python3"
  },
  "language_info": {
   "codemirror_mode": {
    "name": "ipython",
    "version": 3
   },
   "file_extension": ".py",
   "mimetype": "text/x-python",
   "name": "python",
   "nbconvert_exporter": "python",
   "pygments_lexer": "ipython3",
   "version": "3.12.7"
  }
 },
 "nbformat": 4,
 "nbformat_minor": 5
}
